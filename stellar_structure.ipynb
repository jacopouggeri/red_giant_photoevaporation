{
 "cells": [
  {
   "cell_type": "code",
   "execution_count": 2,
   "metadata": {},
   "outputs": [],
   "source": [
    "import numpy as np\n",
    "import matplotlib.pyplot as plt\n",
    "from scipy.integrate import solve_ivp\n",
    "from scipy.optimize import brentq, bisect, minimize\n",
    "from scipy.interpolate import interp1d, LinearNDInterpolator\n",
    "\n",
    "from ifront_guess import surface_density\n",
    "\n",
    "import astropy.units as u"
   ]
  },
  {
   "cell_type": "code",
   "execution_count": 3,
   "metadata": {},
   "outputs": [],
   "source": [
    "from astropy.constants import R as R_gas, G\n",
    "k = 1e-2 * u.cm**2/u.g # opacity"
   ]
  },
  {
   "cell_type": "code",
   "execution_count": 4,
   "metadata": {},
   "outputs": [],
   "source": [
    "def speed_of_sound(T, mu):\n",
    "    \"\"\"Find speed of soundin a gas from temperature and mean molecular mass.\n",
    "\n",
    "    Parameters\n",
    "    ----------\n",
    "    T : float\n",
    "        Temperature in Kelvin.\n",
    "    mu : float\n",
    "        Mean molecular mass in unit of hydrogen atoms.\n",
    "\n",
    "    Returns\n",
    "    -------\n",
    "    float\n",
    "       Speed of sound.\n",
    "    \"\"\"\n",
    "    return np.sqrt(R_gas*T/mu)"
   ]
  },
  {
   "cell_type": "code",
   "execution_count": 5,
   "metadata": {},
   "outputs": [],
   "source": [
    "def adiabatic_factor(T, rho, mu, gamma = 5/3):\n",
    "    \"\"\"Find adiabatic factor K from temperature, density, mean molecular mass and adiabatic exponent.\n",
    "\n",
    "    Parameters\n",
    "    ----------\n",
    "    T : float\n",
    "        Temperature in Kelvin.\n",
    "    rho : float\n",
    "        Density in g/cm3\n",
    "    mu : float\n",
    "        Mean molecular mass in unit of hydrogen atoms.\n",
    "    gamma : _type_\n",
    "        aAiabatic exponent (usually 5/3 for nonrelativistic gas)\n",
    "\n",
    "    Returns\n",
    "    -------\n",
    "    _type_\n",
    "        _description_\n",
    "    \"\"\"\n",
    "    return (R_gas*T)/(mu * rho**(gamma - 1))"
   ]
  },
  {
   "attachments": {},
   "cell_type": "markdown",
   "metadata": {},
   "source": [
    "### Mass-radius relation\n",
    "For nonrelativistic degenerate objects:\n",
    "\n",
    "$$RM^{1/3} = \\eta$$\n",
    "\n",
    "so for given $\\eta$:\n",
    "$$M = \\bigg(\\frac{\\eta}{R}\\bigg)^3 $$"
   ]
  },
  {
   "cell_type": "code",
   "execution_count": 6,
   "metadata": {},
   "outputs": [],
   "source": [
    "# Find core radius from mass\n",
    "def degenerate_core_radius(M_o):\n",
    "    \"\"\"Find radius of core from its mass assuming it's composed of degenerate matter.\n",
    "\n",
    "    Parameters\n",
    "    ----------\n",
    "    M_o : float\n",
    "        Mass of stellar core.\n",
    "\n",
    "    Returns\n",
    "    -------\n",
    "    float\n",
    "        Radius of stellar core\n",
    "    \"\"\"\n",
    "    M_wd = (1898.13 * 1e24 * u.kg).to(u.solMass)\n",
    "    R_wd = (71492 * u.km).to(u.astronomical_unit)\n",
    "    eta = R_wd*((M_wd)**(1/3))\n",
    "    return eta*M_o**(-1/3)"
   ]
  },
  {
   "attachments": {},
   "cell_type": "markdown",
   "metadata": {},
   "source": [
    "## To do:\n",
    "\n",
    "- How core mass and radius are related to other parameters?\n",
    "- Find core radius by shooting inwards and matching temperature profile (know T at atmosphere and core), profile is adiabatic\n",
    "$$T(R_s) = F(R_s, T(R_o))$$\n",
    "- Match mass:\n",
    "$$M_e = M_s - M_o$$\n",
    "$$M_e = \\int_{R_o}^{R_s} \\rho (R) dR = M_e(R_s)$$\n",
    "- Find radius after mass has been removed"
   ]
  },
  {
   "attachments": {},
   "cell_type": "markdown",
   "metadata": {},
   "source": [
    "## Adiabatic profile\n",
    "\n",
    "Assuming $P = K\\rho^{\\gamma}$ and hydrostatic balance ($\\frac{dP}{dR} = -\\frac{G M(<R)}{R^2} \\rho$) one obtains:\n",
    "$$\\frac{dT}{dR} = - \\frac{\\gamma - 1}{\\gamma}\\frac{\\mu}{R_{gas}}g$$\n",
    "where $g = \\frac{GM(<R)}{R^2}$ is the local acceleration of gravity"
   ]
  },
  {
   "attachments": {},
   "cell_type": "markdown",
   "metadata": {},
   "source": [
    "## Reframe equation\n",
    "Three quantities, T and $m = M(<R)$ and $\\rho$.\n",
    "\n",
    "$$\\frac{dT}{dR} = - \\frac{\\gamma - 1}{\\gamma}\\frac{\\mu}{R_{gas}}\\frac{Gm}{R^2}$$\n",
    "$$\\frac{dm}{dR} = 4 \\pi R^2 \\rho(R)$$\n",
    "$$\\frac{d \\rho}{dR} = - \\frac{G}{K \\gamma} \\frac{m \\rho^{2-\\gamma}}{R^2}$$\n",
    "\n",
    "with boundary conditions:\n",
    "\n",
    "$$T(R_s) = T_s$$\n",
    "$$m(R_s) = M_s$$\n",
    "$$\\rho(R_s) = \\rho_s$$\n",
    "\n"
   ]
  },
  {
   "cell_type": "code",
   "execution_count": 7,
   "metadata": {},
   "outputs": [],
   "source": [
    "# Cast differential equation to function\n",
    "def profile_fun(R, y, gamma, K, mu):\n",
    "    \"\"\"Recasting of differential equation for numerical integration.\n",
    "\n",
    "    Parameters\n",
    "    ----------\n",
    "    R : float\n",
    "        Radial distance from the center of the star.\n",
    "    y : list\n",
    "        List of three arrays with the same length as R. They represent temperature (T), mass (m) and density (rho) respectively.\n",
    "    gamma : float\n",
    "        Adiabatic exponent\n",
    "    K : float\n",
    "        Adiabatic factor, proportionality constant between pressure and power of density.\n",
    "    mu : float\n",
    "        Mean molecular mass in unit of hydrogen atoms.\n",
    "\n",
    "    Returns\n",
    "    -------\n",
    "    list\n",
    "        List of three arrays with the same length as R. They represent the R derivatives of temperature (T), mass (m) and density (rho) respectively.\n",
    "    \"\"\"\n",
    "    dTdR = (- (gamma - 1)/gamma)*(mu*G.value/R_gas.value)*(y[1]/R**2)\n",
    "    dmdR = 4*np.pi*(R**2)*y[2]\n",
    "    drhodR = - (G.value/(gamma*K))*(y[1]*y[2]**(2-gamma)/R**2)\n",
    "    return [dTdR, dmdR, drhodR]"
   ]
  },
  {
   "cell_type": "code",
   "execution_count": 8,
   "metadata": {},
   "outputs": [],
   "source": [
    "# Remove units for calculation\n",
    "def remove_units(vals):\n",
    "    bases = [u.astronomical_unit, u.solMass, u.K, u.a, u.mol]\n",
    "    res = []\n",
    "    for val in vals:\n",
    "        convert = val\n",
    "        if isinstance(val, u.quantity.Quantity):\n",
    "            convert = val.decompose().value\n",
    "        res.append(convert)\n",
    "    return tuple(res)"
   ]
  },
  {
   "cell_type": "code",
   "execution_count": 9,
   "metadata": {},
   "outputs": [],
   "source": [
    "def adiabatic_profile(R_s, T_s, M_s, M_o, gamma, mu):\n",
    "    \"\"\"Numerically integrate shooting inwards to find temperature, enclosed mass and density as a function of radial distance from the surface of the star.\n",
    "\n",
    "    Parameters\n",
    "    ----------\n",
    "    R_s : float\n",
    "        Guess of outer radius of the star.\n",
    "    T_s : float\n",
    "        Guess of surface temperature of the star.\n",
    "    M_s : float\n",
    "        Mass of the star.\n",
    "    M_o : float\n",
    "        Mass of the helium core of the star.\n",
    "    gamma : float\n",
    "        Adiabatic exponent.\n",
    "    mu : float\n",
    "        Mean molecular mass in unit of hydrogen atoms.\n",
    "\n",
    "    Returns\n",
    "    -------\n",
    "    _type_\n",
    "        _description_\n",
    "    \"\"\"\n",
    "    # Integrate shooting inwards to find density profile\n",
    "    c_s = speed_of_sound(T_s, mu)\n",
    "    rho_s = 1e-12 * u.g / u.cm**3 # pick small value since density gets arbitrarily low at the surface\n",
    "    K = adiabatic_factor(T_s, rho_s, mu, gamma)\n",
    "    R_o = degenerate_core_radius(M_o) # Find core radius by knowing core is degenerate\n",
    "\n",
    "    #remove units for integration\n",
    "    R_s, R_o, T_s, M_s, rho_s, K, mu = remove_units((R_s, R_o, T_s, M_s, rho_s, K, mu))\n",
    "    \n",
    "    # Integration span\n",
    "    R_span = [R_s, R_o] \n",
    "    R_eval = np.linspace(R_s, R_o, 500)\n",
    "\n",
    "    # Set initial conditions\n",
    "    y0 = [T_s, M_s, rho_s]\n",
    "\n",
    "    # Solve\n",
    "    sol = solve_ivp(profile_fun, R_span, y0 = y0, args=(gamma, K, mu), t_eval=R_eval)\n",
    "    return sol"
   ]
  },
  {
   "attachments": {},
   "cell_type": "markdown",
   "metadata": {},
   "source": [
    "## Try for some values"
   ]
  },
  {
   "cell_type": "code",
   "execution_count": 10,
   "metadata": {},
   "outputs": [
    {
     "name": "stdout",
     "output_type": "stream",
     "text": [
      "0.075 solMass 0.00011157964135706012 AU\n",
      "32065355.12860304 kg / m3\n"
     ]
    }
   ],
   "source": [
    "# Fixed parameter list\n",
    "mu = 0.5 * u.g / u.mol # mean molecular weight in units of hydrogen mass\n",
    "M_s = 1.5 * u.solMass # Star mass\n",
    "M_o = 0.075 * u.solMass # Core mass\n",
    "gamma = 4/3 + 1e-12 # Adiabatic exponent\n",
    "T_o = 4e6 *u.K # Hydrogen burning temperature\n",
    "\n",
    "R_o = degenerate_core_radius(M_o) # Core radius\n",
    "print(M_o, R_o)\n",
    "print((M_o/R_o**3).decompose())"
   ]
  },
  {
   "cell_type": "code",
   "execution_count": 11,
   "metadata": {},
   "outputs": [
    {
     "name": "stderr",
     "output_type": "stream",
     "text": [
      "/var/folders/b_/4vdzp0yn5_n0jlzmh1wmgmkc0000gn/T/ipykernel_7161/646426579.py:25: RuntimeWarning: invalid value encountered in double_scalars\n",
      "  drhodR = - (G.value/(gamma*K))*(y[1]*y[2]**(2-gamma)/R**2)\n"
     ]
    }
   ],
   "source": [
    "# Assume initial values\n",
    "R_s = 2 * u.astronomical_unit\n",
    "T_s = 318.7196287716579 * u.K  \n",
    "\n",
    "# Solve\n",
    "sol = adiabatic_profile(R_s, T_s, M_s, M_o, gamma, mu)\n",
    "\n",
    "# Cast solution to separate variables and convert to sensible units\n",
    "T = sol.y[0] \n",
    "m = (sol.y[1] * u.kg).to(u.solMass)\n",
    "rho = (sol.y[2] * u.kg / (u.m**3)).to(\"g/cm3\")\n",
    "R = (sol.t * u.m).to(u.astronomical_unit)"
   ]
  },
  {
   "cell_type": "code",
   "execution_count": 12,
   "metadata": {},
   "outputs": [
    {
     "name": "stdout",
     "output_type": "stream",
     "text": [
      "318.7196287716579 4000000.000991295 4000000.0 K\n",
      "1.5 solMass 0.03308232084124468 solMass 0.075 solMass\n",
      "9.999999999999998e-13 g / cm3 1.9770107927026794 g / cm3\n",
      "1.9999999999999998 AU 0.00011157964135706011 AU\n"
     ]
    }
   ],
   "source": [
    "print(T[0], T[-1], T_o)\n",
    "print(m[0], m[-1], M_o)\n",
    "print(rho[0], rho[-1])\n",
    "print(R[0], R[-1])"
   ]
  },
  {
   "cell_type": "code",
   "execution_count": 13,
   "metadata": {},
   "outputs": [
    {
     "data": {
      "text/plain": [
       "<matplotlib.lines.Line2D at 0x7f95f8576fa0>"
      ]
     },
     "execution_count": 13,
     "metadata": {},
     "output_type": "execute_result"
    },
    {
     "data": {
      "image/png": "[encoded data removed]",
      "text/plain": [
       "<Figure size 640x480 with 1 Axes>"
      ]
     },
     "metadata": {},
     "output_type": "display_data"
    }
   ],
   "source": [
    "# Plot Temperature\n",
    "plt.loglog(R, T)\n",
    "plt.ylabel(\"T [K]\")\n",
    "plt.xlabel(\"R [AU]\")\n",
    "plt.axhline(T_o.value)\n",
    "plt.axhline(T_s.value)\n",
    "plt.axvline(R_o.value)"
   ]
  },
  {
   "cell_type": "code",
   "execution_count": 14,
   "metadata": {},
   "outputs": [
    {
     "data": {
      "text/plain": [
       "<matplotlib.lines.Line2D at 0x7f95f8bbdcd0>"
      ]
     },
     "execution_count": 14,
     "metadata": {},
     "output_type": "execute_result"
    },
    {
     "data": {
      "image/png": "[encoded data removed]",
      "text/plain": [
       "<Figure size 640x480 with 1 Axes>"
      ]
     },
     "metadata": {},
     "output_type": "display_data"
    }
   ],
   "source": [
    "# Plot mass\n",
    "plt.plot(R, m.to(u.solMass).value)\n",
    "plt.ylabel(\"m\")\n",
    "plt.xlabel(\"R [AU]\")\n",
    "plt.axhline(M_o.to(u.solMass).value)\n",
    "plt.axvline(R_o.value)"
   ]
  },
  {
   "cell_type": "code",
   "execution_count": 15,
   "metadata": {},
   "outputs": [
    {
     "data": {
      "text/plain": [
       "<matplotlib.lines.Line2D at 0x7f95f8e962b0>"
      ]
     },
     "execution_count": 15,
     "metadata": {},
     "output_type": "execute_result"
    },
    {
     "data": {
      "image/png": "[encoded data removed]",
      "text/plain": [
       "<Figure size 640x480 with 1 Axes>"
      ]
     },
     "metadata": {},
     "output_type": "display_data"
    }
   ],
   "source": [
    "plt.loglog(R, rho.value)\n",
    "plt.ylabel(r\"$\\rho$\")\n",
    "plt.xlabel(\"R [AU]\")\n",
    "#plt.axhline(M_o.to(u.solMass).value)\n",
    "plt.axvline(R_o.value)"
   ]
  },
  {
   "attachments": {},
   "cell_type": "markdown",
   "metadata": {},
   "source": [
    "## Evaluate temperature error"
   ]
  },
  {
   "cell_type": "code",
   "execution_count": 75,
   "metadata": {},
   "outputs": [],
   "source": [
    "# Calculate distance from expected values\n",
    "def core_temp_error(R_s, T_s, M_s, M_o, gamma, mu, T_o):\n",
    "    R_o = degenerate_core_radius(M_o)\n",
    "    sol = adiabatic_profile(R_s, T_s, M_s, M_o, gamma, mu)\n",
    "    T_res = sol.y[0]\n",
    "    error = T_res[-1] - T_o.value\n",
    "    return error"
   ]
  },
  {
   "cell_type": "code",
   "execution_count": 76,
   "metadata": {},
   "outputs": [
    {
     "name": "stderr",
     "output_type": "stream",
     "text": [
      "/var/folders/b_/4vdzp0yn5_n0jlzmh1wmgmkc0000gn/T/ipykernel_56323/646426579.py:25: RuntimeWarning: invalid value encountered in double_scalars\n",
      "  drhodR = - (G.value/(gamma*K))*(y[1]*y[2]**(2-gamma)/R**2)\n"
     ]
    }
   ],
   "source": [
    "R_list = np.linspace(0.3, 4, 200) * u.astronomical_unit\n",
    "err = []\n",
    "for i, R in enumerate(R_list):\n",
    "    err.append(core_temp_error(R, T_s, M_s, M_o, gamma, mu, T_o))"
   ]
  },
  {
   "cell_type": "code",
   "execution_count": 77,
   "metadata": {},
   "outputs": [
    {
     "data": {
      "text/plain": [
       "<matplotlib.lines.Line2D at 0x7fde22c36970>"
      ]
     },
     "execution_count": 77,
     "metadata": {},
     "output_type": "execute_result"
    },
    {
     "data": {
      "image/png": "[encoded data removed]",
      "text/plain": [
       "<Figure size 640x480 with 1 Axes>"
      ]
     },
     "metadata": {},
     "output_type": "display_data"
    }
   ],
   "source": [
    "plt.plot(R_list, err)\n",
    "plt.axhline(0)"
   ]
  },
  {
   "cell_type": "code",
   "execution_count": 78,
   "metadata": {},
   "outputs": [],
   "source": [
    "# Find star radius from known properties of core\n",
    "def star_radius(T_s, M_s, M_o, gamma, mu, T_o):\n",
    "    guess_1, guess_2 = (0.3 * u.astronomical_unit).decompose().value, (4 * u.astronomical_unit).decompose().value\n",
    "    args = (T_s, M_s, M_o, gamma, mu, T_o)\n",
    "    R_s = brentq(core_temp_error, guess_1, guess_2, args=args)\n",
    "    return R_s"
   ]
  },
  {
   "cell_type": "code",
   "execution_count": 79,
   "metadata": {},
   "outputs": [
    {
     "name": "stdout",
     "output_type": "stream",
     "text": [
      "10.0 K\n"
     ]
    },
    {
     "name": "stderr",
     "output_type": "stream",
     "text": [
      "/var/folders/b_/4vdzp0yn5_n0jlzmh1wmgmkc0000gn/T/ipykernel_56323/646426579.py:25: RuntimeWarning: invalid value encountered in double_scalars\n",
      "  drhodR = - (G.value/(gamma*K))*(y[1]*y[2]**(2-gamma)/R**2)\n"
     ]
    },
    {
     "name": "stdout",
     "output_type": "stream",
     "text": [
      "1.9572963673517672 AU\n"
     ]
    }
   ],
   "source": [
    "print(T_s)\n",
    "R_s = (star_radius(T_s, M_s, M_o, gamma, mu, T_o) * u.m).to(u.astronomical_unit)\n",
    "print(R_s)"
   ]
  },
  {
   "attachments": {},
   "cell_type": "markdown",
   "metadata": {},
   "source": [
    "## Evaluate mass error"
   ]
  },
  {
   "cell_type": "code",
   "execution_count": 80,
   "metadata": {},
   "outputs": [],
   "source": [
    "def core_mass_error(R_s, T_s, M_s, M_o, gamma, mu):\n",
    "    R_o = degenerate_core_radius(M_o)\n",
    "    sol = adiabatic_profile(R_s, T_s, M_s, M_o, gamma, mu)\n",
    "    m_res = sol.y[1]\n",
    "    error = m_res[-1] - M_o.to(u.kg).value\n",
    "    return error"
   ]
  },
  {
   "cell_type": "code",
   "execution_count": 81,
   "metadata": {},
   "outputs": [],
   "source": [
    "def core_error(T_s, M_s, M_o, gamma, mu, T_o):\n",
    "    R_s = star_radius(T_s, M_s, M_o, gamma, mu, T_o)\n",
    "    error = core_mass_error(R_s, T_s, M_s, M_o, gamma, mu)\n",
    "    return error"
   ]
  },
  {
   "cell_type": "code",
   "execution_count": 82,
   "metadata": {},
   "outputs": [
    {
     "name": "stderr",
     "output_type": "stream",
     "text": [
      "/var/folders/b_/4vdzp0yn5_n0jlzmh1wmgmkc0000gn/T/ipykernel_56323/646426579.py:25: RuntimeWarning: invalid value encountered in double_scalars\n",
      "  drhodR = - (G.value/(gamma*K))*(y[1]*y[2]**(2-gamma)/R**2)\n"
     ]
    },
    {
     "name": "stdout",
     "output_type": "stream",
     "text": [
      "500.0 f(a) and f(b) must have different signs\n",
      "547.7386934673367 f(a) and f(b) must have different signs\n",
      "595.4773869346734 f(a) and f(b) must have different signs\n",
      "643.21608040201 f(a) and f(b) must have different signs\n",
      "690.9547738693467 f(a) and f(b) must have different signs\n",
      "738.6934673366834 f(a) and f(b) must have different signs\n",
      "786.4321608040201 f(a) and f(b) must have different signs\n",
      "834.1708542713568 f(a) and f(b) must have different signs\n",
      "881.9095477386934 f(a) and f(b) must have different signs\n",
      "929.6482412060302 f(a) and f(b) must have different signs\n",
      "977.3869346733668 f(a) and f(b) must have different signs\n",
      "1025.1256281407036 f(a) and f(b) must have different signs\n",
      "1072.8643216080402 f(a) and f(b) must have different signs\n",
      "1120.6030150753768 f(a) and f(b) must have different signs\n",
      "1168.3417085427136 f(a) and f(b) must have different signs\n",
      "1216.0804020100502 f(a) and f(b) must have different signs\n",
      "1263.8190954773868 f(a) and f(b) must have different signs\n",
      "1311.5577889447236 f(a) and f(b) must have different signs\n",
      "1359.2964824120604 f(a) and f(b) must have different signs\n",
      "1407.0351758793968 f(a) and f(b) must have different signs\n",
      "1454.7738693467336 f(a) and f(b) must have different signs\n",
      "1502.5125628140704 f(a) and f(b) must have different signs\n",
      "1550.251256281407 f(a) and f(b) must have different signs\n",
      "1597.9899497487436 f(a) and f(b) must have different signs\n",
      "1645.7286432160804 f(a) and f(b) must have different signs\n",
      "1693.467336683417 f(a) and f(b) must have different signs\n",
      "1741.2060301507538 f(a) and f(b) must have different signs\n",
      "1788.9447236180904 f(a) and f(b) must have different signs\n",
      "1836.683417085427 f(a) and f(b) must have different signs\n",
      "1884.4221105527638 f(a) and f(b) must have different signs\n",
      "1932.1608040201004 f(a) and f(b) must have different signs\n",
      "1979.8994974874372 f(a) and f(b) must have different signs\n",
      "2027.6381909547738 f(a) and f(b) must have different signs\n",
      "2075.3768844221104 f(a) and f(b) must have different signs\n",
      "2123.115577889447 f(a) and f(b) must have different signs\n",
      "2170.854271356784 f(a) and f(b) must have different signs\n",
      "2218.592964824121 f(a) and f(b) must have different signs\n",
      "2266.331658291457 f(a) and f(b) must have different signs\n",
      "2314.0703517587935 f(a) and f(b) must have different signs\n",
      "2361.8090452261304 f(a) and f(b) must have different signs\n",
      "2409.547738693467 f(a) and f(b) must have different signs\n",
      "2457.286432160804 f(a) and f(b) must have different signs\n",
      "2505.025125628141 f(a) and f(b) must have different signs\n",
      "2552.763819095477 f(a) and f(b) must have different signs\n",
      "2600.502512562814 f(a) and f(b) must have different signs\n",
      "2648.241206030151 f(a) and f(b) must have different signs\n",
      "2695.979899497487 f(a) and f(b) must have different signs\n",
      "2743.718592964824 f(a) and f(b) must have different signs\n",
      "2791.457286432161 f(a) and f(b) must have different signs\n",
      "2839.195979899497 f(a) and f(b) must have different signs\n",
      "2886.934673366834 f(a) and f(b) must have different signs\n",
      "2934.673366834171 f(a) and f(b) must have different signs\n",
      "2982.4120603015076 f(a) and f(b) must have different signs\n",
      "3030.150753768844 f(a) and f(b) must have different signs\n",
      "3077.889447236181 f(a) and f(b) must have different signs\n",
      "3125.6281407035176 f(a) and f(b) must have different signs\n",
      "3173.366834170854 f(a) and f(b) must have different signs\n",
      "3221.105527638191 f(a) and f(b) must have different signs\n",
      "3268.8442211055276 f(a) and f(b) must have different signs\n",
      "3316.582914572864 f(a) and f(b) must have different signs\n",
      "3364.3216080402008 f(a) and f(b) must have different signs\n",
      "3412.0603015075376 f(a) and f(b) must have different signs\n",
      "3459.7989949748744 f(a) and f(b) must have different signs\n",
      "3507.5376884422108 f(a) and f(b) must have different signs\n",
      "3555.2763819095476 f(a) and f(b) must have different signs\n",
      "3603.0150753768844 f(a) and f(b) must have different signs\n",
      "3650.7537688442208 f(a) and f(b) must have different signs\n",
      "3698.4924623115576 f(a) and f(b) must have different signs\n",
      "3746.2311557788944 f(a) and f(b) must have different signs\n",
      "3793.969849246231 f(a) and f(b) must have different signs\n",
      "3841.7085427135676 f(a) and f(b) must have different signs\n",
      "3889.4472361809044 f(a) and f(b) must have different signs\n",
      "3937.185929648241 f(a) and f(b) must have different signs\n",
      "3984.9246231155776 f(a) and f(b) must have different signs\n",
      "4032.6633165829144 f(a) and f(b) must have different signs\n",
      "4080.402010050251 f(a) and f(b) must have different signs\n",
      "4128.140703517587 f(a) and f(b) must have different signs\n",
      "4175.879396984925 f(a) and f(b) must have different signs\n",
      "4223.618090452261 f(a) and f(b) must have different signs\n",
      "4271.3567839195985 f(a) and f(b) must have different signs\n",
      "4319.095477386934 f(a) and f(b) must have different signs\n",
      "4366.834170854271 f(a) and f(b) must have different signs\n",
      "4414.572864321608 f(a) and f(b) must have different signs\n",
      "4462.311557788944 f(a) and f(b) must have different signs\n",
      "4510.050251256282 f(a) and f(b) must have different signs\n",
      "4557.7889447236175 f(a) and f(b) must have different signs\n",
      "4605.527638190954 f(a) and f(b) must have different signs\n",
      "4653.266331658291 f(a) and f(b) must have different signs\n",
      "4701.005025125628 f(a) and f(b) must have different signs\n",
      "4748.743718592965 f(a) and f(b) must have different signs\n",
      "4796.482412060302 f(a) and f(b) must have different signs\n",
      "4844.2211055276375 f(a) and f(b) must have different signs\n",
      "4891.959798994974 f(a) and f(b) must have different signs\n",
      "4939.698492462311 f(a) and f(b) must have different signs\n",
      "4987.437185929648 f(a) and f(b) must have different signs\n",
      "5035.175879396985 f(a) and f(b) must have different signs\n",
      "5082.914572864322 f(a) and f(b) must have different signs\n",
      "5130.653266331658 f(a) and f(b) must have different signs\n",
      "5178.391959798994 f(a) and f(b) must have different signs\n",
      "5226.130653266331 f(a) and f(b) must have different signs\n",
      "5273.869346733668 f(a) and f(b) must have different signs\n",
      "5321.608040201005 f(a) and f(b) must have different signs\n",
      "5369.346733668342 f(a) and f(b) must have different signs\n",
      "5417.085427135678 f(a) and f(b) must have different signs\n",
      "5464.824120603015 f(a) and f(b) must have different signs\n",
      "5512.562814070351 f(a) and f(b) must have different signs\n",
      "5560.301507537688 f(a) and f(b) must have different signs\n",
      "5608.040201005025 f(a) and f(b) must have different signs\n",
      "5655.778894472362 f(a) and f(b) must have different signs\n",
      "5703.517587939698 f(a) and f(b) must have different signs\n",
      "5751.256281407035 f(a) and f(b) must have different signs\n",
      "5798.994974874372 f(a) and f(b) must have different signs\n",
      "5846.733668341708 f(a) and f(b) must have different signs\n",
      "5894.472361809045 f(a) and f(b) must have different signs\n",
      "5942.211055276382 f(a) and f(b) must have different signs\n",
      "5989.949748743718 f(a) and f(b) must have different signs\n",
      "6037.688442211055 f(a) and f(b) must have different signs\n",
      "6085.427135678392 f(a) and f(b) must have different signs\n",
      "6133.165829145728 f(a) and f(b) must have different signs\n",
      "6180.904522613065 f(a) and f(b) must have different signs\n",
      "6228.6432160804015 f(a) and f(b) must have different signs\n",
      "6276.381909547738 f(a) and f(b) must have different signs\n",
      "6324.120603015075 f(a) and f(b) must have different signs\n",
      "6371.859296482412 f(a) and f(b) must have different signs\n",
      "6419.597989949749 f(a) and f(b) must have different signs\n",
      "6467.336683417085 f(a) and f(b) must have different signs\n",
      "6515.0753768844215 f(a) and f(b) must have different signs\n",
      "6562.814070351758 f(a) and f(b) must have different signs\n",
      "6610.552763819095 f(a) and f(b) must have different signs\n",
      "6658.291457286432 f(a) and f(b) must have different signs\n",
      "6706.030150753769 f(a) and f(b) must have different signs\n",
      "6753.768844221106 f(a) and f(b) must have different signs\n",
      "6801.5075376884415 f(a) and f(b) must have different signs\n",
      "6849.246231155778 f(a) and f(b) must have different signs\n",
      "6896.984924623115 f(a) and f(b) must have different signs\n",
      "6944.723618090452 f(a) and f(b) must have different signs\n",
      "6992.462311557789 f(a) and f(b) must have different signs\n",
      "7040.201005025126 f(a) and f(b) must have different signs\n",
      "7087.939698492462 f(a) and f(b) must have different signs\n",
      "7135.678391959798 f(a) and f(b) must have different signs\n",
      "7183.417085427135 f(a) and f(b) must have different signs\n",
      "7231.155778894472 f(a) and f(b) must have different signs\n",
      "7278.894472361809 f(a) and f(b) must have different signs\n",
      "7326.633165829146 f(a) and f(b) must have different signs\n",
      "7374.371859296482 f(a) and f(b) must have different signs\n",
      "7422.110552763818 f(a) and f(b) must have different signs\n",
      "7469.849246231155 f(a) and f(b) must have different signs\n",
      "7517.587939698492 f(a) and f(b) must have different signs\n",
      "7565.326633165829 f(a) and f(b) must have different signs\n",
      "7613.065326633166 f(a) and f(b) must have different signs\n",
      "7660.804020100502 f(a) and f(b) must have different signs\n",
      "7708.542713567839 f(a) and f(b) must have different signs\n",
      "7756.281407035175 f(a) and f(b) must have different signs\n",
      "7804.020100502512 f(a) and f(b) must have different signs\n",
      "7851.758793969849 f(a) and f(b) must have different signs\n",
      "7899.497487437186 f(a) and f(b) must have different signs\n",
      "7947.236180904522 f(a) and f(b) must have different signs\n",
      "7994.974874371859 f(a) and f(b) must have different signs\n",
      "8042.713567839196 f(a) and f(b) must have different signs\n",
      "8090.452261306532 f(a) and f(b) must have different signs\n",
      "8138.190954773869 f(a) and f(b) must have different signs\n",
      "8185.9296482412055 f(a) and f(b) must have different signs\n",
      "8233.668341708542 f(a) and f(b) must have different signs\n",
      "8281.407035175878 f(a) and f(b) must have different signs\n",
      "8329.145728643216 f(a) and f(b) must have different signs\n",
      "8376.884422110554 f(a) and f(b) must have different signs\n",
      "8424.623115577888 f(a) and f(b) must have different signs\n",
      "8472.361809045226 f(a) and f(b) must have different signs\n",
      "8520.100502512563 f(a) and f(b) must have different signs\n",
      "8567.8391959799 f(a) and f(b) must have different signs\n",
      "8615.577889447235 f(a) and f(b) must have different signs\n",
      "8663.316582914573 f(a) and f(b) must have different signs\n",
      "8711.055276381909 f(a) and f(b) must have different signs\n",
      "8758.793969849246 f(a) and f(b) must have different signs\n",
      "8806.532663316582 f(a) and f(b) must have different signs\n",
      "8854.27135678392 f(a) and f(b) must have different signs\n",
      "8902.010050251256 f(a) and f(b) must have different signs\n",
      "8949.748743718592 f(a) and f(b) must have different signs\n",
      "8997.48743718593 f(a) and f(b) must have different signs\n",
      "9045.226130653265 f(a) and f(b) must have different signs\n",
      "9092.964824120603 f(a) and f(b) must have different signs\n",
      "9140.70351758794 f(a) and f(b) must have different signs\n",
      "9188.442211055275 f(a) and f(b) must have different signs\n",
      "9236.180904522613 f(a) and f(b) must have different signs\n",
      "9283.919597989949 f(a) and f(b) must have different signs\n",
      "9331.658291457286 f(a) and f(b) must have different signs\n",
      "9379.396984924622 f(a) and f(b) must have different signs\n",
      "9427.13567839196 f(a) and f(b) must have different signs\n",
      "9474.874371859296 f(a) and f(b) must have different signs\n",
      "9522.613065326632 f(a) and f(b) must have different signs\n",
      "9570.35175879397 f(a) and f(b) must have different signs\n",
      "9618.090452261305 f(a) and f(b) must have different signs\n",
      "9665.829145728643 f(a) and f(b) must have different signs\n",
      "9713.56783919598 f(a) and f(b) must have different signs\n",
      "9761.306532663317 f(a) and f(b) must have different signs\n",
      "9809.045226130653 f(a) and f(b) must have different signs\n",
      "9856.783919597989 f(a) and f(b) must have different signs\n",
      "9904.522613065326 f(a) and f(b) must have different signs\n",
      "9952.261306532662 f(a) and f(b) must have different signs\n",
      "10000.0 f(a) and f(b) must have different signs\n"
     ]
    }
   ],
   "source": [
    "N = 200\n",
    "T_list = np.linspace(0.5e3, 1e4,N)\n",
    "R_list = np.zeros(N)\n",
    "err = np.zeros(N)\n",
    "for i, T in enumerate(T_list):\n",
    "    try:\n",
    "        R = star_radius(T, M_s, M_o, gamma, mu, T_o)\n",
    "        R_list[i] = R\n",
    "        err[i] = core_error(T, M_s, M_o, gamma, mu, T_o)\n",
    "    except ValueError as v:\n",
    "        print(T, v)"
   ]
  },
  {
   "cell_type": "code",
   "execution_count": 83,
   "metadata": {},
   "outputs": [
    {
     "data": {
      "text/plain": [
       "[<matplotlib.lines.Line2D at 0x7fde22d41a90>]"
      ]
     },
     "execution_count": 83,
     "metadata": {},
     "output_type": "execute_result"
    },
    {
     "data": {
      "image/png": "[encoded data removed]",
      "text/plain": [
       "<Figure size 640x480 with 1 Axes>"
      ]
     },
     "metadata": {},
     "output_type": "display_data"
    }
   ],
   "source": [
    "plt.plot(T_list, R_list)"
   ]
  },
  {
   "cell_type": "code",
   "execution_count": 84,
   "metadata": {},
   "outputs": [
    {
     "data": {
      "text/plain": [
       "[<matplotlib.lines.Line2D at 0x7fde22d9a670>]"
      ]
     },
     "execution_count": 84,
     "metadata": {},
     "output_type": "execute_result"
    },
    {
     "data": {
      "image/png": "[encoded data removed]",
      "text/plain": [
       "<Figure size 640x480 with 1 Axes>"
      ]
     },
     "metadata": {},
     "output_type": "display_data"
    }
   ],
   "source": [
    "plt.plot(T_list, (err * u.kg ).to(u.solMass))"
   ]
  },
  {
   "cell_type": "code",
   "execution_count": 85,
   "metadata": {},
   "outputs": [],
   "source": [
    "def core_error(T_s, M_s, M_o, gamma, mu, T_o):\n",
    "    try:\n",
    "        R_s = star_radius(T_s, M_s, M_o, gamma, mu, T_o)\n",
    "        error = core_mass_error(R_s, T_s, M_s, M_o, gamma, mu)\n",
    "        return error\n",
    "    except ValueError as v:\n",
    "        return 1"
   ]
  },
  {
   "cell_type": "code",
   "execution_count": 86,
   "metadata": {},
   "outputs": [],
   "source": [
    "def star_surface_temperature(M_s, M_o, gamma, mu, T_o):\n",
    "    guess_1, guess_2 = 100, 10_000\n",
    "    args = (M_s, M_o, gamma, mu, T_o)\n",
    "    T_s = brentq(core_error, guess_1, guess_2, args=args)\n",
    "    return T_s"
   ]
  },
  {
   "cell_type": "code",
   "execution_count": 87,
   "metadata": {},
   "outputs": [
    {
     "name": "stderr",
     "output_type": "stream",
     "text": [
      "/var/folders/b_/4vdzp0yn5_n0jlzmh1wmgmkc0000gn/T/ipykernel_56323/646426579.py:25: RuntimeWarning: invalid value encountered in double_scalars\n",
      "  drhodR = - (G.value/(gamma*K))*(y[1]*y[2]**(2-gamma)/R**2)\n"
     ]
    },
    {
     "ename": "ValueError",
     "evalue": "f(a) and f(b) must have different signs",
     "output_type": "error",
     "traceback": [
      "\u001b[0;31m---------------------------------------------------------------------------\u001b[0m",
      "\u001b[0;31mValueError\u001b[0m                                Traceback (most recent call last)",
      "\u001b[0;32m/var/folders/b_/4vdzp0yn5_n0jlzmh1wmgmkc0000gn/T/ipykernel_56323/560038067.py\u001b[0m in \u001b[0;36m<module>\u001b[0;34m\u001b[0m\n\u001b[0;32m----> 1\u001b[0;31m \u001b[0mT_s\u001b[0m \u001b[0;34m=\u001b[0m \u001b[0mstar_surface_temperature\u001b[0m\u001b[0;34m(\u001b[0m\u001b[0mM_s\u001b[0m\u001b[0;34m,\u001b[0m \u001b[0mM_o\u001b[0m\u001b[0;34m,\u001b[0m \u001b[0mgamma\u001b[0m\u001b[0;34m,\u001b[0m \u001b[0mmu\u001b[0m\u001b[0;34m,\u001b[0m \u001b[0mT_o\u001b[0m\u001b[0;34m)\u001b[0m\u001b[0;34m\u001b[0m\u001b[0;34m\u001b[0m\u001b[0m\n\u001b[0m\u001b[1;32m      2\u001b[0m \u001b[0mprint\u001b[0m\u001b[0;34m(\u001b[0m\u001b[0mT_s\u001b[0m\u001b[0;34m)\u001b[0m\u001b[0;34m\u001b[0m\u001b[0;34m\u001b[0m\u001b[0m\n\u001b[1;32m      3\u001b[0m \u001b[0mR_s\u001b[0m \u001b[0;34m=\u001b[0m \u001b[0mstar_radius\u001b[0m\u001b[0;34m(\u001b[0m\u001b[0mT_s\u001b[0m\u001b[0;34m,\u001b[0m \u001b[0mM_s\u001b[0m\u001b[0;34m,\u001b[0m \u001b[0mM_o\u001b[0m\u001b[0;34m,\u001b[0m \u001b[0mgamma\u001b[0m\u001b[0;34m,\u001b[0m \u001b[0mmu\u001b[0m\u001b[0;34m,\u001b[0m \u001b[0mT_o\u001b[0m\u001b[0;34m)\u001b[0m\u001b[0;34m\u001b[0m\u001b[0;34m\u001b[0m\u001b[0m\n\u001b[1;32m      4\u001b[0m \u001b[0mprint\u001b[0m\u001b[0;34m(\u001b[0m\u001b[0mR_s\u001b[0m\u001b[0;34m)\u001b[0m\u001b[0;34m\u001b[0m\u001b[0;34m\u001b[0m\u001b[0m\n",
      "\u001b[0;32m/var/folders/b_/4vdzp0yn5_n0jlzmh1wmgmkc0000gn/T/ipykernel_56323/1353806382.py\u001b[0m in \u001b[0;36mstar_surface_temperature\u001b[0;34m(M_s, M_o, gamma, mu, T_o)\u001b[0m\n\u001b[1;32m      2\u001b[0m     \u001b[0mguess_1\u001b[0m\u001b[0;34m,\u001b[0m \u001b[0mguess_2\u001b[0m \u001b[0;34m=\u001b[0m \u001b[0;36m100\u001b[0m\u001b[0;34m,\u001b[0m \u001b[0;36m10_000\u001b[0m\u001b[0;34m\u001b[0m\u001b[0;34m\u001b[0m\u001b[0m\n\u001b[1;32m      3\u001b[0m     \u001b[0margs\u001b[0m \u001b[0;34m=\u001b[0m \u001b[0;34m(\u001b[0m\u001b[0mM_s\u001b[0m\u001b[0;34m,\u001b[0m \u001b[0mM_o\u001b[0m\u001b[0;34m,\u001b[0m \u001b[0mgamma\u001b[0m\u001b[0;34m,\u001b[0m \u001b[0mmu\u001b[0m\u001b[0;34m,\u001b[0m \u001b[0mT_o\u001b[0m\u001b[0;34m)\u001b[0m\u001b[0;34m\u001b[0m\u001b[0;34m\u001b[0m\u001b[0m\n\u001b[0;32m----> 4\u001b[0;31m     \u001b[0mT_s\u001b[0m \u001b[0;34m=\u001b[0m \u001b[0mbrentq\u001b[0m\u001b[0;34m(\u001b[0m\u001b[0mcore_error\u001b[0m\u001b[0;34m,\u001b[0m \u001b[0mguess_1\u001b[0m\u001b[0;34m,\u001b[0m \u001b[0mguess_2\u001b[0m\u001b[0;34m,\u001b[0m \u001b[0margs\u001b[0m\u001b[0;34m=\u001b[0m\u001b[0margs\u001b[0m\u001b[0;34m)\u001b[0m\u001b[0;34m\u001b[0m\u001b[0;34m\u001b[0m\u001b[0m\n\u001b[0m\u001b[1;32m      5\u001b[0m     \u001b[0;32mreturn\u001b[0m \u001b[0mT_s\u001b[0m\u001b[0;34m\u001b[0m\u001b[0;34m\u001b[0m\u001b[0m\n",
      "\u001b[0;32m~/opt/anaconda3/lib/python3.9/site-packages/scipy/optimize/_zeros_py.py\u001b[0m in \u001b[0;36mbrentq\u001b[0;34m(f, a, b, args, xtol, rtol, maxiter, full_output, disp)\u001b[0m\n\u001b[1;32m    781\u001b[0m     \u001b[0;32mif\u001b[0m \u001b[0mrtol\u001b[0m \u001b[0;34m<\u001b[0m \u001b[0m_rtol\u001b[0m\u001b[0;34m:\u001b[0m\u001b[0;34m\u001b[0m\u001b[0;34m\u001b[0m\u001b[0m\n\u001b[1;32m    782\u001b[0m         \u001b[0;32mraise\u001b[0m \u001b[0mValueError\u001b[0m\u001b[0;34m(\u001b[0m\u001b[0;34m\"rtol too small (%g < %g)\"\u001b[0m \u001b[0;34m%\u001b[0m \u001b[0;34m(\u001b[0m\u001b[0mrtol\u001b[0m\u001b[0;34m,\u001b[0m \u001b[0m_rtol\u001b[0m\u001b[0;34m)\u001b[0m\u001b[0;34m)\u001b[0m\u001b[0;34m\u001b[0m\u001b[0;34m\u001b[0m\u001b[0m\n\u001b[0;32m--> 783\u001b[0;31m     \u001b[0mr\u001b[0m \u001b[0;34m=\u001b[0m \u001b[0m_zeros\u001b[0m\u001b[0;34m.\u001b[0m\u001b[0m_brentq\u001b[0m\u001b[0;34m(\u001b[0m\u001b[0mf\u001b[0m\u001b[0;34m,\u001b[0m \u001b[0ma\u001b[0m\u001b[0;34m,\u001b[0m \u001b[0mb\u001b[0m\u001b[0;34m,\u001b[0m \u001b[0mxtol\u001b[0m\u001b[0;34m,\u001b[0m \u001b[0mrtol\u001b[0m\u001b[0;34m,\u001b[0m \u001b[0mmaxiter\u001b[0m\u001b[0;34m,\u001b[0m \u001b[0margs\u001b[0m\u001b[0;34m,\u001b[0m \u001b[0mfull_output\u001b[0m\u001b[0;34m,\u001b[0m \u001b[0mdisp\u001b[0m\u001b[0;34m)\u001b[0m\u001b[0;34m\u001b[0m\u001b[0;34m\u001b[0m\u001b[0m\n\u001b[0m\u001b[1;32m    784\u001b[0m     \u001b[0;32mreturn\u001b[0m \u001b[0mresults_c\u001b[0m\u001b[0;34m(\u001b[0m\u001b[0mfull_output\u001b[0m\u001b[0;34m,\u001b[0m \u001b[0mr\u001b[0m\u001b[0;34m)\u001b[0m\u001b[0;34m\u001b[0m\u001b[0;34m\u001b[0m\u001b[0m\n\u001b[1;32m    785\u001b[0m \u001b[0;34m\u001b[0m\u001b[0m\n",
      "\u001b[0;31mValueError\u001b[0m: f(a) and f(b) must have different signs"
     ]
    }
   ],
   "source": [
    "T_s = star_surface_temperature(M_s, M_o, gamma, mu, T_o)\n",
    "print(T_s)\n",
    "R_s = star_radius(T_s, M_s, M_o, gamma, mu, T_o)\n",
    "print(R_s)"
   ]
  },
  {
   "attachments": {},
   "cell_type": "markdown",
   "metadata": {},
   "source": [
    "## Other way around"
   ]
  },
  {
   "cell_type": "code",
   "execution_count": 151,
   "metadata": {},
   "outputs": [
    {
     "name": "stdout",
     "output_type": "stream",
     "text": [
      "0.29999999999999993 solMass 7.02907694427403e-05 AU\n",
      "513045682.05764854 kg / m3\n"
     ]
    }
   ],
   "source": [
    "# Fixed parameter list\n",
    "mu = 0.5 * u.g / u.mol # mean molecular weight in units of hydrogen mass\n",
    "gamma = 4/3 # Adiabatic exponent\n",
    "T_o = 4e6 *u.K # Hydrogen burning temperature\n",
    "\n",
    "M_s = 1.5 * u.solMass # Star mass\n",
    "M_o = 0.040 * u.solMass # Core mass\n",
    "\n",
    "M_o = 0.29999999999999993 * u.solMass\n",
    "M_s = 0.040033783783783784 * u.solMass\n",
    "\n",
    "R_o = degenerate_core_radius(M_o) # Core radius\n",
    "print(M_o, R_o)\n",
    "print((M_o/R_o**3).decompose())"
   ]
  },
  {
   "cell_type": "code",
   "execution_count": 152,
   "metadata": {},
   "outputs": [],
   "source": [
    "# Calculate distance from expected values\n",
    "def core_temp_error(T_s, R_s, M_s, M_o, gamma, mu, T_o):\n",
    "    R_o = degenerate_core_radius(M_o)\n",
    "    sol = adiabatic_profile(R_s, T_s, M_s, M_o, gamma, mu)\n",
    "    T_res = sol.y[0]\n",
    "    error = T_res[-1] - T_o.value\n",
    "    return error"
   ]
  },
  {
   "cell_type": "code",
   "execution_count": 153,
   "metadata": {},
   "outputs": [
    {
     "name": "stderr",
     "output_type": "stream",
     "text": [
      "/var/folders/b_/4vdzp0yn5_n0jlzmh1wmgmkc0000gn/T/ipykernel_7161/646426579.py:25: RuntimeWarning: invalid value encountered in double_scalars\n",
      "  drhodR = - (G.value/(gamma*K))*(y[1]*y[2]**(2-gamma)/R**2)\n"
     ]
    }
   ],
   "source": [
    "R_s = 2 * u.astronomical_unit\n",
    "N = 200\n",
    "T_list = np.linspace(1, 10000, N) * u.K\n",
    "err = np.zeros(N)\n",
    "for i, T in enumerate(T_list):\n",
    "    try:\n",
    "        err[i] = core_temp_error(T, R_s, M_s, M_o, gamma, mu, T_o)\n",
    "    except IndexError as v:\n",
    "        print(T, v)"
   ]
  },
  {
   "cell_type": "code",
   "execution_count": 154,
   "metadata": {},
   "outputs": [
    {
     "data": {
      "text/plain": [
       "<matplotlib.lines.Line2D at 0x7f95f91399d0>"
      ]
     },
     "execution_count": 154,
     "metadata": {},
     "output_type": "execute_result"
    },
    {
     "data": {
      "image/png": "[encoded data removed]",
      "text/plain": [
       "<Figure size 640x480 with 1 Axes>"
      ]
     },
     "metadata": {},
     "output_type": "display_data"
    }
   ],
   "source": [
    "plt.plot(T_list, err)\n",
    "plt.axhline(0)"
   ]
  },
  {
   "cell_type": "code",
   "execution_count": 155,
   "metadata": {},
   "outputs": [],
   "source": [
    "# Find star radius from known properties of core\n",
    "def star_surface_temperature(R_s, M_s, M_o, gamma, mu, T_o):\n",
    "    guess_1, guess_2 = 1, 5e4\n",
    "    args = (R_s, M_s, M_o, gamma, mu, T_o)\n",
    "    R_s = brentq(core_temp_error, guess_1, guess_2, args=args)\n",
    "    return R_s"
   ]
  },
  {
   "cell_type": "code",
   "execution_count": 156,
   "metadata": {},
   "outputs": [
    {
     "name": "stdout",
     "output_type": "stream",
     "text": [
      "2.0 AU\n"
     ]
    },
    {
     "name": "stderr",
     "output_type": "stream",
     "text": [
      "/var/folders/b_/4vdzp0yn5_n0jlzmh1wmgmkc0000gn/T/ipykernel_7161/646426579.py:25: RuntimeWarning: invalid value encountered in double_scalars\n",
      "  drhodR = - (G.value/(gamma*K))*(y[1]*y[2]**(2-gamma)/R**2)\n"
     ]
    },
    {
     "name": "stdout",
     "output_type": "stream",
     "text": [
      "83.93781631166243 K\n"
     ]
    }
   ],
   "source": [
    "print(R_s)\n",
    "T_s = (star_surface_temperature(R_s, M_s, M_o, gamma, mu, T_o) * u.K)\n",
    "print(T_s)"
   ]
  },
  {
   "cell_type": "code",
   "execution_count": 157,
   "metadata": {},
   "outputs": [],
   "source": [
    "def core_mass_error(R_s, T_s, M_s, M_o, gamma, mu):\n",
    "    R_o = degenerate_core_radius(M_o)\n",
    "    sol = adiabatic_profile(R_s, T_s, M_s, M_o, gamma, mu)\n",
    "    m_res = sol.y[1]\n",
    "    error = m_res[-1] - M_o.to(u.kg).value\n",
    "    return error"
   ]
  },
  {
   "cell_type": "code",
   "execution_count": 158,
   "metadata": {},
   "outputs": [],
   "source": [
    "def core_error(R_s, M_s, M_o, gamma, mu, T_o):\n",
    "    try:\n",
    "        T_s = star_surface_temperature(R_s, M_s, M_o, gamma, mu, T_o)\n",
    "        error = core_mass_error(R_s, T_s, M_s, M_o, gamma, mu)\n",
    "        return (error * u.kg).to(u.solMass)\n",
    "    except ValueError as V:\n",
    "        print(\"core_error: \", M_s, M_o, V)\n",
    "        return np.inf * u.solMass"
   ]
  },
  {
   "cell_type": "code",
   "execution_count": 159,
   "metadata": {},
   "outputs": [
    {
     "name": "stderr",
     "output_type": "stream",
     "text": [
      "/var/folders/b_/4vdzp0yn5_n0jlzmh1wmgmkc0000gn/T/ipykernel_7161/646426579.py:25: RuntimeWarning: invalid value encountered in double_scalars\n",
      "  drhodR = - (G.value/(gamma*K))*(y[1]*y[2]**(2-gamma)/R**2)\n"
     ]
    }
   ],
   "source": [
    "N = 10\n",
    "R_list = np.linspace(0.5, 4, N) * u.astronomical_unit\n",
    "T_list = np.zeros(N)\n",
    "err = np.zeros(N) * u.solMass\n",
    "for i, R in enumerate(R_list):\n",
    "    try:\n",
    "        T = star_surface_temperature(R, M_s, M_o, gamma, mu, T_o)\n",
    "        T_list[i] = T\n",
    "        err[i] = core_error(R, M_s, M_o, gamma, mu, T_o)\n",
    "    except ValueError as v:\n",
    "        print(R, v)"
   ]
  },
  {
   "cell_type": "code",
   "execution_count": 160,
   "metadata": {},
   "outputs": [
    {
     "data": {
      "text/plain": [
       "[<matplotlib.lines.Line2D at 0x7f95fadeecd0>]"
      ]
     },
     "execution_count": 160,
     "metadata": {},
     "output_type": "execute_result"
    },
    {
     "data": {
      "image/png": "[encoded data removed]",
      "text/plain": [
       "<Figure size 640x480 with 1 Axes>"
      ]
     },
     "metadata": {},
     "output_type": "display_data"
    }
   ],
   "source": [
    "plt.plot(R_list, err)"
   ]
  },
  {
   "cell_type": "code",
   "execution_count": 28,
   "metadata": {},
   "outputs": [],
   "source": [
    "def changes_sign(err):\n",
    "    a = np.nanmin(err)\n",
    "    b = np.nanmax(err)\n",
    "    s = np.sign(a) * np.sign(b)\n",
    "    if s <= 0:\n",
    "        return True\n",
    "    else:\n",
    "        return False"
   ]
  },
  {
   "cell_type": "code",
   "execution_count": 427,
   "metadata": {},
   "outputs": [
    {
     "data": {
      "text/plain": [
       "False"
      ]
     },
     "execution_count": 427,
     "metadata": {},
     "output_type": "execute_result"
    }
   ],
   "source": [
    "changes_sign(err)"
   ]
  },
  {
   "cell_type": "code",
   "execution_count": 31,
   "metadata": {},
   "outputs": [],
   "source": [
    "def error_over_parameters(M_s, M_o, N = 10):\n",
    "    R_list = np.linspace(0.5, 4, N) * u.astronomical_unit\n",
    "    err = np.zeros(N) * u.solMass\n",
    "    for i, R in enumerate(R_list):\n",
    "        try:\n",
    "            err[i] = core_error(R, M_s, M_o, gamma, mu, T_o)\n",
    "        except ValueError as v:\n",
    "            print(\"Params: \", R, v)\n",
    "            pass\n",
    "    return err"
   ]
  },
  {
   "cell_type": "code",
   "execution_count": 32,
   "metadata": {},
   "outputs": [],
   "source": [
    "def error_at_endpoints(M_s, M_o, gamma, mu, T_o):\n",
    "    R_list = np.array([0.5, 4]) * u.astronomical_unit\n",
    "    err = np.zeros(len(R_list)) * u.solMass\n",
    "    for i, R in enumerate(R_list):\n",
    "        try:\n",
    "            err[i] = core_error(R, M_s, M_o, gamma, mu, T_o)\n",
    "        except ValueError as v:\n",
    "            print(\"endpoints:, \", R, v)\n",
    "            pass\n",
    "    return err"
   ]
  },
  {
   "cell_type": "code",
   "execution_count": 430,
   "metadata": {},
   "outputs": [
    {
     "name": "stderr",
     "output_type": "stream",
     "text": [
      "/var/folders/b_/4vdzp0yn5_n0jlzmh1wmgmkc0000gn/T/ipykernel_835/646426579.py:25: RuntimeWarning: invalid value encountered in double_scalars\n",
      "  drhodR = - (G.value/(gamma*K))*(y[1]*y[2]**(2-gamma)/R**2)\n"
     ]
    },
    {
     "ename": "KeyboardInterrupt",
     "evalue": "",
     "output_type": "error",
     "traceback": [
      "\u001b[0;31m---------------------------------------------------------------------------\u001b[0m",
      "\u001b[0;31mKeyboardInterrupt\u001b[0m                         Traceback (most recent call last)",
      "\u001b[0;32m/var/folders/b_/4vdzp0yn5_n0jlzmh1wmgmkc0000gn/T/ipykernel_835/1670625894.py\u001b[0m in \u001b[0;36m<module>\u001b[0;34m\u001b[0m\n\u001b[1;32m      8\u001b[0m \u001b[0;32mfor\u001b[0m \u001b[0mi\u001b[0m\u001b[0;34m,\u001b[0m \u001b[0mM_s\u001b[0m \u001b[0;32min\u001b[0m \u001b[0menumerate\u001b[0m\u001b[0;34m(\u001b[0m\u001b[0mM_s_range\u001b[0m\u001b[0;34m)\u001b[0m\u001b[0;34m:\u001b[0m\u001b[0;34m\u001b[0m\u001b[0;34m\u001b[0m\u001b[0m\n\u001b[1;32m      9\u001b[0m     \u001b[0;32mfor\u001b[0m \u001b[0mj\u001b[0m\u001b[0;34m,\u001b[0m \u001b[0mM_o\u001b[0m \u001b[0;32min\u001b[0m \u001b[0menumerate\u001b[0m\u001b[0;34m(\u001b[0m\u001b[0mM_o_range\u001b[0m\u001b[0;34m[\u001b[0m\u001b[0mi\u001b[0m\u001b[0;34m]\u001b[0m\u001b[0;34m)\u001b[0m\u001b[0;34m:\u001b[0m\u001b[0;34m\u001b[0m\u001b[0;34m\u001b[0m\u001b[0m\n\u001b[0;32m---> 10\u001b[0;31m         \u001b[0mval\u001b[0m \u001b[0;34m=\u001b[0m \u001b[0mchanges_sign\u001b[0m\u001b[0;34m(\u001b[0m\u001b[0merror_at_endpoints\u001b[0m\u001b[0;34m(\u001b[0m\u001b[0mM_s\u001b[0m\u001b[0;34m,\u001b[0m \u001b[0mM_o\u001b[0m\u001b[0;34m,\u001b[0m \u001b[0mgamma\u001b[0m\u001b[0;34m,\u001b[0m \u001b[0mmu\u001b[0m\u001b[0;34m,\u001b[0m \u001b[0mT_o\u001b[0m\u001b[0;34m)\u001b[0m\u001b[0;34m)\u001b[0m\u001b[0;34m\u001b[0m\u001b[0;34m\u001b[0m\u001b[0m\n\u001b[0m\u001b[1;32m     11\u001b[0m         \u001b[0;32mif\u001b[0m \u001b[0mval\u001b[0m\u001b[0;34m:\u001b[0m \u001b[0mprint\u001b[0m\u001b[0;34m(\u001b[0m\u001b[0mM_s\u001b[0m\u001b[0;34m,\u001b[0m \u001b[0mM_o\u001b[0m\u001b[0;34m,\u001b[0m \u001b[0mval\u001b[0m\u001b[0;34m)\u001b[0m\u001b[0;34m\u001b[0m\u001b[0;34m\u001b[0m\u001b[0m\n\u001b[1;32m     12\u001b[0m         \u001b[0msol\u001b[0m\u001b[0;34m[\u001b[0m\u001b[0mi\u001b[0m\u001b[0;34m,\u001b[0m \u001b[0mj\u001b[0m\u001b[0;34m]\u001b[0m \u001b[0;34m=\u001b[0m \u001b[0mval\u001b[0m\u001b[0;34m\u001b[0m\u001b[0;34m\u001b[0m\u001b[0m\n",
      "\u001b[0;32m/var/folders/b_/4vdzp0yn5_n0jlzmh1wmgmkc0000gn/T/ipykernel_835/1478625854.py\u001b[0m in \u001b[0;36merror_at_endpoints\u001b[0;34m(M_s, M_o, gamma, mu, T_o)\u001b[0m\n\u001b[1;32m      4\u001b[0m     \u001b[0;32mfor\u001b[0m \u001b[0mi\u001b[0m\u001b[0;34m,\u001b[0m \u001b[0mR\u001b[0m \u001b[0;32min\u001b[0m \u001b[0menumerate\u001b[0m\u001b[0;34m(\u001b[0m\u001b[0mR_list\u001b[0m\u001b[0;34m)\u001b[0m\u001b[0;34m:\u001b[0m\u001b[0;34m\u001b[0m\u001b[0;34m\u001b[0m\u001b[0m\n\u001b[1;32m      5\u001b[0m         \u001b[0;32mtry\u001b[0m\u001b[0;34m:\u001b[0m\u001b[0;34m\u001b[0m\u001b[0;34m\u001b[0m\u001b[0m\n\u001b[0;32m----> 6\u001b[0;31m             \u001b[0merr\u001b[0m\u001b[0;34m[\u001b[0m\u001b[0mi\u001b[0m\u001b[0;34m]\u001b[0m \u001b[0;34m=\u001b[0m \u001b[0mcore_error\u001b[0m\u001b[0;34m(\u001b[0m\u001b[0mR\u001b[0m\u001b[0;34m,\u001b[0m \u001b[0mM_s\u001b[0m\u001b[0;34m,\u001b[0m \u001b[0mM_o\u001b[0m\u001b[0;34m,\u001b[0m \u001b[0mgamma\u001b[0m\u001b[0;34m,\u001b[0m \u001b[0mmu\u001b[0m\u001b[0;34m,\u001b[0m \u001b[0mT_o\u001b[0m\u001b[0;34m)\u001b[0m\u001b[0;34m\u001b[0m\u001b[0;34m\u001b[0m\u001b[0m\n\u001b[0m\u001b[1;32m      7\u001b[0m         \u001b[0;32mexcept\u001b[0m \u001b[0mValueError\u001b[0m \u001b[0;32mas\u001b[0m \u001b[0mv\u001b[0m\u001b[0;34m:\u001b[0m\u001b[0;34m\u001b[0m\u001b[0;34m\u001b[0m\u001b[0m\n\u001b[1;32m      8\u001b[0m             \u001b[0mprint\u001b[0m\u001b[0;34m(\u001b[0m\u001b[0;34m\"endpoints:, \"\u001b[0m\u001b[0;34m,\u001b[0m \u001b[0mR\u001b[0m\u001b[0;34m,\u001b[0m \u001b[0mv\u001b[0m\u001b[0;34m)\u001b[0m\u001b[0;34m\u001b[0m\u001b[0;34m\u001b[0m\u001b[0m\n",
      "\u001b[0;32m/var/folders/b_/4vdzp0yn5_n0jlzmh1wmgmkc0000gn/T/ipykernel_835/15383764.py\u001b[0m in \u001b[0;36mcore_error\u001b[0;34m(R_s, M_s, M_o, gamma, mu, T_o)\u001b[0m\n\u001b[1;32m      1\u001b[0m \u001b[0;32mdef\u001b[0m \u001b[0mcore_error\u001b[0m\u001b[0;34m(\u001b[0m\u001b[0mR_s\u001b[0m\u001b[0;34m,\u001b[0m \u001b[0mM_s\u001b[0m\u001b[0;34m,\u001b[0m \u001b[0mM_o\u001b[0m\u001b[0;34m,\u001b[0m \u001b[0mgamma\u001b[0m\u001b[0;34m,\u001b[0m \u001b[0mmu\u001b[0m\u001b[0;34m,\u001b[0m \u001b[0mT_o\u001b[0m\u001b[0;34m)\u001b[0m\u001b[0;34m:\u001b[0m\u001b[0;34m\u001b[0m\u001b[0;34m\u001b[0m\u001b[0m\n\u001b[1;32m      2\u001b[0m     \u001b[0;32mtry\u001b[0m\u001b[0;34m:\u001b[0m\u001b[0;34m\u001b[0m\u001b[0;34m\u001b[0m\u001b[0m\n\u001b[0;32m----> 3\u001b[0;31m         \u001b[0mT_s\u001b[0m \u001b[0;34m=\u001b[0m \u001b[0mstar_surface_temperature\u001b[0m\u001b[0;34m(\u001b[0m\u001b[0mR_s\u001b[0m\u001b[0;34m,\u001b[0m \u001b[0mM_s\u001b[0m\u001b[0;34m,\u001b[0m \u001b[0mM_o\u001b[0m\u001b[0;34m,\u001b[0m \u001b[0mgamma\u001b[0m\u001b[0;34m,\u001b[0m \u001b[0mmu\u001b[0m\u001b[0;34m,\u001b[0m \u001b[0mT_o\u001b[0m\u001b[0;34m)\u001b[0m\u001b[0;34m\u001b[0m\u001b[0;34m\u001b[0m\u001b[0m\n\u001b[0m\u001b[1;32m      4\u001b[0m         \u001b[0merror\u001b[0m \u001b[0;34m=\u001b[0m \u001b[0mcore_mass_error\u001b[0m\u001b[0;34m(\u001b[0m\u001b[0mR_s\u001b[0m\u001b[0;34m,\u001b[0m \u001b[0mT_s\u001b[0m\u001b[0;34m,\u001b[0m \u001b[0mM_s\u001b[0m\u001b[0;34m,\u001b[0m \u001b[0mM_o\u001b[0m\u001b[0;34m,\u001b[0m \u001b[0mgamma\u001b[0m\u001b[0;34m,\u001b[0m \u001b[0mmu\u001b[0m\u001b[0;34m)\u001b[0m\u001b[0;34m\u001b[0m\u001b[0;34m\u001b[0m\u001b[0m\n\u001b[1;32m      5\u001b[0m         \u001b[0;32mreturn\u001b[0m \u001b[0;34m(\u001b[0m\u001b[0merror\u001b[0m \u001b[0;34m*\u001b[0m \u001b[0mu\u001b[0m\u001b[0;34m.\u001b[0m\u001b[0mkg\u001b[0m\u001b[0;34m)\u001b[0m\u001b[0;34m.\u001b[0m\u001b[0mto\u001b[0m\u001b[0;34m(\u001b[0m\u001b[0mu\u001b[0m\u001b[0;34m.\u001b[0m\u001b[0msolMass\u001b[0m\u001b[0;34m)\u001b[0m\u001b[0;34m\u001b[0m\u001b[0;34m\u001b[0m\u001b[0m\n",
      "\u001b[0;32m/var/folders/b_/4vdzp0yn5_n0jlzmh1wmgmkc0000gn/T/ipykernel_835/381960891.py\u001b[0m in \u001b[0;36mstar_surface_temperature\u001b[0;34m(R_s, M_s, M_o, gamma, mu, T_o)\u001b[0m\n\u001b[1;32m      3\u001b[0m     \u001b[0mguess_1\u001b[0m\u001b[0;34m,\u001b[0m \u001b[0mguess_2\u001b[0m \u001b[0;34m=\u001b[0m \u001b[0;36m1\u001b[0m\u001b[0;34m,\u001b[0m \u001b[0;36m5e4\u001b[0m\u001b[0;34m\u001b[0m\u001b[0;34m\u001b[0m\u001b[0m\n\u001b[1;32m      4\u001b[0m     \u001b[0margs\u001b[0m \u001b[0;34m=\u001b[0m \u001b[0;34m(\u001b[0m\u001b[0mR_s\u001b[0m\u001b[0;34m,\u001b[0m \u001b[0mM_s\u001b[0m\u001b[0;34m,\u001b[0m \u001b[0mM_o\u001b[0m\u001b[0;34m,\u001b[0m \u001b[0mgamma\u001b[0m\u001b[0;34m,\u001b[0m \u001b[0mmu\u001b[0m\u001b[0;34m,\u001b[0m \u001b[0mT_o\u001b[0m\u001b[0;34m)\u001b[0m\u001b[0;34m\u001b[0m\u001b[0;34m\u001b[0m\u001b[0m\n\u001b[0;32m----> 5\u001b[0;31m     \u001b[0mR_s\u001b[0m \u001b[0;34m=\u001b[0m \u001b[0mbrentq\u001b[0m\u001b[0;34m(\u001b[0m\u001b[0mcore_temp_error\u001b[0m\u001b[0;34m,\u001b[0m \u001b[0mguess_1\u001b[0m\u001b[0;34m,\u001b[0m \u001b[0mguess_2\u001b[0m\u001b[0;34m,\u001b[0m \u001b[0margs\u001b[0m\u001b[0;34m=\u001b[0m\u001b[0margs\u001b[0m\u001b[0;34m)\u001b[0m\u001b[0;34m\u001b[0m\u001b[0;34m\u001b[0m\u001b[0m\n\u001b[0m\u001b[1;32m      6\u001b[0m     \u001b[0;32mreturn\u001b[0m \u001b[0mR_s\u001b[0m\u001b[0;34m\u001b[0m\u001b[0;34m\u001b[0m\u001b[0m\n",
      "\u001b[0;32m~/opt/anaconda3/lib/python3.9/site-packages/scipy/optimize/_zeros_py.py\u001b[0m in \u001b[0;36mbrentq\u001b[0;34m(f, a, b, args, xtol, rtol, maxiter, full_output, disp)\u001b[0m\n\u001b[1;32m    781\u001b[0m     \u001b[0;32mif\u001b[0m \u001b[0mrtol\u001b[0m \u001b[0;34m<\u001b[0m \u001b[0m_rtol\u001b[0m\u001b[0;34m:\u001b[0m\u001b[0;34m\u001b[0m\u001b[0;34m\u001b[0m\u001b[0m\n\u001b[1;32m    782\u001b[0m         \u001b[0;32mraise\u001b[0m \u001b[0mValueError\u001b[0m\u001b[0;34m(\u001b[0m\u001b[0;34m\"rtol too small (%g < %g)\"\u001b[0m \u001b[0;34m%\u001b[0m \u001b[0;34m(\u001b[0m\u001b[0mrtol\u001b[0m\u001b[0;34m,\u001b[0m \u001b[0m_rtol\u001b[0m\u001b[0;34m)\u001b[0m\u001b[0;34m)\u001b[0m\u001b[0;34m\u001b[0m\u001b[0;34m\u001b[0m\u001b[0m\n\u001b[0;32m--> 783\u001b[0;31m     \u001b[0mr\u001b[0m \u001b[0;34m=\u001b[0m \u001b[0m_zeros\u001b[0m\u001b[0;34m.\u001b[0m\u001b[0m_brentq\u001b[0m\u001b[0;34m(\u001b[0m\u001b[0mf\u001b[0m\u001b[0;34m,\u001b[0m \u001b[0ma\u001b[0m\u001b[0;34m,\u001b[0m \u001b[0mb\u001b[0m\u001b[0;34m,\u001b[0m \u001b[0mxtol\u001b[0m\u001b[0;34m,\u001b[0m \u001b[0mrtol\u001b[0m\u001b[0;34m,\u001b[0m \u001b[0mmaxiter\u001b[0m\u001b[0;34m,\u001b[0m \u001b[0margs\u001b[0m\u001b[0;34m,\u001b[0m \u001b[0mfull_output\u001b[0m\u001b[0;34m,\u001b[0m \u001b[0mdisp\u001b[0m\u001b[0;34m)\u001b[0m\u001b[0;34m\u001b[0m\u001b[0;34m\u001b[0m\u001b[0m\n\u001b[0m\u001b[1;32m    784\u001b[0m     \u001b[0;32mreturn\u001b[0m \u001b[0mresults_c\u001b[0m\u001b[0;34m(\u001b[0m\u001b[0mfull_output\u001b[0m\u001b[0;34m,\u001b[0m \u001b[0mr\u001b[0m\u001b[0;34m)\u001b[0m\u001b[0;34m\u001b[0m\u001b[0;34m\u001b[0m\u001b[0m\n\u001b[1;32m    785\u001b[0m \u001b[0;34m\u001b[0m\u001b[0m\n",
      "\u001b[0;32m/var/folders/b_/4vdzp0yn5_n0jlzmh1wmgmkc0000gn/T/ipykernel_835/550174315.py\u001b[0m in \u001b[0;36mcore_temp_error\u001b[0;34m(T_s, R_s, M_s, M_o, gamma, mu, T_o)\u001b[0m\n\u001b[1;32m      2\u001b[0m \u001b[0;32mdef\u001b[0m \u001b[0mcore_temp_error\u001b[0m\u001b[0;34m(\u001b[0m\u001b[0mT_s\u001b[0m\u001b[0;34m,\u001b[0m \u001b[0mR_s\u001b[0m\u001b[0;34m,\u001b[0m \u001b[0mM_s\u001b[0m\u001b[0;34m,\u001b[0m \u001b[0mM_o\u001b[0m\u001b[0;34m,\u001b[0m \u001b[0mgamma\u001b[0m\u001b[0;34m,\u001b[0m \u001b[0mmu\u001b[0m\u001b[0;34m,\u001b[0m \u001b[0mT_o\u001b[0m\u001b[0;34m)\u001b[0m\u001b[0;34m:\u001b[0m\u001b[0;34m\u001b[0m\u001b[0;34m\u001b[0m\u001b[0m\n\u001b[1;32m      3\u001b[0m     \u001b[0mR_o\u001b[0m \u001b[0;34m=\u001b[0m \u001b[0mdegenerate_core_radius\u001b[0m\u001b[0;34m(\u001b[0m\u001b[0mM_o\u001b[0m\u001b[0;34m)\u001b[0m\u001b[0;34m\u001b[0m\u001b[0;34m\u001b[0m\u001b[0m\n\u001b[0;32m----> 4\u001b[0;31m     \u001b[0msol\u001b[0m \u001b[0;34m=\u001b[0m \u001b[0madiabatic_profile\u001b[0m\u001b[0;34m(\u001b[0m\u001b[0mR_s\u001b[0m\u001b[0;34m,\u001b[0m \u001b[0mT_s\u001b[0m\u001b[0;34m,\u001b[0m \u001b[0mM_s\u001b[0m\u001b[0;34m,\u001b[0m \u001b[0mM_o\u001b[0m\u001b[0;34m,\u001b[0m \u001b[0mgamma\u001b[0m\u001b[0;34m,\u001b[0m \u001b[0mmu\u001b[0m\u001b[0;34m)\u001b[0m\u001b[0;34m\u001b[0m\u001b[0;34m\u001b[0m\u001b[0m\n\u001b[0m\u001b[1;32m      5\u001b[0m     \u001b[0mT_res\u001b[0m \u001b[0;34m=\u001b[0m \u001b[0msol\u001b[0m\u001b[0;34m.\u001b[0m\u001b[0my\u001b[0m\u001b[0;34m[\u001b[0m\u001b[0;36m0\u001b[0m\u001b[0;34m]\u001b[0m\u001b[0;34m\u001b[0m\u001b[0;34m\u001b[0m\u001b[0m\n\u001b[1;32m      6\u001b[0m     \u001b[0merror\u001b[0m \u001b[0;34m=\u001b[0m \u001b[0mT_res\u001b[0m\u001b[0;34m[\u001b[0m\u001b[0;34m-\u001b[0m\u001b[0;36m1\u001b[0m\u001b[0;34m]\u001b[0m \u001b[0;34m-\u001b[0m \u001b[0mT_o\u001b[0m\u001b[0;34m.\u001b[0m\u001b[0mvalue\u001b[0m\u001b[0;34m\u001b[0m\u001b[0;34m\u001b[0m\u001b[0m\n",
      "\u001b[0;32m/var/folders/b_/4vdzp0yn5_n0jlzmh1wmgmkc0000gn/T/ipykernel_835/2341852217.py\u001b[0m in \u001b[0;36madiabatic_profile\u001b[0;34m(R_s, T_s, M_s, M_o, gamma, mu)\u001b[0m\n\u001b[1;32m     39\u001b[0m \u001b[0;34m\u001b[0m\u001b[0m\n\u001b[1;32m     40\u001b[0m     \u001b[0;31m# Solve\u001b[0m\u001b[0;34m\u001b[0m\u001b[0;34m\u001b[0m\u001b[0m\n\u001b[0;32m---> 41\u001b[0;31m     \u001b[0msol\u001b[0m \u001b[0;34m=\u001b[0m \u001b[0msolve_ivp\u001b[0m\u001b[0;34m(\u001b[0m\u001b[0mprofile_fun\u001b[0m\u001b[0;34m,\u001b[0m \u001b[0mR_span\u001b[0m\u001b[0;34m,\u001b[0m \u001b[0my0\u001b[0m \u001b[0;34m=\u001b[0m \u001b[0my0\u001b[0m\u001b[0;34m,\u001b[0m \u001b[0margs\u001b[0m\u001b[0;34m=\u001b[0m\u001b[0;34m(\u001b[0m\u001b[0mgamma\u001b[0m\u001b[0;34m,\u001b[0m \u001b[0mK\u001b[0m\u001b[0;34m,\u001b[0m \u001b[0mmu\u001b[0m\u001b[0;34m)\u001b[0m\u001b[0;34m,\u001b[0m \u001b[0mt_eval\u001b[0m\u001b[0;34m=\u001b[0m\u001b[0mR_eval\u001b[0m\u001b[0;34m)\u001b[0m\u001b[0;34m\u001b[0m\u001b[0;34m\u001b[0m\u001b[0m\n\u001b[0m\u001b[1;32m     42\u001b[0m     \u001b[0;32mreturn\u001b[0m \u001b[0msol\u001b[0m\u001b[0;34m\u001b[0m\u001b[0;34m\u001b[0m\u001b[0m\n",
      "\u001b[0;32m~/opt/anaconda3/lib/python3.9/site-packages/scipy/integrate/_ivp/ivp.py\u001b[0m in \u001b[0;36msolve_ivp\u001b[0;34m(fun, t_span, y0, method, t_eval, dense_output, events, vectorized, args, **options)\u001b[0m\n\u001b[1;32m    645\u001b[0m                     \u001b[0msol\u001b[0m \u001b[0;34m=\u001b[0m \u001b[0msolver\u001b[0m\u001b[0;34m.\u001b[0m\u001b[0mdense_output\u001b[0m\u001b[0;34m(\u001b[0m\u001b[0;34m)\u001b[0m\u001b[0;34m\u001b[0m\u001b[0;34m\u001b[0m\u001b[0m\n\u001b[1;32m    646\u001b[0m                 \u001b[0mts\u001b[0m\u001b[0;34m.\u001b[0m\u001b[0mappend\u001b[0m\u001b[0;34m(\u001b[0m\u001b[0mt_eval_step\u001b[0m\u001b[0;34m)\u001b[0m\u001b[0;34m\u001b[0m\u001b[0;34m\u001b[0m\u001b[0m\n\u001b[0;32m--> 647\u001b[0;31m                 \u001b[0mys\u001b[0m\u001b[0;34m.\u001b[0m\u001b[0mappend\u001b[0m\u001b[0;34m(\u001b[0m\u001b[0msol\u001b[0m\u001b[0;34m(\u001b[0m\u001b[0mt_eval_step\u001b[0m\u001b[0;34m)\u001b[0m\u001b[0;34m)\u001b[0m\u001b[0;34m\u001b[0m\u001b[0;34m\u001b[0m\u001b[0m\n\u001b[0m\u001b[1;32m    648\u001b[0m                 \u001b[0mt_eval_i\u001b[0m \u001b[0;34m=\u001b[0m \u001b[0mt_eval_i_new\u001b[0m\u001b[0;34m\u001b[0m\u001b[0;34m\u001b[0m\u001b[0m\n\u001b[1;32m    649\u001b[0m \u001b[0;34m\u001b[0m\u001b[0m\n",
      "\u001b[0;32m~/opt/anaconda3/lib/python3.9/site-packages/scipy/integrate/_ivp/base.py\u001b[0m in \u001b[0;36m__call__\u001b[0;34m(self, t)\u001b[0m\n\u001b[1;32m    250\u001b[0m         \u001b[0;32mif\u001b[0m \u001b[0mt\u001b[0m\u001b[0;34m.\u001b[0m\u001b[0mndim\u001b[0m \u001b[0;34m>\u001b[0m \u001b[0;36m1\u001b[0m\u001b[0;34m:\u001b[0m\u001b[0;34m\u001b[0m\u001b[0;34m\u001b[0m\u001b[0m\n\u001b[1;32m    251\u001b[0m             \u001b[0;32mraise\u001b[0m \u001b[0mValueError\u001b[0m\u001b[0;34m(\u001b[0m\u001b[0;34m\"`t` must be a float or a 1-D array.\"\u001b[0m\u001b[0;34m)\u001b[0m\u001b[0;34m\u001b[0m\u001b[0;34m\u001b[0m\u001b[0m\n\u001b[0;32m--> 252\u001b[0;31m         \u001b[0;32mreturn\u001b[0m \u001b[0mself\u001b[0m\u001b[0;34m.\u001b[0m\u001b[0m_call_impl\u001b[0m\u001b[0;34m(\u001b[0m\u001b[0mt\u001b[0m\u001b[0;34m)\u001b[0m\u001b[0;34m\u001b[0m\u001b[0;34m\u001b[0m\u001b[0m\n\u001b[0m\u001b[1;32m    253\u001b[0m \u001b[0;34m\u001b[0m\u001b[0m\n\u001b[1;32m    254\u001b[0m     \u001b[0;32mdef\u001b[0m \u001b[0m_call_impl\u001b[0m\u001b[0;34m(\u001b[0m\u001b[0mself\u001b[0m\u001b[0;34m,\u001b[0m \u001b[0mt\u001b[0m\u001b[0;34m)\u001b[0m\u001b[0;34m:\u001b[0m\u001b[0;34m\u001b[0m\u001b[0;34m\u001b[0m\u001b[0m\n",
      "\u001b[0;32m~/opt/anaconda3/lib/python3.9/site-packages/scipy/integrate/_ivp/rk.py\u001b[0m in \u001b[0;36m_call_impl\u001b[0;34m(self, t)\u001b[0m\n\u001b[1;32m    550\u001b[0m             \u001b[0mp\u001b[0m \u001b[0;34m=\u001b[0m \u001b[0mnp\u001b[0m\u001b[0;34m.\u001b[0m\u001b[0mcumprod\u001b[0m\u001b[0;34m(\u001b[0m\u001b[0mp\u001b[0m\u001b[0;34m)\u001b[0m\u001b[0;34m\u001b[0m\u001b[0;34m\u001b[0m\u001b[0m\n\u001b[1;32m    551\u001b[0m         \u001b[0;32melse\u001b[0m\u001b[0;34m:\u001b[0m\u001b[0;34m\u001b[0m\u001b[0;34m\u001b[0m\u001b[0m\n\u001b[0;32m--> 552\u001b[0;31m             \u001b[0mp\u001b[0m \u001b[0;34m=\u001b[0m \u001b[0mnp\u001b[0m\u001b[0;34m.\u001b[0m\u001b[0mtile\u001b[0m\u001b[0;34m(\u001b[0m\u001b[0mx\u001b[0m\u001b[0;34m,\u001b[0m \u001b[0;34m(\u001b[0m\u001b[0mself\u001b[0m\u001b[0;34m.\u001b[0m\u001b[0morder\u001b[0m \u001b[0;34m+\u001b[0m \u001b[0;36m1\u001b[0m\u001b[0;34m,\u001b[0m \u001b[0;36m1\u001b[0m\u001b[0;34m)\u001b[0m\u001b[0;34m)\u001b[0m\u001b[0;34m\u001b[0m\u001b[0;34m\u001b[0m\u001b[0m\n\u001b[0m\u001b[1;32m    553\u001b[0m             \u001b[0mp\u001b[0m \u001b[0;34m=\u001b[0m \u001b[0mnp\u001b[0m\u001b[0;34m.\u001b[0m\u001b[0mcumprod\u001b[0m\u001b[0;34m(\u001b[0m\u001b[0mp\u001b[0m\u001b[0;34m,\u001b[0m \u001b[0maxis\u001b[0m\u001b[0;34m=\u001b[0m\u001b[0;36m0\u001b[0m\u001b[0;34m)\u001b[0m\u001b[0;34m\u001b[0m\u001b[0;34m\u001b[0m\u001b[0m\n\u001b[1;32m    554\u001b[0m         \u001b[0my\u001b[0m \u001b[0;34m=\u001b[0m \u001b[0mself\u001b[0m\u001b[0;34m.\u001b[0m\u001b[0mh\u001b[0m \u001b[0;34m*\u001b[0m \u001b[0mnp\u001b[0m\u001b[0;34m.\u001b[0m\u001b[0mdot\u001b[0m\u001b[0;34m(\u001b[0m\u001b[0mself\u001b[0m\u001b[0;34m.\u001b[0m\u001b[0mQ\u001b[0m\u001b[0;34m,\u001b[0m \u001b[0mp\u001b[0m\u001b[0;34m)\u001b[0m\u001b[0;34m\u001b[0m\u001b[0;34m\u001b[0m\u001b[0m\n",
      "\u001b[0;32m<__array_function__ internals>\u001b[0m in \u001b[0;36mtile\u001b[0;34m(*args, **kwargs)\u001b[0m\n",
      "\u001b[0;32m~/opt/anaconda3/lib/python3.9/site-packages/numpy/lib/shape_base.py\u001b[0m in \u001b[0;36mtile\u001b[0;34m(A, reps)\u001b[0m\n\u001b[1;32m   1251\u001b[0m     \u001b[0;32mif\u001b[0m \u001b[0;34m(\u001b[0m\u001b[0md\u001b[0m \u001b[0;34m<\u001b[0m \u001b[0mc\u001b[0m\u001b[0;34m.\u001b[0m\u001b[0mndim\u001b[0m\u001b[0;34m)\u001b[0m\u001b[0;34m:\u001b[0m\u001b[0;34m\u001b[0m\u001b[0;34m\u001b[0m\u001b[0m\n\u001b[1;32m   1252\u001b[0m         \u001b[0mtup\u001b[0m \u001b[0;34m=\u001b[0m \u001b[0;34m(\u001b[0m\u001b[0;36m1\u001b[0m\u001b[0;34m,\u001b[0m\u001b[0;34m)\u001b[0m\u001b[0;34m*\u001b[0m\u001b[0;34m(\u001b[0m\u001b[0mc\u001b[0m\u001b[0;34m.\u001b[0m\u001b[0mndim\u001b[0m\u001b[0;34m-\u001b[0m\u001b[0md\u001b[0m\u001b[0;34m)\u001b[0m \u001b[0;34m+\u001b[0m \u001b[0mtup\u001b[0m\u001b[0;34m\u001b[0m\u001b[0;34m\u001b[0m\u001b[0m\n\u001b[0;32m-> 1253\u001b[0;31m     \u001b[0mshape_out\u001b[0m \u001b[0;34m=\u001b[0m \u001b[0mtuple\u001b[0m\u001b[0;34m(\u001b[0m\u001b[0ms\u001b[0m\u001b[0;34m*\u001b[0m\u001b[0mt\u001b[0m \u001b[0;32mfor\u001b[0m \u001b[0ms\u001b[0m\u001b[0;34m,\u001b[0m \u001b[0mt\u001b[0m \u001b[0;32min\u001b[0m \u001b[0mzip\u001b[0m\u001b[0;34m(\u001b[0m\u001b[0mc\u001b[0m\u001b[0;34m.\u001b[0m\u001b[0mshape\u001b[0m\u001b[0;34m,\u001b[0m \u001b[0mtup\u001b[0m\u001b[0;34m)\u001b[0m\u001b[0;34m)\u001b[0m\u001b[0;34m\u001b[0m\u001b[0;34m\u001b[0m\u001b[0m\n\u001b[0m\u001b[1;32m   1254\u001b[0m     \u001b[0mn\u001b[0m \u001b[0;34m=\u001b[0m \u001b[0mc\u001b[0m\u001b[0;34m.\u001b[0m\u001b[0msize\u001b[0m\u001b[0;34m\u001b[0m\u001b[0;34m\u001b[0m\u001b[0m\n\u001b[1;32m   1255\u001b[0m     \u001b[0;32mif\u001b[0m \u001b[0mn\u001b[0m \u001b[0;34m>\u001b[0m \u001b[0;36m0\u001b[0m\u001b[0;34m:\u001b[0m\u001b[0;34m\u001b[0m\u001b[0;34m\u001b[0m\u001b[0m\n",
      "\u001b[0;31mKeyboardInterrupt\u001b[0m: "
     ]
    }
   ],
   "source": [
    "N = 7\n",
    "M_s_range = np.linspace(0.3, 8, N + 1) * u.solMass\n",
    "M_o_perc_range = np.logspace(-3, 0, N)\n",
    "M_o_range = np.tensordot(M_s_range, M_o_perc_range, axes = 0)\n",
    "\n",
    "sol = np.ones((N+1, N))\n",
    "\n",
    "for i, M_s in enumerate(M_s_range):\n",
    "    for j, M_o in enumerate(M_o_range[i]):\n",
    "        val = changes_sign(error_at_endpoints(M_s, M_o, gamma, mu, T_o))\n",
    "        if val: print(M_s, M_o, val)\n",
    "        sol[i, j] = val\n",
    "    \n",
    "plt.imshow(sol)"
   ]
  },
  {
   "attachments": {},
   "cell_type": "markdown",
   "metadata": {},
   "source": [
    "### Try different approach instead of gridsearch\n",
    "- Fix M_s\n",
    "- Range over M_o by minimising the error's absolute value"
   ]
  },
  {
   "cell_type": "code",
   "execution_count": 33,
   "metadata": {},
   "outputs": [],
   "source": [
    "def min_error_over_mass(M_o_perc, M_s, N = 10):\n",
    "    M_o = M_s*M_o_perc.item()\n",
    "    err = error_over_parameters(M_s, M_o, N = 10)\n",
    "    min_err = np.nanmin(np.abs(err.value))\n",
    "    return min_err"
   ]
  },
  {
   "cell_type": "code",
   "execution_count": 432,
   "metadata": {},
   "outputs": [],
   "source": [
    "def mass_minimize_error(M_s):\n",
    "    res = minimize(min_error_over_mass, 0.04/M_s.value, args=(M_s), bounds=[(0.001, 1)], tol = 1e-1)\n",
    "    #print(res)\n",
    "    M_o_perc = (res.x).item()\n",
    "    return M_s*M_o_perc"
   ]
  },
  {
   "cell_type": "code",
   "execution_count": 433,
   "metadata": {},
   "outputs": [
    {
     "name": "stderr",
     "output_type": "stream",
     "text": [
      "/var/folders/b_/4vdzp0yn5_n0jlzmh1wmgmkc0000gn/T/ipykernel_835/646426579.py:25: RuntimeWarning: invalid value encountered in double_scalars\n",
      "  drhodR = - (G.value/(gamma*K))*(y[1]*y[2]**(2-gamma)/R**2)\n"
     ]
    },
    {
     "ename": "KeyboardInterrupt",
     "evalue": "",
     "output_type": "error",
     "traceback": [
      "\u001b[0;31m---------------------------------------------------------------------------\u001b[0m",
      "\u001b[0;31mKeyboardInterrupt\u001b[0m                         Traceback (most recent call last)",
      "\u001b[0;32m/var/folders/b_/4vdzp0yn5_n0jlzmh1wmgmkc0000gn/T/ipykernel_835/2565934996.py\u001b[0m in \u001b[0;36m<module>\u001b[0;34m\u001b[0m\n\u001b[0;32m----> 1\u001b[0;31m \u001b[0mmass_minimize_error\u001b[0m\u001b[0;34m(\u001b[0m\u001b[0;36m8\u001b[0m\u001b[0;34m*\u001b[0m\u001b[0mu\u001b[0m\u001b[0;34m.\u001b[0m\u001b[0msolMass\u001b[0m\u001b[0;34m)\u001b[0m\u001b[0;34m\u001b[0m\u001b[0;34m\u001b[0m\u001b[0m\n\u001b[0m",
      "\u001b[0;32m/var/folders/b_/4vdzp0yn5_n0jlzmh1wmgmkc0000gn/T/ipykernel_835/2405418704.py\u001b[0m in \u001b[0;36mmass_minimize_error\u001b[0;34m(M_s)\u001b[0m\n\u001b[1;32m      1\u001b[0m \u001b[0;32mdef\u001b[0m \u001b[0mmass_minimize_error\u001b[0m\u001b[0;34m(\u001b[0m\u001b[0mM_s\u001b[0m\u001b[0;34m)\u001b[0m\u001b[0;34m:\u001b[0m\u001b[0;34m\u001b[0m\u001b[0;34m\u001b[0m\u001b[0m\n\u001b[0;32m----> 2\u001b[0;31m     \u001b[0mres\u001b[0m \u001b[0;34m=\u001b[0m \u001b[0mminimize\u001b[0m\u001b[0;34m(\u001b[0m\u001b[0mmin_error_over_mass\u001b[0m\u001b[0;34m,\u001b[0m \u001b[0;36m0.04\u001b[0m\u001b[0;34m/\u001b[0m\u001b[0mM_s\u001b[0m\u001b[0;34m.\u001b[0m\u001b[0mvalue\u001b[0m\u001b[0;34m,\u001b[0m \u001b[0margs\u001b[0m\u001b[0;34m=\u001b[0m\u001b[0;34m(\u001b[0m\u001b[0mM_s\u001b[0m\u001b[0;34m)\u001b[0m\u001b[0;34m,\u001b[0m \u001b[0mbounds\u001b[0m\u001b[0;34m=\u001b[0m\u001b[0;34m[\u001b[0m\u001b[0;34m(\u001b[0m\u001b[0;36m0.001\u001b[0m\u001b[0;34m,\u001b[0m \u001b[0;36m1\u001b[0m\u001b[0;34m)\u001b[0m\u001b[0;34m]\u001b[0m\u001b[0;34m,\u001b[0m \u001b[0mtol\u001b[0m \u001b[0;34m=\u001b[0m \u001b[0;36m1e-1\u001b[0m\u001b[0;34m)\u001b[0m\u001b[0;34m\u001b[0m\u001b[0;34m\u001b[0m\u001b[0m\n\u001b[0m\u001b[1;32m      3\u001b[0m     \u001b[0;31m#print(res)\u001b[0m\u001b[0;34m\u001b[0m\u001b[0;34m\u001b[0m\u001b[0m\n\u001b[1;32m      4\u001b[0m     \u001b[0mM_o_perc\u001b[0m \u001b[0;34m=\u001b[0m \u001b[0;34m(\u001b[0m\u001b[0mres\u001b[0m\u001b[0;34m.\u001b[0m\u001b[0mx\u001b[0m\u001b[0;34m)\u001b[0m\u001b[0;34m.\u001b[0m\u001b[0mitem\u001b[0m\u001b[0;34m(\u001b[0m\u001b[0;34m)\u001b[0m\u001b[0;34m\u001b[0m\u001b[0;34m\u001b[0m\u001b[0m\n\u001b[1;32m      5\u001b[0m     \u001b[0;32mreturn\u001b[0m \u001b[0mM_s\u001b[0m\u001b[0;34m*\u001b[0m\u001b[0mM_o_perc\u001b[0m\u001b[0;34m\u001b[0m\u001b[0;34m\u001b[0m\u001b[0m\n",
      "\u001b[0;32m~/opt/anaconda3/lib/python3.9/site-packages/scipy/optimize/_minimize.py\u001b[0m in \u001b[0;36mminimize\u001b[0;34m(fun, x0, args, method, jac, hess, hessp, bounds, constraints, tol, callback, options)\u001b[0m\n\u001b[1;32m    697\u001b[0m                                  **options)\n\u001b[1;32m    698\u001b[0m     \u001b[0;32melif\u001b[0m \u001b[0mmeth\u001b[0m \u001b[0;34m==\u001b[0m \u001b[0;34m'l-bfgs-b'\u001b[0m\u001b[0;34m:\u001b[0m\u001b[0;34m\u001b[0m\u001b[0;34m\u001b[0m\u001b[0m\n\u001b[0;32m--> 699\u001b[0;31m         res = _minimize_lbfgsb(fun, x0, args, jac, bounds,\n\u001b[0m\u001b[1;32m    700\u001b[0m                                callback=callback, **options)\n\u001b[1;32m    701\u001b[0m     \u001b[0;32melif\u001b[0m \u001b[0mmeth\u001b[0m \u001b[0;34m==\u001b[0m \u001b[0;34m'tnc'\u001b[0m\u001b[0;34m:\u001b[0m\u001b[0;34m\u001b[0m\u001b[0;34m\u001b[0m\u001b[0m\n",
      "\u001b[0;32m~/opt/anaconda3/lib/python3.9/site-packages/scipy/optimize/_lbfgsb_py.py\u001b[0m in \u001b[0;36m_minimize_lbfgsb\u001b[0;34m(fun, x0, args, jac, bounds, disp, maxcor, ftol, gtol, eps, maxfun, maxiter, iprint, callback, maxls, finite_diff_rel_step, **unknown_options)\u001b[0m\n\u001b[1;32m    306\u001b[0m             \u001b[0miprint\u001b[0m \u001b[0;34m=\u001b[0m \u001b[0mdisp\u001b[0m\u001b[0;34m\u001b[0m\u001b[0;34m\u001b[0m\u001b[0m\n\u001b[1;32m    307\u001b[0m \u001b[0;34m\u001b[0m\u001b[0m\n\u001b[0;32m--> 308\u001b[0;31m     sf = _prepare_scalar_function(fun, x0, jac=jac, args=args, epsilon=eps,\n\u001b[0m\u001b[1;32m    309\u001b[0m                                   \u001b[0mbounds\u001b[0m\u001b[0;34m=\u001b[0m\u001b[0mnew_bounds\u001b[0m\u001b[0;34m,\u001b[0m\u001b[0;34m\u001b[0m\u001b[0;34m\u001b[0m\u001b[0m\n\u001b[1;32m    310\u001b[0m                                   finite_diff_rel_step=finite_diff_rel_step)\n",
      "\u001b[0;32m~/opt/anaconda3/lib/python3.9/site-packages/scipy/optimize/_optimize.py\u001b[0m in \u001b[0;36m_prepare_scalar_function\u001b[0;34m(fun, x0, jac, args, bounds, epsilon, finite_diff_rel_step, hess)\u001b[0m\n\u001b[1;32m    261\u001b[0m     \u001b[0;31m# ScalarFunction caches. Reuse of fun(x) during grad\u001b[0m\u001b[0;34m\u001b[0m\u001b[0;34m\u001b[0m\u001b[0m\n\u001b[1;32m    262\u001b[0m     \u001b[0;31m# calculation reduces overall function evaluations.\u001b[0m\u001b[0;34m\u001b[0m\u001b[0;34m\u001b[0m\u001b[0m\n\u001b[0;32m--> 263\u001b[0;31m     sf = ScalarFunction(fun, x0, args, grad, hess,\n\u001b[0m\u001b[1;32m    264\u001b[0m                         finite_diff_rel_step, bounds, epsilon=epsilon)\n\u001b[1;32m    265\u001b[0m \u001b[0;34m\u001b[0m\u001b[0m\n",
      "\u001b[0;32m~/opt/anaconda3/lib/python3.9/site-packages/scipy/optimize/_differentiable_functions.py\u001b[0m in \u001b[0;36m__init__\u001b[0;34m(self, fun, x0, args, grad, hess, finite_diff_rel_step, finite_diff_bounds, epsilon)\u001b[0m\n\u001b[1;32m    156\u001b[0m \u001b[0;34m\u001b[0m\u001b[0m\n\u001b[1;32m    157\u001b[0m         \u001b[0mself\u001b[0m\u001b[0;34m.\u001b[0m\u001b[0m_update_fun_impl\u001b[0m \u001b[0;34m=\u001b[0m \u001b[0mupdate_fun\u001b[0m\u001b[0;34m\u001b[0m\u001b[0;34m\u001b[0m\u001b[0m\n\u001b[0;32m--> 158\u001b[0;31m         \u001b[0mself\u001b[0m\u001b[0;34m.\u001b[0m\u001b[0m_update_fun\u001b[0m\u001b[0;34m(\u001b[0m\u001b[0;34m)\u001b[0m\u001b[0;34m\u001b[0m\u001b[0;34m\u001b[0m\u001b[0m\n\u001b[0m\u001b[1;32m    159\u001b[0m \u001b[0;34m\u001b[0m\u001b[0m\n\u001b[1;32m    160\u001b[0m         \u001b[0;31m# Gradient evaluation\u001b[0m\u001b[0;34m\u001b[0m\u001b[0;34m\u001b[0m\u001b[0m\n",
      "\u001b[0;32m~/opt/anaconda3/lib/python3.9/site-packages/scipy/optimize/_differentiable_functions.py\u001b[0m in \u001b[0;36m_update_fun\u001b[0;34m(self)\u001b[0m\n\u001b[1;32m    249\u001b[0m     \u001b[0;32mdef\u001b[0m \u001b[0m_update_fun\u001b[0m\u001b[0;34m(\u001b[0m\u001b[0mself\u001b[0m\u001b[0;34m)\u001b[0m\u001b[0;34m:\u001b[0m\u001b[0;34m\u001b[0m\u001b[0;34m\u001b[0m\u001b[0m\n\u001b[1;32m    250\u001b[0m         \u001b[0;32mif\u001b[0m \u001b[0;32mnot\u001b[0m \u001b[0mself\u001b[0m\u001b[0;34m.\u001b[0m\u001b[0mf_updated\u001b[0m\u001b[0;34m:\u001b[0m\u001b[0;34m\u001b[0m\u001b[0;34m\u001b[0m\u001b[0m\n\u001b[0;32m--> 251\u001b[0;31m             \u001b[0mself\u001b[0m\u001b[0;34m.\u001b[0m\u001b[0m_update_fun_impl\u001b[0m\u001b[0;34m(\u001b[0m\u001b[0;34m)\u001b[0m\u001b[0;34m\u001b[0m\u001b[0;34m\u001b[0m\u001b[0m\n\u001b[0m\u001b[1;32m    252\u001b[0m             \u001b[0mself\u001b[0m\u001b[0;34m.\u001b[0m\u001b[0mf_updated\u001b[0m \u001b[0;34m=\u001b[0m \u001b[0;32mTrue\u001b[0m\u001b[0;34m\u001b[0m\u001b[0;34m\u001b[0m\u001b[0m\n\u001b[1;32m    253\u001b[0m \u001b[0;34m\u001b[0m\u001b[0m\n",
      "\u001b[0;32m~/opt/anaconda3/lib/python3.9/site-packages/scipy/optimize/_differentiable_functions.py\u001b[0m in \u001b[0;36mupdate_fun\u001b[0;34m()\u001b[0m\n\u001b[1;32m    153\u001b[0m \u001b[0;34m\u001b[0m\u001b[0m\n\u001b[1;32m    154\u001b[0m         \u001b[0;32mdef\u001b[0m \u001b[0mupdate_fun\u001b[0m\u001b[0;34m(\u001b[0m\u001b[0;34m)\u001b[0m\u001b[0;34m:\u001b[0m\u001b[0;34m\u001b[0m\u001b[0;34m\u001b[0m\u001b[0m\n\u001b[0;32m--> 155\u001b[0;31m             \u001b[0mself\u001b[0m\u001b[0;34m.\u001b[0m\u001b[0mf\u001b[0m \u001b[0;34m=\u001b[0m \u001b[0mfun_wrapped\u001b[0m\u001b[0;34m(\u001b[0m\u001b[0mself\u001b[0m\u001b[0;34m.\u001b[0m\u001b[0mx\u001b[0m\u001b[0;34m)\u001b[0m\u001b[0;34m\u001b[0m\u001b[0;34m\u001b[0m\u001b[0m\n\u001b[0m\u001b[1;32m    156\u001b[0m \u001b[0;34m\u001b[0m\u001b[0m\n\u001b[1;32m    157\u001b[0m         \u001b[0mself\u001b[0m\u001b[0;34m.\u001b[0m\u001b[0m_update_fun_impl\u001b[0m \u001b[0;34m=\u001b[0m \u001b[0mupdate_fun\u001b[0m\u001b[0;34m\u001b[0m\u001b[0;34m\u001b[0m\u001b[0m\n",
      "\u001b[0;32m~/opt/anaconda3/lib/python3.9/site-packages/scipy/optimize/_differentiable_functions.py\u001b[0m in \u001b[0;36mfun_wrapped\u001b[0;34m(x)\u001b[0m\n\u001b[1;32m    135\u001b[0m             \u001b[0;31m# Overwriting results in undefined behaviour because\u001b[0m\u001b[0;34m\u001b[0m\u001b[0;34m\u001b[0m\u001b[0m\n\u001b[1;32m    136\u001b[0m             \u001b[0;31m# fun(self.x) will change self.x, with the two no longer linked.\u001b[0m\u001b[0;34m\u001b[0m\u001b[0;34m\u001b[0m\u001b[0m\n\u001b[0;32m--> 137\u001b[0;31m             \u001b[0mfx\u001b[0m \u001b[0;34m=\u001b[0m \u001b[0mfun\u001b[0m\u001b[0;34m(\u001b[0m\u001b[0mnp\u001b[0m\u001b[0;34m.\u001b[0m\u001b[0mcopy\u001b[0m\u001b[0;34m(\u001b[0m\u001b[0mx\u001b[0m\u001b[0;34m)\u001b[0m\u001b[0;34m,\u001b[0m \u001b[0;34m*\u001b[0m\u001b[0margs\u001b[0m\u001b[0;34m)\u001b[0m\u001b[0;34m\u001b[0m\u001b[0;34m\u001b[0m\u001b[0m\n\u001b[0m\u001b[1;32m    138\u001b[0m             \u001b[0;31m# Make sure the function returns a true scalar\u001b[0m\u001b[0;34m\u001b[0m\u001b[0;34m\u001b[0m\u001b[0m\n\u001b[1;32m    139\u001b[0m             \u001b[0;32mif\u001b[0m \u001b[0;32mnot\u001b[0m \u001b[0mnp\u001b[0m\u001b[0;34m.\u001b[0m\u001b[0misscalar\u001b[0m\u001b[0;34m(\u001b[0m\u001b[0mfx\u001b[0m\u001b[0;34m)\u001b[0m\u001b[0;34m:\u001b[0m\u001b[0;34m\u001b[0m\u001b[0;34m\u001b[0m\u001b[0m\n",
      "\u001b[0;32m/var/folders/b_/4vdzp0yn5_n0jlzmh1wmgmkc0000gn/T/ipykernel_835/1813930522.py\u001b[0m in \u001b[0;36mmin_error_over_mass\u001b[0;34m(M_o_perc, M_s, N)\u001b[0m\n\u001b[1;32m      1\u001b[0m \u001b[0;32mdef\u001b[0m \u001b[0mmin_error_over_mass\u001b[0m\u001b[0;34m(\u001b[0m\u001b[0mM_o_perc\u001b[0m\u001b[0;34m,\u001b[0m \u001b[0mM_s\u001b[0m\u001b[0;34m,\u001b[0m \u001b[0mN\u001b[0m \u001b[0;34m=\u001b[0m \u001b[0;36m10\u001b[0m\u001b[0;34m)\u001b[0m\u001b[0;34m:\u001b[0m\u001b[0;34m\u001b[0m\u001b[0;34m\u001b[0m\u001b[0m\n\u001b[1;32m      2\u001b[0m     \u001b[0mM_o\u001b[0m \u001b[0;34m=\u001b[0m \u001b[0mM_s\u001b[0m\u001b[0;34m*\u001b[0m\u001b[0mM_o_perc\u001b[0m\u001b[0;34m.\u001b[0m\u001b[0mitem\u001b[0m\u001b[0;34m(\u001b[0m\u001b[0;34m)\u001b[0m\u001b[0;34m\u001b[0m\u001b[0;34m\u001b[0m\u001b[0m\n\u001b[0;32m----> 3\u001b[0;31m     \u001b[0merr\u001b[0m \u001b[0;34m=\u001b[0m \u001b[0merror_over_parameters\u001b[0m\u001b[0;34m(\u001b[0m\u001b[0mM_s\u001b[0m\u001b[0;34m,\u001b[0m \u001b[0mM_o\u001b[0m\u001b[0;34m,\u001b[0m \u001b[0mN\u001b[0m \u001b[0;34m=\u001b[0m \u001b[0;36m10\u001b[0m\u001b[0;34m)\u001b[0m\u001b[0;34m\u001b[0m\u001b[0;34m\u001b[0m\u001b[0m\n\u001b[0m\u001b[1;32m      4\u001b[0m     \u001b[0mmin_err\u001b[0m \u001b[0;34m=\u001b[0m \u001b[0mnp\u001b[0m\u001b[0;34m.\u001b[0m\u001b[0mnanmin\u001b[0m\u001b[0;34m(\u001b[0m\u001b[0mnp\u001b[0m\u001b[0;34m.\u001b[0m\u001b[0mabs\u001b[0m\u001b[0;34m(\u001b[0m\u001b[0merr\u001b[0m\u001b[0;34m.\u001b[0m\u001b[0mvalue\u001b[0m\u001b[0;34m)\u001b[0m\u001b[0;34m)\u001b[0m\u001b[0;34m\u001b[0m\u001b[0;34m\u001b[0m\u001b[0m\n\u001b[1;32m      5\u001b[0m     \u001b[0;32mreturn\u001b[0m \u001b[0mmin_err\u001b[0m\u001b[0;34m\u001b[0m\u001b[0;34m\u001b[0m\u001b[0m\n",
      "\u001b[0;32m/var/folders/b_/4vdzp0yn5_n0jlzmh1wmgmkc0000gn/T/ipykernel_835/238764728.py\u001b[0m in \u001b[0;36merror_over_parameters\u001b[0;34m(M_s, M_o, N)\u001b[0m\n\u001b[1;32m      4\u001b[0m     \u001b[0;32mfor\u001b[0m \u001b[0mi\u001b[0m\u001b[0;34m,\u001b[0m \u001b[0mR\u001b[0m \u001b[0;32min\u001b[0m \u001b[0menumerate\u001b[0m\u001b[0;34m(\u001b[0m\u001b[0mR_list\u001b[0m\u001b[0;34m)\u001b[0m\u001b[0;34m:\u001b[0m\u001b[0;34m\u001b[0m\u001b[0;34m\u001b[0m\u001b[0m\n\u001b[1;32m      5\u001b[0m         \u001b[0;32mtry\u001b[0m\u001b[0;34m:\u001b[0m\u001b[0;34m\u001b[0m\u001b[0;34m\u001b[0m\u001b[0m\n\u001b[0;32m----> 6\u001b[0;31m             \u001b[0merr\u001b[0m\u001b[0;34m[\u001b[0m\u001b[0mi\u001b[0m\u001b[0;34m]\u001b[0m \u001b[0;34m=\u001b[0m \u001b[0mcore_error\u001b[0m\u001b[0;34m(\u001b[0m\u001b[0mR\u001b[0m\u001b[0;34m,\u001b[0m \u001b[0mM_s\u001b[0m\u001b[0;34m,\u001b[0m \u001b[0mM_o\u001b[0m\u001b[0;34m,\u001b[0m \u001b[0mgamma\u001b[0m\u001b[0;34m,\u001b[0m \u001b[0mmu\u001b[0m\u001b[0;34m,\u001b[0m \u001b[0mT_o\u001b[0m\u001b[0;34m)\u001b[0m\u001b[0;34m\u001b[0m\u001b[0;34m\u001b[0m\u001b[0m\n\u001b[0m\u001b[1;32m      7\u001b[0m         \u001b[0;32mexcept\u001b[0m \u001b[0mValueError\u001b[0m \u001b[0;32mas\u001b[0m \u001b[0mv\u001b[0m\u001b[0;34m:\u001b[0m\u001b[0;34m\u001b[0m\u001b[0;34m\u001b[0m\u001b[0m\n\u001b[1;32m      8\u001b[0m             \u001b[0mprint\u001b[0m\u001b[0;34m(\u001b[0m\u001b[0;34m\"Params: \"\u001b[0m\u001b[0;34m,\u001b[0m \u001b[0mR\u001b[0m\u001b[0;34m,\u001b[0m \u001b[0mv\u001b[0m\u001b[0;34m)\u001b[0m\u001b[0;34m\u001b[0m\u001b[0;34m\u001b[0m\u001b[0m\n",
      "\u001b[0;32m/var/folders/b_/4vdzp0yn5_n0jlzmh1wmgmkc0000gn/T/ipykernel_835/15383764.py\u001b[0m in \u001b[0;36mcore_error\u001b[0;34m(R_s, M_s, M_o, gamma, mu, T_o)\u001b[0m\n\u001b[1;32m      1\u001b[0m \u001b[0;32mdef\u001b[0m \u001b[0mcore_error\u001b[0m\u001b[0;34m(\u001b[0m\u001b[0mR_s\u001b[0m\u001b[0;34m,\u001b[0m \u001b[0mM_s\u001b[0m\u001b[0;34m,\u001b[0m \u001b[0mM_o\u001b[0m\u001b[0;34m,\u001b[0m \u001b[0mgamma\u001b[0m\u001b[0;34m,\u001b[0m \u001b[0mmu\u001b[0m\u001b[0;34m,\u001b[0m \u001b[0mT_o\u001b[0m\u001b[0;34m)\u001b[0m\u001b[0;34m:\u001b[0m\u001b[0;34m\u001b[0m\u001b[0;34m\u001b[0m\u001b[0m\n\u001b[1;32m      2\u001b[0m     \u001b[0;32mtry\u001b[0m\u001b[0;34m:\u001b[0m\u001b[0;34m\u001b[0m\u001b[0;34m\u001b[0m\u001b[0m\n\u001b[0;32m----> 3\u001b[0;31m         \u001b[0mT_s\u001b[0m \u001b[0;34m=\u001b[0m \u001b[0mstar_surface_temperature\u001b[0m\u001b[0;34m(\u001b[0m\u001b[0mR_s\u001b[0m\u001b[0;34m,\u001b[0m \u001b[0mM_s\u001b[0m\u001b[0;34m,\u001b[0m \u001b[0mM_o\u001b[0m\u001b[0;34m,\u001b[0m \u001b[0mgamma\u001b[0m\u001b[0;34m,\u001b[0m \u001b[0mmu\u001b[0m\u001b[0;34m,\u001b[0m \u001b[0mT_o\u001b[0m\u001b[0;34m)\u001b[0m\u001b[0;34m\u001b[0m\u001b[0;34m\u001b[0m\u001b[0m\n\u001b[0m\u001b[1;32m      4\u001b[0m         \u001b[0merror\u001b[0m \u001b[0;34m=\u001b[0m \u001b[0mcore_mass_error\u001b[0m\u001b[0;34m(\u001b[0m\u001b[0mR_s\u001b[0m\u001b[0;34m,\u001b[0m \u001b[0mT_s\u001b[0m\u001b[0;34m,\u001b[0m \u001b[0mM_s\u001b[0m\u001b[0;34m,\u001b[0m \u001b[0mM_o\u001b[0m\u001b[0;34m,\u001b[0m \u001b[0mgamma\u001b[0m\u001b[0;34m,\u001b[0m \u001b[0mmu\u001b[0m\u001b[0;34m)\u001b[0m\u001b[0;34m\u001b[0m\u001b[0;34m\u001b[0m\u001b[0m\n\u001b[1;32m      5\u001b[0m         \u001b[0;32mreturn\u001b[0m \u001b[0;34m(\u001b[0m\u001b[0merror\u001b[0m \u001b[0;34m*\u001b[0m \u001b[0mu\u001b[0m\u001b[0;34m.\u001b[0m\u001b[0mkg\u001b[0m\u001b[0;34m)\u001b[0m\u001b[0;34m.\u001b[0m\u001b[0mto\u001b[0m\u001b[0;34m(\u001b[0m\u001b[0mu\u001b[0m\u001b[0;34m.\u001b[0m\u001b[0msolMass\u001b[0m\u001b[0;34m)\u001b[0m\u001b[0;34m\u001b[0m\u001b[0;34m\u001b[0m\u001b[0m\n",
      "\u001b[0;32m/var/folders/b_/4vdzp0yn5_n0jlzmh1wmgmkc0000gn/T/ipykernel_835/381960891.py\u001b[0m in \u001b[0;36mstar_surface_temperature\u001b[0;34m(R_s, M_s, M_o, gamma, mu, T_o)\u001b[0m\n\u001b[1;32m      3\u001b[0m     \u001b[0mguess_1\u001b[0m\u001b[0;34m,\u001b[0m \u001b[0mguess_2\u001b[0m \u001b[0;34m=\u001b[0m \u001b[0;36m1\u001b[0m\u001b[0;34m,\u001b[0m \u001b[0;36m5e4\u001b[0m\u001b[0;34m\u001b[0m\u001b[0;34m\u001b[0m\u001b[0m\n\u001b[1;32m      4\u001b[0m     \u001b[0margs\u001b[0m \u001b[0;34m=\u001b[0m \u001b[0;34m(\u001b[0m\u001b[0mR_s\u001b[0m\u001b[0;34m,\u001b[0m \u001b[0mM_s\u001b[0m\u001b[0;34m,\u001b[0m \u001b[0mM_o\u001b[0m\u001b[0;34m,\u001b[0m \u001b[0mgamma\u001b[0m\u001b[0;34m,\u001b[0m \u001b[0mmu\u001b[0m\u001b[0;34m,\u001b[0m \u001b[0mT_o\u001b[0m\u001b[0;34m)\u001b[0m\u001b[0;34m\u001b[0m\u001b[0;34m\u001b[0m\u001b[0m\n\u001b[0;32m----> 5\u001b[0;31m     \u001b[0mR_s\u001b[0m \u001b[0;34m=\u001b[0m \u001b[0mbrentq\u001b[0m\u001b[0;34m(\u001b[0m\u001b[0mcore_temp_error\u001b[0m\u001b[0;34m,\u001b[0m \u001b[0mguess_1\u001b[0m\u001b[0;34m,\u001b[0m \u001b[0mguess_2\u001b[0m\u001b[0;34m,\u001b[0m \u001b[0margs\u001b[0m\u001b[0;34m=\u001b[0m\u001b[0margs\u001b[0m\u001b[0;34m)\u001b[0m\u001b[0;34m\u001b[0m\u001b[0;34m\u001b[0m\u001b[0m\n\u001b[0m\u001b[1;32m      6\u001b[0m     \u001b[0;32mreturn\u001b[0m \u001b[0mR_s\u001b[0m\u001b[0;34m\u001b[0m\u001b[0;34m\u001b[0m\u001b[0m\n",
      "\u001b[0;32m~/opt/anaconda3/lib/python3.9/site-packages/scipy/optimize/_zeros_py.py\u001b[0m in \u001b[0;36mbrentq\u001b[0;34m(f, a, b, args, xtol, rtol, maxiter, full_output, disp)\u001b[0m\n\u001b[1;32m    781\u001b[0m     \u001b[0;32mif\u001b[0m \u001b[0mrtol\u001b[0m \u001b[0;34m<\u001b[0m \u001b[0m_rtol\u001b[0m\u001b[0;34m:\u001b[0m\u001b[0;34m\u001b[0m\u001b[0;34m\u001b[0m\u001b[0m\n\u001b[1;32m    782\u001b[0m         \u001b[0;32mraise\u001b[0m \u001b[0mValueError\u001b[0m\u001b[0;34m(\u001b[0m\u001b[0;34m\"rtol too small (%g < %g)\"\u001b[0m \u001b[0;34m%\u001b[0m \u001b[0;34m(\u001b[0m\u001b[0mrtol\u001b[0m\u001b[0;34m,\u001b[0m \u001b[0m_rtol\u001b[0m\u001b[0;34m)\u001b[0m\u001b[0;34m)\u001b[0m\u001b[0;34m\u001b[0m\u001b[0;34m\u001b[0m\u001b[0m\n\u001b[0;32m--> 783\u001b[0;31m     \u001b[0mr\u001b[0m \u001b[0;34m=\u001b[0m \u001b[0m_zeros\u001b[0m\u001b[0;34m.\u001b[0m\u001b[0m_brentq\u001b[0m\u001b[0;34m(\u001b[0m\u001b[0mf\u001b[0m\u001b[0;34m,\u001b[0m \u001b[0ma\u001b[0m\u001b[0;34m,\u001b[0m \u001b[0mb\u001b[0m\u001b[0;34m,\u001b[0m \u001b[0mxtol\u001b[0m\u001b[0;34m,\u001b[0m \u001b[0mrtol\u001b[0m\u001b[0;34m,\u001b[0m \u001b[0mmaxiter\u001b[0m\u001b[0;34m,\u001b[0m \u001b[0margs\u001b[0m\u001b[0;34m,\u001b[0m \u001b[0mfull_output\u001b[0m\u001b[0;34m,\u001b[0m \u001b[0mdisp\u001b[0m\u001b[0;34m)\u001b[0m\u001b[0;34m\u001b[0m\u001b[0;34m\u001b[0m\u001b[0m\n\u001b[0m\u001b[1;32m    784\u001b[0m     \u001b[0;32mreturn\u001b[0m \u001b[0mresults_c\u001b[0m\u001b[0;34m(\u001b[0m\u001b[0mfull_output\u001b[0m\u001b[0;34m,\u001b[0m \u001b[0mr\u001b[0m\u001b[0;34m)\u001b[0m\u001b[0;34m\u001b[0m\u001b[0;34m\u001b[0m\u001b[0m\n\u001b[1;32m    785\u001b[0m \u001b[0;34m\u001b[0m\u001b[0m\n",
      "\u001b[0;32m/var/folders/b_/4vdzp0yn5_n0jlzmh1wmgmkc0000gn/T/ipykernel_835/550174315.py\u001b[0m in \u001b[0;36mcore_temp_error\u001b[0;34m(T_s, R_s, M_s, M_o, gamma, mu, T_o)\u001b[0m\n\u001b[1;32m      2\u001b[0m \u001b[0;32mdef\u001b[0m \u001b[0mcore_temp_error\u001b[0m\u001b[0;34m(\u001b[0m\u001b[0mT_s\u001b[0m\u001b[0;34m,\u001b[0m \u001b[0mR_s\u001b[0m\u001b[0;34m,\u001b[0m \u001b[0mM_s\u001b[0m\u001b[0;34m,\u001b[0m \u001b[0mM_o\u001b[0m\u001b[0;34m,\u001b[0m \u001b[0mgamma\u001b[0m\u001b[0;34m,\u001b[0m \u001b[0mmu\u001b[0m\u001b[0;34m,\u001b[0m \u001b[0mT_o\u001b[0m\u001b[0;34m)\u001b[0m\u001b[0;34m:\u001b[0m\u001b[0;34m\u001b[0m\u001b[0;34m\u001b[0m\u001b[0m\n\u001b[1;32m      3\u001b[0m     \u001b[0mR_o\u001b[0m \u001b[0;34m=\u001b[0m \u001b[0mdegenerate_core_radius\u001b[0m\u001b[0;34m(\u001b[0m\u001b[0mM_o\u001b[0m\u001b[0;34m)\u001b[0m\u001b[0;34m\u001b[0m\u001b[0;34m\u001b[0m\u001b[0m\n\u001b[0;32m----> 4\u001b[0;31m     \u001b[0msol\u001b[0m \u001b[0;34m=\u001b[0m \u001b[0madiabatic_profile\u001b[0m\u001b[0;34m(\u001b[0m\u001b[0mR_s\u001b[0m\u001b[0;34m,\u001b[0m \u001b[0mT_s\u001b[0m\u001b[0;34m,\u001b[0m \u001b[0mM_s\u001b[0m\u001b[0;34m,\u001b[0m \u001b[0mM_o\u001b[0m\u001b[0;34m,\u001b[0m \u001b[0mgamma\u001b[0m\u001b[0;34m,\u001b[0m \u001b[0mmu\u001b[0m\u001b[0;34m)\u001b[0m\u001b[0;34m\u001b[0m\u001b[0;34m\u001b[0m\u001b[0m\n\u001b[0m\u001b[1;32m      5\u001b[0m     \u001b[0mT_res\u001b[0m \u001b[0;34m=\u001b[0m \u001b[0msol\u001b[0m\u001b[0;34m.\u001b[0m\u001b[0my\u001b[0m\u001b[0;34m[\u001b[0m\u001b[0;36m0\u001b[0m\u001b[0;34m]\u001b[0m\u001b[0;34m\u001b[0m\u001b[0;34m\u001b[0m\u001b[0m\n\u001b[1;32m      6\u001b[0m     \u001b[0merror\u001b[0m \u001b[0;34m=\u001b[0m \u001b[0mT_res\u001b[0m\u001b[0;34m[\u001b[0m\u001b[0;34m-\u001b[0m\u001b[0;36m1\u001b[0m\u001b[0;34m]\u001b[0m \u001b[0;34m-\u001b[0m \u001b[0mT_o\u001b[0m\u001b[0;34m.\u001b[0m\u001b[0mvalue\u001b[0m\u001b[0;34m\u001b[0m\u001b[0;34m\u001b[0m\u001b[0m\n",
      "\u001b[0;32m/var/folders/b_/4vdzp0yn5_n0jlzmh1wmgmkc0000gn/T/ipykernel_835/2341852217.py\u001b[0m in \u001b[0;36madiabatic_profile\u001b[0;34m(R_s, T_s, M_s, M_o, gamma, mu)\u001b[0m\n\u001b[1;32m     39\u001b[0m \u001b[0;34m\u001b[0m\u001b[0m\n\u001b[1;32m     40\u001b[0m     \u001b[0;31m# Solve\u001b[0m\u001b[0;34m\u001b[0m\u001b[0;34m\u001b[0m\u001b[0m\n\u001b[0;32m---> 41\u001b[0;31m     \u001b[0msol\u001b[0m \u001b[0;34m=\u001b[0m \u001b[0msolve_ivp\u001b[0m\u001b[0;34m(\u001b[0m\u001b[0mprofile_fun\u001b[0m\u001b[0;34m,\u001b[0m \u001b[0mR_span\u001b[0m\u001b[0;34m,\u001b[0m \u001b[0my0\u001b[0m \u001b[0;34m=\u001b[0m \u001b[0my0\u001b[0m\u001b[0;34m,\u001b[0m \u001b[0margs\u001b[0m\u001b[0;34m=\u001b[0m\u001b[0;34m(\u001b[0m\u001b[0mgamma\u001b[0m\u001b[0;34m,\u001b[0m \u001b[0mK\u001b[0m\u001b[0;34m,\u001b[0m \u001b[0mmu\u001b[0m\u001b[0;34m)\u001b[0m\u001b[0;34m,\u001b[0m \u001b[0mt_eval\u001b[0m\u001b[0;34m=\u001b[0m\u001b[0mR_eval\u001b[0m\u001b[0;34m)\u001b[0m\u001b[0;34m\u001b[0m\u001b[0;34m\u001b[0m\u001b[0m\n\u001b[0m\u001b[1;32m     42\u001b[0m     \u001b[0;32mreturn\u001b[0m \u001b[0msol\u001b[0m\u001b[0;34m\u001b[0m\u001b[0;34m\u001b[0m\u001b[0m\n",
      "\u001b[0;32m~/opt/anaconda3/lib/python3.9/site-packages/scipy/integrate/_ivp/ivp.py\u001b[0m in \u001b[0;36msolve_ivp\u001b[0;34m(fun, t_span, y0, method, t_eval, dense_output, events, vectorized, args, **options)\u001b[0m\n\u001b[1;32m    587\u001b[0m     \u001b[0mstatus\u001b[0m \u001b[0;34m=\u001b[0m \u001b[0;32mNone\u001b[0m\u001b[0;34m\u001b[0m\u001b[0;34m\u001b[0m\u001b[0m\n\u001b[1;32m    588\u001b[0m     \u001b[0;32mwhile\u001b[0m \u001b[0mstatus\u001b[0m \u001b[0;32mis\u001b[0m \u001b[0;32mNone\u001b[0m\u001b[0;34m:\u001b[0m\u001b[0;34m\u001b[0m\u001b[0;34m\u001b[0m\u001b[0m\n\u001b[0;32m--> 589\u001b[0;31m         \u001b[0mmessage\u001b[0m \u001b[0;34m=\u001b[0m \u001b[0msolver\u001b[0m\u001b[0;34m.\u001b[0m\u001b[0mstep\u001b[0m\u001b[0;34m(\u001b[0m\u001b[0;34m)\u001b[0m\u001b[0;34m\u001b[0m\u001b[0;34m\u001b[0m\u001b[0m\n\u001b[0m\u001b[1;32m    590\u001b[0m \u001b[0;34m\u001b[0m\u001b[0m\n\u001b[1;32m    591\u001b[0m         \u001b[0;32mif\u001b[0m \u001b[0msolver\u001b[0m\u001b[0;34m.\u001b[0m\u001b[0mstatus\u001b[0m \u001b[0;34m==\u001b[0m \u001b[0;34m'finished'\u001b[0m\u001b[0;34m:\u001b[0m\u001b[0;34m\u001b[0m\u001b[0;34m\u001b[0m\u001b[0m\n",
      "\u001b[0;32m~/opt/anaconda3/lib/python3.9/site-packages/scipy/integrate/_ivp/base.py\u001b[0m in \u001b[0;36mstep\u001b[0;34m(self)\u001b[0m\n\u001b[1;32m    179\u001b[0m         \u001b[0;32melse\u001b[0m\u001b[0;34m:\u001b[0m\u001b[0;34m\u001b[0m\u001b[0;34m\u001b[0m\u001b[0m\n\u001b[1;32m    180\u001b[0m             \u001b[0mt\u001b[0m \u001b[0;34m=\u001b[0m \u001b[0mself\u001b[0m\u001b[0;34m.\u001b[0m\u001b[0mt\u001b[0m\u001b[0;34m\u001b[0m\u001b[0;34m\u001b[0m\u001b[0m\n\u001b[0;32m--> 181\u001b[0;31m             \u001b[0msuccess\u001b[0m\u001b[0;34m,\u001b[0m \u001b[0mmessage\u001b[0m \u001b[0;34m=\u001b[0m \u001b[0mself\u001b[0m\u001b[0;34m.\u001b[0m\u001b[0m_step_impl\u001b[0m\u001b[0;34m(\u001b[0m\u001b[0;34m)\u001b[0m\u001b[0;34m\u001b[0m\u001b[0;34m\u001b[0m\u001b[0m\n\u001b[0m\u001b[1;32m    182\u001b[0m \u001b[0;34m\u001b[0m\u001b[0m\n\u001b[1;32m    183\u001b[0m             \u001b[0;32mif\u001b[0m \u001b[0;32mnot\u001b[0m \u001b[0msuccess\u001b[0m\u001b[0;34m:\u001b[0m\u001b[0;34m\u001b[0m\u001b[0;34m\u001b[0m\u001b[0m\n",
      "\u001b[0;32m~/opt/anaconda3/lib/python3.9/site-packages/scipy/integrate/_ivp/rk.py\u001b[0m in \u001b[0;36m_step_impl\u001b[0;34m(self)\u001b[0m\n\u001b[1;32m    145\u001b[0m                                    self.B, self.C, self.K)\n\u001b[1;32m    146\u001b[0m             \u001b[0mscale\u001b[0m \u001b[0;34m=\u001b[0m \u001b[0matol\u001b[0m \u001b[0;34m+\u001b[0m \u001b[0mnp\u001b[0m\u001b[0;34m.\u001b[0m\u001b[0mmaximum\u001b[0m\u001b[0;34m(\u001b[0m\u001b[0mnp\u001b[0m\u001b[0;34m.\u001b[0m\u001b[0mabs\u001b[0m\u001b[0;34m(\u001b[0m\u001b[0my\u001b[0m\u001b[0;34m)\u001b[0m\u001b[0;34m,\u001b[0m \u001b[0mnp\u001b[0m\u001b[0;34m.\u001b[0m\u001b[0mabs\u001b[0m\u001b[0;34m(\u001b[0m\u001b[0my_new\u001b[0m\u001b[0;34m)\u001b[0m\u001b[0;34m)\u001b[0m \u001b[0;34m*\u001b[0m \u001b[0mrtol\u001b[0m\u001b[0;34m\u001b[0m\u001b[0;34m\u001b[0m\u001b[0m\n\u001b[0;32m--> 147\u001b[0;31m             \u001b[0merror_norm\u001b[0m \u001b[0;34m=\u001b[0m \u001b[0mself\u001b[0m\u001b[0;34m.\u001b[0m\u001b[0m_estimate_error_norm\u001b[0m\u001b[0;34m(\u001b[0m\u001b[0mself\u001b[0m\u001b[0;34m.\u001b[0m\u001b[0mK\u001b[0m\u001b[0;34m,\u001b[0m \u001b[0mh\u001b[0m\u001b[0;34m,\u001b[0m \u001b[0mscale\u001b[0m\u001b[0;34m)\u001b[0m\u001b[0;34m\u001b[0m\u001b[0;34m\u001b[0m\u001b[0m\n\u001b[0m\u001b[1;32m    148\u001b[0m \u001b[0;34m\u001b[0m\u001b[0m\n\u001b[1;32m    149\u001b[0m             \u001b[0;32mif\u001b[0m \u001b[0merror_norm\u001b[0m \u001b[0;34m<\u001b[0m \u001b[0;36m1\u001b[0m\u001b[0;34m:\u001b[0m\u001b[0;34m\u001b[0m\u001b[0;34m\u001b[0m\u001b[0m\n",
      "\u001b[0;32m~/opt/anaconda3/lib/python3.9/site-packages/scipy/integrate/_ivp/rk.py\u001b[0m in \u001b[0;36m_estimate_error_norm\u001b[0;34m(self, K, h, scale)\u001b[0m\n\u001b[1;32m    107\u001b[0m \u001b[0;34m\u001b[0m\u001b[0m\n\u001b[1;32m    108\u001b[0m     \u001b[0;32mdef\u001b[0m \u001b[0m_estimate_error_norm\u001b[0m\u001b[0;34m(\u001b[0m\u001b[0mself\u001b[0m\u001b[0;34m,\u001b[0m \u001b[0mK\u001b[0m\u001b[0;34m,\u001b[0m \u001b[0mh\u001b[0m\u001b[0;34m,\u001b[0m \u001b[0mscale\u001b[0m\u001b[0;34m)\u001b[0m\u001b[0;34m:\u001b[0m\u001b[0;34m\u001b[0m\u001b[0;34m\u001b[0m\u001b[0m\n\u001b[0;32m--> 109\u001b[0;31m         \u001b[0;32mreturn\u001b[0m \u001b[0mnorm\u001b[0m\u001b[0;34m(\u001b[0m\u001b[0mself\u001b[0m\u001b[0;34m.\u001b[0m\u001b[0m_estimate_error\u001b[0m\u001b[0;34m(\u001b[0m\u001b[0mK\u001b[0m\u001b[0;34m,\u001b[0m \u001b[0mh\u001b[0m\u001b[0;34m)\u001b[0m \u001b[0;34m/\u001b[0m \u001b[0mscale\u001b[0m\u001b[0;34m)\u001b[0m\u001b[0;34m\u001b[0m\u001b[0;34m\u001b[0m\u001b[0m\n\u001b[0m\u001b[1;32m    110\u001b[0m \u001b[0;34m\u001b[0m\u001b[0m\n\u001b[1;32m    111\u001b[0m     \u001b[0;32mdef\u001b[0m \u001b[0m_step_impl\u001b[0m\u001b[0;34m(\u001b[0m\u001b[0mself\u001b[0m\u001b[0;34m)\u001b[0m\u001b[0;34m:\u001b[0m\u001b[0;34m\u001b[0m\u001b[0;34m\u001b[0m\u001b[0m\n",
      "\u001b[0;32m~/opt/anaconda3/lib/python3.9/site-packages/scipy/integrate/_ivp/common.py\u001b[0m in \u001b[0;36mnorm\u001b[0;34m(x)\u001b[0m\n\u001b[1;32m     61\u001b[0m \u001b[0;32mdef\u001b[0m \u001b[0mnorm\u001b[0m\u001b[0;34m(\u001b[0m\u001b[0mx\u001b[0m\u001b[0;34m)\u001b[0m\u001b[0;34m:\u001b[0m\u001b[0;34m\u001b[0m\u001b[0;34m\u001b[0m\u001b[0m\n\u001b[1;32m     62\u001b[0m     \u001b[0;34m\"\"\"Compute RMS norm.\"\"\"\u001b[0m\u001b[0;34m\u001b[0m\u001b[0;34m\u001b[0m\u001b[0m\n\u001b[0;32m---> 63\u001b[0;31m     \u001b[0;32mreturn\u001b[0m \u001b[0mnp\u001b[0m\u001b[0;34m.\u001b[0m\u001b[0mlinalg\u001b[0m\u001b[0;34m.\u001b[0m\u001b[0mnorm\u001b[0m\u001b[0;34m(\u001b[0m\u001b[0mx\u001b[0m\u001b[0;34m)\u001b[0m \u001b[0;34m/\u001b[0m \u001b[0mx\u001b[0m\u001b[0;34m.\u001b[0m\u001b[0msize\u001b[0m \u001b[0;34m**\u001b[0m \u001b[0;36m0.5\u001b[0m\u001b[0;34m\u001b[0m\u001b[0;34m\u001b[0m\u001b[0m\n\u001b[0m\u001b[1;32m     64\u001b[0m \u001b[0;34m\u001b[0m\u001b[0m\n\u001b[1;32m     65\u001b[0m \u001b[0;34m\u001b[0m\u001b[0m\n",
      "\u001b[0;32m<__array_function__ internals>\u001b[0m in \u001b[0;36mnorm\u001b[0;34m(*args, **kwargs)\u001b[0m\n",
      "\u001b[0;32m~/opt/anaconda3/lib/python3.9/site-packages/numpy/linalg/linalg.py\u001b[0m in \u001b[0;36mnorm\u001b[0;34m(x, ord, axis, keepdims)\u001b[0m\n\u001b[1;32m   2512\u001b[0m \u001b[0;34m\u001b[0m\u001b[0m\n\u001b[1;32m   2513\u001b[0m     \"\"\"\n\u001b[0;32m-> 2514\u001b[0;31m     \u001b[0mx\u001b[0m \u001b[0;34m=\u001b[0m \u001b[0masarray\u001b[0m\u001b[0;34m(\u001b[0m\u001b[0mx\u001b[0m\u001b[0;34m)\u001b[0m\u001b[0;34m\u001b[0m\u001b[0;34m\u001b[0m\u001b[0m\n\u001b[0m\u001b[1;32m   2515\u001b[0m \u001b[0;34m\u001b[0m\u001b[0m\n\u001b[1;32m   2516\u001b[0m     \u001b[0;32mif\u001b[0m \u001b[0;32mnot\u001b[0m \u001b[0missubclass\u001b[0m\u001b[0;34m(\u001b[0m\u001b[0mx\u001b[0m\u001b[0;34m.\u001b[0m\u001b[0mdtype\u001b[0m\u001b[0;34m.\u001b[0m\u001b[0mtype\u001b[0m\u001b[0;34m,\u001b[0m \u001b[0;34m(\u001b[0m\u001b[0minexact\u001b[0m\u001b[0;34m,\u001b[0m \u001b[0mobject_\u001b[0m\u001b[0;34m)\u001b[0m\u001b[0;34m)\u001b[0m\u001b[0;34m:\u001b[0m\u001b[0;34m\u001b[0m\u001b[0;34m\u001b[0m\u001b[0m\n",
      "\u001b[0;31mKeyboardInterrupt\u001b[0m: "
     ]
    }
   ],
   "source": [
    "mass_minimize_error(8*u.solMass)"
   ]
  },
  {
   "attachments": {},
   "cell_type": "markdown",
   "metadata": {},
   "source": [
    "### New approach\n",
    "For each value of M_s:\n",
    "- Define M_o range\n",
    "- Check which range of values has a solution (changes_sign)\n",
    "- Know it's located close to M_o = 0.04"
   ]
  },
  {
   "cell_type": "code",
   "execution_count": 142,
   "metadata": {},
   "outputs": [],
   "source": [
    "def when_solvable(gamma, mu, T_o, N = 15):\n",
    "    M_s_range = np.logspace(np.log10(0.3), np.log10(8), N) * u.solMass\n",
    "    M_o_range = np.linspace(0.0375, 0.0407, 5*N) * u.solMass\n",
    "\n",
    "    sol = np.zeros((len(M_s_range), len(M_o_range)))\n",
    "\n",
    "    for i, M_s in enumerate(M_s_range):\n",
    "        print(i)\n",
    "        for j, M_o in enumerate(M_o_range):\n",
    "            val = changes_sign(error_at_endpoints(M_s, M_o, gamma, mu, T_o))\n",
    "            sol[i, j] = val\n",
    "\n",
    "    return sol, M_o_range"
   ]
  },
  {
   "cell_type": "code",
   "execution_count": 143,
   "metadata": {},
   "outputs": [
    {
     "name": "stderr",
     "output_type": "stream",
     "text": [
      "/var/folders/b_/4vdzp0yn5_n0jlzmh1wmgmkc0000gn/T/ipykernel_7161/646426579.py:25: RuntimeWarning: invalid value encountered in double_scalars\n",
      "  drhodR = - (G.value/(gamma*K))*(y[1]*y[2]**(2-gamma)/R**2)\n"
     ]
    },
    {
     "data": {
      "image/png": "[encoded data removed]",
      "text/plain": [
       "<Figure size 640x480 with 1 Axes>"
      ]
     },
     "metadata": {},
     "output_type": "display_data"
    }
   ],
   "source": [
    "sol, M_o_range = when_solvable(gamma, mu, T_o)\n",
    "plt.imshow(sol)\n",
    "plt.show()\n",
    "#print(M_s_range[5], M_o_range[20])"
   ]
  },
  {
   "cell_type": "code",
   "execution_count": 169,
   "metadata": {},
   "outputs": [
    {
     "name": "stdout",
     "output_type": "stream",
     "text": [
      "0.03944594594594594 solMass\n"
     ]
    }
   ],
   "source": [
    "print(M_o_range[45])"
   ]
  },
  {
   "cell_type": "code",
   "execution_count": 205,
   "metadata": {},
   "outputs": [],
   "source": [
    "def sol_intervals(sol):\n",
    "    intervals = []\n",
    "    for row in sol:\n",
    "        # Find the indices where the row switches between 0s and 1s\n",
    "        indices = np.where(np.diff(row.astype(int)) != 0)[0] +  1\n",
    "        # If the row starts with 1, prepend a 0 to the indices\n",
    "        if row[0]:\n",
    "            indices = np.insert(indices, 0, 0)\n",
    "        # If the row ends with 1, append the length of the row to the indices\n",
    "        if row[-1]:\n",
    "            indices = np.append(indices, len(row) - 1)\n",
    "        # Reshape the indices into pairs of (start, end) indices\n",
    "        section_pairs = indices.reshape(-1, 2)\n",
    "        # Convert the section pairs to tuples and flatten the list\n",
    "        section_tuples = [val for pair in section_pairs for val in pair]\n",
    "        # Append the flattened list to the list of sections\n",
    "        intervals.append(section_tuples)\n",
    "    # Convert the list of sections to a NumPy array and reshape it\n",
    "    return np.array(intervals).reshape(-1, 2)\n",
    "\n",
    "def solvable_matrix(sol):\n",
    "    M_o_range = np.linspace(0.0375, 0.0407, 5*len(sol))\n",
    "    intervals = sol_intervals(sol != 0)\n",
    "    N = len(intervals)\n",
    "    matrix = np.zeros((N, N+1))\n",
    "    for i, interval in enumerate(intervals):\n",
    "        start, end = interval\n",
    "        #print(start, end-1)\n",
    "        #print(sol[i, start], M_o_range[start])\n",
    "        int_values = np.linspace(M_o_range[start], M_o_range[end - 1], N+1)\n",
    "        matrix[i,:] = int_values\n",
    "    return matrix"
   ]
  },
  {
   "cell_type": "code",
   "execution_count": 206,
   "metadata": {},
   "outputs": [],
   "source": [
    "solm = solvable_matrix(sol)"
   ]
  },
  {
   "cell_type": "code",
   "execution_count": 207,
   "metadata": {},
   "outputs": [
    {
     "name": "stdout",
     "output_type": "stream",
     "text": [
      "(15, 16)\n"
     ]
    },
    {
     "data": {
      "text/plain": [
       "Text(0, 0.5, 'M_o')"
      ]
     },
     "execution_count": 207,
     "metadata": {},
     "output_type": "execute_result"
    },
    {
     "data": {
      "image/png": "[encoded data removed]",
      "text/plain": [
       "<Figure size 640x480 with 1 Axes>"
      ]
     },
     "metadata": {},
     "output_type": "display_data"
    }
   ],
   "source": [
    "N = len(solm)\n",
    "print(solm.shape)\n",
    "M_s_range = np.tensordot(np.logspace(np.log10(0.3), np.log10(8), N), np.ones(len(solm[1])), axes = 0)\n",
    "plt.scatter(M_s_range, solm)\n",
    "plt.xlabel(\"M_s\")\n",
    "plt.ylabel(\"M_o\")"
   ]
  },
  {
   "cell_type": "code",
   "execution_count": 208,
   "metadata": {},
   "outputs": [
    {
     "name": "stdout",
     "output_type": "stream",
     "text": [
      "0.03944594594594594\n"
     ]
    }
   ],
   "source": [
    "print(solm[0, 0])"
   ]
  },
  {
   "cell_type": "code",
   "execution_count": 209,
   "metadata": {},
   "outputs": [],
   "source": [
    "def interpolate_error(M_s, M_o, gamma, mu, T_o, N = 10):\n",
    "    R_list = np.linspace(0.5, 4, N) * u.astronomical_unit\n",
    "    T_list = np.zeros(N)\n",
    "    err = np.ones(N) * u.solMass\n",
    "    for i, R in enumerate(R_list):\n",
    "        try:\n",
    "            T = star_surface_temperature(R, M_s, M_o, gamma, mu, T_o)\n",
    "            err[i] = core_error(R, M_s, M_o, gamma, mu, T_o)\n",
    "        except ValueError as v:\n",
    "            print(\"interpolate; \", R, v)\n",
    "    \n",
    "    return interp1d(R_list.value, err.value)"
   ]
  },
  {
   "cell_type": "code",
   "execution_count": 210,
   "metadata": {},
   "outputs": [],
   "source": [
    "def star_radius(M_s, M_o, gamma, mu, T_o):\n",
    "    guess_1, guess_2 = 0.5 * u.astronomical_unit, 4 * u.astronomical_unit\n",
    "    args = (M_s, M_o, gamma, mu, T_o)\n",
    "    fun = interpolate_error(*args)\n",
    "    #print(fun(guess_1))\n",
    "    #print(fun(guess_2))\n",
    "    R_s = brentq(fun, guess_1.value, guess_2.value)\n",
    "    return R_s * u.astronomical_unit"
   ]
  },
  {
   "cell_type": "code",
   "execution_count": 215,
   "metadata": {},
   "outputs": [],
   "source": [
    "def solve_when_solvable(solm, gamma, mu, T_o):\n",
    "    N = len(solm)\n",
    "    M_s_range = np.logspace(np.log10(0.3), np.log10(8), N) * u.solMass\n",
    "    M_o_range = solm * u.solMass\n",
    "\n",
    "    R_s_range = np.zeros((len(M_s_range), len(M_o_range[1]))) * u.astronomical_unit\n",
    "\n",
    "    for i, M_s in enumerate(M_s_range):\n",
    "        print(i)\n",
    "        for j, M_o in enumerate(M_o_range[i]):\n",
    "            #print(i, j, M_s, M_o)\n",
    "            R_s = star_radius(M_s, M_o, gamma, mu, T_o)\n",
    "            #print(M_s, R_s)\n",
    "            R_s_range[i, j] = R_s\n",
    "    \n",
    "    return M_s_range, M_o_range, R_s_range"
   ]
  },
  {
   "cell_type": "code",
   "execution_count": 216,
   "metadata": {},
   "outputs": [
    {
     "name": "stdout",
     "output_type": "stream",
     "text": [
      "0\n"
     ]
    },
    {
     "name": "stderr",
     "output_type": "stream",
     "text": [
      "/var/folders/b_/4vdzp0yn5_n0jlzmh1wmgmkc0000gn/T/ipykernel_7161/646426579.py:25: RuntimeWarning: invalid value encountered in double_scalars\n",
      "  drhodR = - (G.value/(gamma*K))*(y[1]*y[2]**(2-gamma)/R**2)\n"
     ]
    },
    {
     "name": "stdout",
     "output_type": "stream",
     "text": [
      "1\n",
      "2\n",
      "3\n",
      "4\n",
      "5\n",
      "6\n",
      "7\n",
      "8\n",
      "9\n",
      "10\n",
      "11\n",
      "12\n",
      "13\n",
      "14\n"
     ]
    }
   ],
   "source": [
    "M_s_range, M_o_range, R_s_range = solve_when_solvable(solm, gamma, mu, T_o)"
   ]
  },
  {
   "cell_type": "code",
   "execution_count": 217,
   "metadata": {},
   "outputs": [
    {
     "name": "stdout",
     "output_type": "stream",
     "text": [
      "(15,) (15, 16) (15, 16)\n"
     ]
    }
   ],
   "source": [
    "print(M_s_range.shape, M_o_range.shape, R_s_range.shape)"
   ]
  },
  {
   "attachments": {},
   "cell_type": "markdown",
   "metadata": {},
   "source": [
    "### Save data"
   ]
  },
  {
   "cell_type": "code",
   "execution_count": 218,
   "metadata": {},
   "outputs": [],
   "source": [
    "import os\n",
    "def new_fname(name, path=\"data\", form=\"txt\"):\n",
    "    \"\"\"Generate file name not present in the directory from given string.\n",
    "\n",
    "    Parameters\n",
    "    ----------\n",
    "    name : str\n",
    "        proposed file name\n",
    "    path : str, optional\n",
    "        directory in which the file will be saved, use empty string for current directory, by default \"data\"\n",
    "    form : str, optional\n",
    "        format of file, eg. \"txt\" or \"npy\"\n",
    "    \"\"\"\n",
    "    # Folder path where the files are located\n",
    "    folder_path = \"data\"\n",
    "\n",
    "    # Desired file name\n",
    "    file_name = name\n",
    "    current_file_name = file_name + \".\" + form\n",
    "    current_file_path = os.path.join(folder_path, current_file_name)\n",
    "\n",
    "    # Initialize the file number\n",
    "    file_num = 1\n",
    "\n",
    "    # Check if file name already exists in the folder\n",
    "    while True:\n",
    "        current_file_name = file_name + str(file_num) + \".\" + form\n",
    "        current_file_path = os.path.join(folder_path, current_file_name)\n",
    "        if os.path.exists(current_file_path):\n",
    "            file_num += 1\n",
    "        else:\n",
    "            break\n",
    "\n",
    "    return current_file_path"
   ]
  },
  {
   "cell_type": "code",
   "execution_count": 227,
   "metadata": {},
   "outputs": [],
   "source": [
    "np.savetxt(new_fname(\"M_s_range\"), M_s_range.value)\n",
    "np.savetxt(new_fname(\"M_o_range\"), M_o_range.value)"
   ]
  },
  {
   "attachments": {},
   "cell_type": "markdown",
   "metadata": {},
   "source": [
    "## Interpolate results to use in evolution model"
   ]
  },
  {
   "cell_type": "code",
   "execution_count": 222,
   "metadata": {},
   "outputs": [],
   "source": [
    "def repack(M_s_range, M_o_range):\n",
    "    points = []\n",
    "    for i in range(len(M_s_range)):\n",
    "        for j in range(len(M_o_range[i])):\n",
    "            points.append([M_s_range[i], M_o_range[i, j]])\n",
    "    return np.array(points, dtype=object)"
   ]
  },
  {
   "cell_type": "code",
   "execution_count": 223,
   "metadata": {},
   "outputs": [
    {
     "name": "stdout",
     "output_type": "stream",
     "text": [
      "(240, 2)\n",
      "240\n",
      "(240,)\n"
     ]
    }
   ],
   "source": [
    "points = repack(M_s_range.to(u.solMass).value, M_o_range.to(u.solMass).value)\n",
    "print(points.shape)\n",
    "tot = len(M_s_range) * len(M_o_range[0, :])\n",
    "print(tot)\n",
    "result = R_s_range.to(u.astronomical_unit).value.reshape(tot)\n",
    "print(result.shape)"
   ]
  },
  {
   "cell_type": "code",
   "execution_count": 224,
   "metadata": {},
   "outputs": [],
   "source": [
    "interp_radius = LinearNDInterpolator(points, result)"
   ]
  },
  {
   "cell_type": "code",
   "execution_count": 225,
   "metadata": {},
   "outputs": [
    {
     "data": {
      "text/plain": [
       "<matplotlib.colorbar.Colorbar at 0x7f95fa973f40>"
      ]
     },
     "execution_count": 225,
     "metadata": {},
     "output_type": "execute_result"
    },
    {
     "data": {
      "image/png": "[encoded data removed]",
      "text/plain": [
       "<Figure size 640x480 with 2 Axes>"
      ]
     },
     "metadata": {},
     "output_type": "display_data"
    }
   ],
   "source": [
    "M_s_range_2 = np.tensordot(M_s_range, np.ones(len(M_o_range[0])), axes = 0)\n",
    "plt.contourf(M_s_range_2, M_o_range, interp_radius(M_s_range_2, M_o_range), levels=20)\n",
    "plt.colorbar()"
   ]
  },
  {
   "cell_type": "code",
   "execution_count": 226,
   "metadata": {},
   "outputs": [],
   "source": [
    "np.save(\"interpolator_radius\", interp_radius)"
   ]
  },
  {
   "attachments": {},
   "cell_type": "markdown",
   "metadata": {},
   "source": [
    "## Algorithm steps:\n",
    "\n",
    "1. Choose $M_s(0)$, $R_o$, $\\gamma$ and other parameters\n",
    "2. Evaluate $T_o(M_s, R_o)$\n",
    "3. Find $R_s(M_s, R_o; t)$ using star_radius function\n",
    "4. Calculate mass loss rate $\\dot M(M_s, R_s; t)$ using interpolated mass loss data\n",
    "5. Reduce mass $M_s(t + \\delta t) = M_s(t) + \\dot M \\delta t$, step forwards in time $t \\rightarrow t + \\delta t$\n",
    "6. Repeat steps 3-5 until $t = t_f$\n"
   ]
  },
  {
   "attachments": {},
   "cell_type": "markdown",
   "metadata": {},
   "source": [
    "## Load interpolators"
   ]
  },
  {
   "cell_type": "code",
   "execution_count": 634,
   "metadata": {},
   "outputs": [],
   "source": [
    "mass_loss = np.load(\"interpolator_mass_loss.npy\", allow_pickle=True).item()"
   ]
  },
  {
   "cell_type": "code",
   "execution_count": 635,
   "metadata": {},
   "outputs": [
    {
     "data": {
      "text/plain": [
       "<matplotlib.colorbar.Colorbar at 0x7fa84da5e6d0>"
      ]
     },
     "execution_count": 635,
     "metadata": {},
     "output_type": "execute_result"
    },
    {
     "data": {
      "image/png": "[encoded data removed]",
      "text/plain": [
       "<Figure size 640x480 with 2 Axes>"
      ]
     },
     "metadata": {},
     "output_type": "display_data"
    }
   ],
   "source": [
    "m_dot = 0.5\n",
    "x = np.linspace(0, 8, 100)\n",
    "y = np.linspace(0, 4, 100)\n",
    "X, Y = np.meshgrid(x, y)\n",
    "\n",
    "plt.contourf(X, Y, mass_loss(X, Y, m_dot), 20)\n",
    "plt.colorbar()"
   ]
  },
  {
   "attachments": {},
   "cell_type": "markdown",
   "metadata": {},
   "source": [
    "## Problem parameters:\n",
    "Variable:\n",
    "\n",
    "- Star mass $M_s$\n",
    "- Star core radius $R_o$\n",
    "- Black hole accretion rate $\\dot m$\n",
    "\n",
    "Constants:\n",
    "- Adiabatic exponent $\\gamma$\n",
    "- Mean molecular mass $\\mu$\n",
    "- Surface opacity $k$\n",
    "\n",
    "Calculated values:\n",
    "- Core radius $R_o$ from core mass $M_o$\n",
    "- Core temperature $T_o$ is constant temperature of degenerate gas\n",
    "- Surface density $\\rho_s$\n",
    "\n",
    "Integrate to match:\n",
    "- Core mass\n",
    "- Core temperature\n",
    "\n",
    "To find:\n",
    "- Star radius $R_s$\n",
    "- $K$ factor or surface temperature $T_s$\n",
    "\n",
    "Matching mass should give star radius, matching temperature shoukd give K factor.\n"
   ]
  },
  {
   "cell_type": "code",
   "execution_count": 638,
   "metadata": {},
   "outputs": [],
   "source": [
    "# Parameters\n",
    "m_dot = 0.3"
   ]
  },
  {
   "cell_type": "code",
   "execution_count": 676,
   "metadata": {},
   "outputs": [],
   "source": [
    "def star_evo(M_s, M_o, m_dot):\n",
    "    R_s = (interp_radius(M_s, M_o) * u.astronomical_unit)\n",
    "\n",
    "    # initialise arrays\n",
    "    N = int(1e4) # integration steps \n",
    "    mass_t = np.zeros(N + 1) * u.solMass\n",
    "    r_t = np.zeros(N + 1) * u.astronomical_unit\n",
    "\n",
    "    t_eval = np.linspace(0, 1e8, N + 1)\n",
    "    dt = (t_eval[1] - t_eval[0]) * u.a\n",
    "\n",
    "    for i, t in enumerate(t_eval):\n",
    "        mass_t[i] = M_s\n",
    "        r_t[i] = R_s\n",
    "        M_dot = 10**(mass_loss(M_s.value, R_s.value, m_dot)) * u.solMass / u.a\n",
    "        #print(i, M_s, R_s, M_dot)\n",
    "        M_s -= M_dot*dt\n",
    "        R_s = (interp_radius(M_s, M_o) * u.astronomical_unit)\n",
    "    \n",
    "    return t_eval, mass_t, r_t"
   ]
  },
  {
   "cell_type": "code",
   "execution_count": 681,
   "metadata": {},
   "outputs": [],
   "source": [
    "M_s = 1.5 * u.solMass # Star mass\n",
    "M_o = 0.0404 * u.solMass # Core mass\n",
    "t, m, r = star_evo(M_s, M_o, m_dot)"
   ]
  },
  {
   "cell_type": "code",
   "execution_count": 683,
   "metadata": {},
   "outputs": [
    {
     "data": {
      "text/plain": [
       "(1.118561408001966, 2.0655765498562797)"
      ]
     },
     "execution_count": 683,
     "metadata": {},
     "output_type": "execute_result"
    },
    {
     "data": {
      "image/png": "[encoded data removed]",
      "text/plain": [
       "<Figure size 640x480 with 2 Axes>"
      ]
     },
     "metadata": {},
     "output_type": "display_data"
    }
   ],
   "source": [
    "m_dot = 0.3\n",
    "x = np.linspace(0.5, 8, 100)\n",
    "y = np.linspace(0.5, 4, 100)\n",
    "X, Y = np.meshgrid(x, y)\n",
    "\n",
    "plt.contourf(X, Y, mass_loss(X, Y, m_dot), 20)\n",
    "plt.colorbar()\n",
    "\n",
    "plt.plot(m.value, r.value)\n",
    "plt.scatter(m.value, r.value)\n",
    "plt.xlabel(r\"Mass $(M_{\\odot}$)\")\n",
    "plt.ylabel(\"Radius (AU)\")\n",
    "\n",
    "\n",
    "#plt.xlim(np.nanmin(0.9*m.value), np.nanmax(1.1*m.value))\n",
    "#plt.ylim(np.nanmin(0.9*r.value), np.nanmax(1.1*r.value))"
   ]
  }
 ],
 "metadata": {
  "kernelspec": {
   "display_name": "base",
   "language": "python",
   "name": "python3"
  },
  "language_info": {
   "codemirror_mode": {
    "name": "ipython",
    "version": 3
   },
   "file_extension": ".py",
   "mimetype": "text/x-python",
   "name": "python",
   "nbconvert_exporter": "python",
   "pygments_lexer": "ipython3",
   "version": "3.9.13"
  },
  "orig_nbformat": 4,
  "vscode": {
   "interpreter": {
    "hash": "c4f9c5809ecabaaaa7b0c8538f32fe536d290921c824ef35e83345dde2802ef7"
   }
  }
 },
 "nbformat": 4,
 "nbformat_minor": 2
}
