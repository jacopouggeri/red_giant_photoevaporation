{
 "cells": [
  {
   "cell_type": "code",
   "execution_count": 1,
   "metadata": {
    "executionInfo": {
     "elapsed": 6,
     "status": "ok",
     "timestamp": 1669854689577,
     "user": {
      "displayName": "Jacopo Uggeri",
      "userId": "00092845180072507060"
     },
     "user_tz": 0
    },
    "id": "iAAEKKNpuKLh"
   },
   "outputs": [],
   "source": [
    "# Modules\n",
    "import numpy as np\n",
    "import matplotlib.pyplot as plt # for plotting\n",
    "import astropy.units as u # manages units\n",
    "from scipy import integrate\n",
    "from scipy.special import lambertw # Lambert W function\n",
    "from scipy.optimize import brentq"
   ]
  },
  {
   "cell_type": "code",
   "execution_count": 2,
   "metadata": {},
   "outputs": [],
   "source": [
    "# Constants\n",
    "from astropy.constants import M_sun, R as R_gas, G, m_p, h\n",
    "k = 1e-2 * u.cm**2/u.g\n",
    "alpha_B = 2.6e-13 * (u.cm **3)/u.s # cm3s-1 at (T = 10^4 K) From Owen and Alvarez 2016"
   ]
  },
  {
   "cell_type": "markdown",
   "metadata": {
    "id": "uT-SOZ0auKLj"
   },
   "source": [
    "#### To do:\n",
    "\n",
    "- Guess ionization front position\n",
    "\n",
    "- Calculate density step at ionisation front (by balancing pressure)\n",
    "\n",
    "- Combine into full density profile (steady parker wind density profile for r > R_IF, hydrostatic density profile for r < R_IF)\n",
    "\n",
    "- Proceed to calculate ionisation fraction step by step (from other notebook)"
   ]
  },
  {
   "cell_type": "markdown",
   "metadata": {
    "id": "VBa1ALqFuKLn"
   },
   "source": [
    "## Density profile in isothermal hydrostatic equilibrium:\n",
    "$$ \\rho(r) = \\rho_s e^{2\\frac{r_c}{r} - 2\\frac{r_c}{r_s}}$$\n",
    "with $$ r_c = \\frac{GM_*\\mu}{2RT} = \\frac{GM_*}{2{c_s}^2} $$\n",
    "$G$ gravitational constant,\n",
    "$M_*$ Mass of the star,\n",
    "$R$ ideal gas constant,\n",
    "$T$ Temperature (constant),\n",
    "$r_c$ parker wind critical radius,\n",
    "$r_s$ radius of the star (at the photosphere),\n",
    "$\\rho_s$ density of star at the photosphere (known)\n"
   ]
  },
  {
   "cell_type": "code",
   "execution_count": 3,
   "metadata": {
    "executionInfo": {
     "elapsed": 10,
     "status": "ok",
     "timestamp": 1669850181581,
     "user": {
      "displayName": "Jacopo Uggeri",
      "userId": "00092845180072507060"
     },
     "user_tz": 0
    },
    "id": "U3poTvKWuKLp"
   },
   "outputs": [],
   "source": [
    "def density_hydrostatic(R, R_c, R_s, rho_s):\n",
    "  \"\"\" Find density profile in hydrostatic isothermal equilibrium.  The temperature dependence is encoded in\n",
    "   the value of r_c, which is calculated from the speed of sound in the hydrostatic region.\n",
    "\n",
    "    Parameters\n",
    "    ----------\n",
    "    R : float\n",
    "        Radial distance\n",
    "    R_c : float\n",
    "        Parker wind critical radius\n",
    "    R_s: float\n",
    "        Radius of star (photospere)\n",
    "    rho_s: float\n",
    "        Density at the photosphere of the star\n",
    "\n",
    "    Returns\n",
    "    -------\n",
    "    float\n",
    "        Density at radius R for a star in hydrostatic equilibrium with density rho_s at radius R_s.\n",
    "    \"\"\"\n",
    "  arg = 1/R - 1/R_s\n",
    "  return rho_s*np.exp(2*R_c*arg)\n",
    "    "
   ]
  },
  {
   "cell_type": "markdown",
   "metadata": {
    "id": "82B73kZyuKLq"
   },
   "source": [
    "## Mach number of steady parker wind as function of radius\n",
    "\n",
    "$$ M(r) = \\sqrt{-W[-\\frac{r_c^4}{r^4} e^{3 - 4 \\frac{r_c}{r}}]}$$\n",
    "\n",
    "Where $M = v/a$, $v$ is the flow velocity (constant in time for steady flow, function of r) and $c_s$ is the speed of sound"
   ]
  },
  {
   "cell_type": "code",
   "execution_count": 4,
   "metadata": {
    "colab": {
     "base_uri": "https://localhost:8080/",
     "height": 340
    },
    "executionInfo": {
     "elapsed": 381,
     "status": "ok",
     "timestamp": 1669850181954,
     "user": {
      "displayName": "Jacopo Uggeri",
      "userId": "00092845180072507060"
     },
     "user_tz": 0
    },
    "id": "oniXBW_suKLr",
    "outputId": "3790fba3-96c4-432f-ff7f-3d7685fe15c0"
   },
   "outputs": [
    {
     "name": "stdout",
     "output_type": "stream",
     "text": [
      "nan\n"
     ]
    },
    {
     "name": "stderr",
     "output_type": "stream",
     "text": [
      "/Users/jacopouggeri/opt/anaconda3/lib/python3.9/site-packages/matplotlib/cbook/__init__.py:1298: ComplexWarning: Casting complex values to real discards the imaginary part\n",
      "  return np.asarray(x, float)\n",
      "/var/folders/b_/4vdzp0yn5_n0jlzmh1wmgmkc0000gn/T/ipykernel_16012/1593748343.py:6: RuntimeWarning: invalid value encountered in square\n",
      "  print(np.sum(np.imag(lambertw(x, -1)**2))) # test if there is any imaginary component\n"
     ]
    },
    {
     "data": {
      "image/png": "[encoded data removed]",
      "text/plain": [
       "<Figure size 640x480 with 1 Axes>"
      ]
     },
     "metadata": {},
     "output_type": "display_data"
    }
   ],
   "source": [
    "# Test lambertw function: which branch should be taken? argument of square root must always be positive for r > r_c\n",
    "\n",
    "x = np.linspace(-np.exp(-1)+1e-1, 0, 300)\n",
    "plt.plot(x, -lambertw(x, -1))\n",
    "\n",
    "print(np.sum(np.imag(lambertw(x, -1)**2))) # test if there is any imaginary component"
   ]
  },
  {
   "cell_type": "code",
   "execution_count": 5,
   "metadata": {
    "executionInfo": {
     "elapsed": 98,
     "status": "ok",
     "timestamp": 1669850181955,
     "user": {
      "displayName": "Jacopo Uggeri",
      "userId": "00092845180072507060"
     },
     "user_tz": 0
    },
    "id": "0i3sfpEyuKLs"
   },
   "outputs": [],
   "source": [
    "def mach_parker(R, R_c):\n",
    "    \"\"\" Find mach number of steady parker wind at radius R and critical radius R_c\n",
    "\n",
    "    Parameters\n",
    "    ----------\n",
    "    R : float\n",
    "        Radial distance at which the mach number is to be found\n",
    "    R_c : float\n",
    "        Parker wind critical radius\n",
    "\n",
    "    Returns\n",
    "    -------\n",
    "    float\n",
    "        Mach number (v/c_s) at radius R. Adimensional.\n",
    "    \"\"\"\n",
    "    R = R.to(\"astronomical_unit\").value\n",
    "    R_c = R_c.to(\"astronomical_unit\").value\n",
    "    ratio = R_c/R\n",
    "    arg = -(ratio)**4 * np.exp(3 - 4*ratio)\n",
    "    return np.sqrt(-np.real(lambertw(arg)))"
   ]
  },
  {
   "cell_type": "code",
   "execution_count": 6,
   "metadata": {},
   "outputs": [
    {
     "data": {
      "text/plain": [
       "Text(0, 0.5, 'M^2')"
      ]
     },
     "execution_count": 6,
     "metadata": {},
     "output_type": "execute_result"
    },
    {
     "data": {
      "image/png": "[encoded data removed]",
      "text/plain": [
       "<Figure size 1500x500 with 2 Axes>"
      ]
     },
     "metadata": {},
     "output_type": "display_data"
    }
   ],
   "source": [
    "# Test mach_parker function\n",
    "\n",
    "def mach_parker_squared(R, R_c):\n",
    "    \"\"\" Find mach number squared of steady parker wind at radius R and critical radius R_c\n",
    "\n",
    "    Parameters\n",
    "    ----------\n",
    "    R : float\n",
    "        Radial distance at which the mach number is to be found\n",
    "    R_c : float\n",
    "        Parker wind critical radius\n",
    "\n",
    "    Returns\n",
    "    -------\n",
    "    float\n",
    "        Mach number (v/c_s) squared at radius R. Adimensional.\n",
    "    \"\"\"\n",
    "    R = R.to(\"astronomical_unit\").value\n",
    "    R_c = R_c.to(\"astronomical_unit\").value\n",
    "    ratio = R_c/R\n",
    "    arg = -(ratio)**4 * np.exp(3 - 4*ratio)\n",
    "    return -lambertw(arg)\n",
    "\n",
    "def mach_parker_arg(R, R_c):\n",
    "    \"\"\" Find argument of lambertw function in expression for mach number of steady parker wind at radius R and critical radius R_c\n",
    "\n",
    "    Parameters\n",
    "    ----------\n",
    "    R : float\n",
    "        Radial distance at which the mach number is to be found\n",
    "    R_c : float\n",
    "        Parker wind critical radius\n",
    "\n",
    "    Returns\n",
    "    -------\n",
    "    float\n",
    "        Argument of lambertw in mach number expression. Adimensional.\n",
    "    \"\"\"\n",
    "    R = R.to(\"astronomical_unit\").value\n",
    "    R_c = R_c.to(\"astronomical_unit\").value\n",
    "    ratio = R_c/R\n",
    "    arg = -(ratio)**4 * np.exp(3 - 4*ratio)\n",
    "    return arg\n",
    "\n",
    "x = np.linspace(1e-10, 1, 400) * u.astronomical_unit\n",
    "x_c = 0.5 * u.astronomical_unit\n",
    "\n",
    "plt.figure(figsize=(15, 5))\n",
    "plt.subplot(121)\n",
    "plt.plot(x/x_c, mach_parker_arg(x, x_c))\n",
    "plt.xlabel(\"R/R_c\")\n",
    "plt.ylabel(\"arg(R/R_c)\")\n",
    "\n",
    "plt.subplot(122)\n",
    "plt.plot(x/x_c, mach_parker_squared(x, x_c))\n",
    "plt.xlabel(\"R/R_c\")\n",
    "plt.ylabel(\"M^2\")"
   ]
  },
  {
   "cell_type": "code",
   "execution_count": 7,
   "metadata": {},
   "outputs": [
    {
     "name": "stderr",
     "output_type": "stream",
     "text": [
      "/var/folders/b_/4vdzp0yn5_n0jlzmh1wmgmkc0000gn/T/ipykernel_16012/1605185569.py:20: RuntimeWarning: invalid value encountered in multiply\n",
      "  return -lambertw(arg, 0)*np.heaviside(ratio - 1, 1) -lambertw(arg, -1)*np.heaviside(1-ratio, 1)\n"
     ]
    },
    {
     "data": {
      "text/plain": [
       "Text(0, 0.5, 'M^2')"
      ]
     },
     "execution_count": 7,
     "metadata": {},
     "output_type": "execute_result"
    },
    {
     "data": {
      "image/png": "[encoded data removed]",
      "text/plain": [
       "<Figure size 640x480 with 1 Axes>"
      ]
     },
     "metadata": {},
     "output_type": "display_data"
    }
   ],
   "source": [
    "# Test mach_parker function\n",
    "\n",
    "def mach_parker_squared(R, R_c):\n",
    "    \"\"\" Find mach number squared of steady parker wind at radius R and critical radius R_c\n",
    "\n",
    "    Parameters\n",
    "    ----------\n",
    "    R : float\n",
    "        Radial distance at which the mach number is to be found\n",
    "    R_c : float\n",
    "        Parker wind critical radius\n",
    "\n",
    "    Returns\n",
    "    -------\n",
    "    float\n",
    "        Mach number (v/c_s) squared at radius R. Adimensional.\n",
    "    \"\"\"\n",
    "    ratio = R_c/R\n",
    "    arg = -(ratio)**4 * np.exp(3 - 4*ratio)\n",
    "    return -lambertw(arg, 0)*np.heaviside(ratio - 1, 1) -lambertw(arg, -1)*np.heaviside(1-ratio, 1)\n",
    "\n",
    "x = (np.linspace(1e-10, 10, 400) * u.astronomical_unit).value\n",
    "x_c = (0.5 * u.astronomical_unit).value\n",
    "\n",
    "plt.plot(x/x_c, np.sqrt(mach_parker_squared(x, x_c)))\n",
    "plt.xlabel(\"R/R_c\")\n",
    "plt.ylabel(\"M^2\")"
   ]
  },
  {
   "cell_type": "code",
   "execution_count": 9,
   "metadata": {},
   "outputs": [],
   "source": [
    "def mach_parker(R, R_c):\n",
    "    \"\"\" Find mach number of steady parker wind at radius R and critical radius R_c\n",
    "\n",
    "    Parameters\n",
    "    ----------\n",
    "    R : float\n",
    "        Radial distance at which the mach number is to be found\n",
    "    R_c : float\n",
    "        Parker wind critical radius\n",
    "\n",
    "    Returns\n",
    "    -------\n",
    "    float\n",
    "        Mach number (v/c_s) at radius R. Adimensional.\n",
    "    \"\"\"\n",
    "    R = R.to(\"astronomical_unit\").value\n",
    "    R_c = R_c.to(\"astronomical_unit\").value\n",
    "    ratio = R_c/R\n",
    "    arg = -(ratio)**4 * np.exp(3 - 4*ratio)\n",
    "    return np.sqrt(np.real(-lambertw(arg, 0)))*np.heaviside(ratio - 1, 1) + np.sqrt(np.real(-lambertw(arg, -1)))*np.heaviside(1-ratio, 1)"
   ]
  },
  {
   "cell_type": "code",
   "execution_count": 10,
   "metadata": {},
   "outputs": [
    {
     "name": "stderr",
     "output_type": "stream",
     "text": [
      "/var/folders/b_/4vdzp0yn5_n0jlzmh1wmgmkc0000gn/T/ipykernel_13408/2713561506.py:20: RuntimeWarning: invalid value encountered in multiply\n",
      "  return np.sqrt(np.real(-lambertw(arg, 0)))*np.heaviside(ratio - 1, 1) + np.sqrt(np.real(-lambertw(arg, -1)))*np.heaviside(1-ratio, 1)\n"
     ]
    },
    {
     "data": {
      "text/plain": [
       "Text(0, 0.5, 'M')"
      ]
     },
     "execution_count": 10,
     "metadata": {},
     "output_type": "execute_result"
    },
    {
     "data": {
      "image/png": "[encoded data removed]",
      "text/plain": [
       "<Figure size 640x480 with 1 Axes>"
      ]
     },
     "metadata": {},
     "output_type": "display_data"
    }
   ],
   "source": [
    "x = (np.linspace(1e-10, 1, 400) * u.astronomical_unit)\n",
    "x_c = (0.5 * u.astronomical_unit)\n",
    "\n",
    "plt.plot(x/x_c, mach_parker(x, x_c))\n",
    "plt.xlabel(\"R/R_c\")\n",
    "plt.ylabel(\"M\")"
   ]
  },
  {
   "cell_type": "markdown",
   "metadata": {
    "id": "JZlFQzBbuKLu"
   },
   "source": [
    "## Density profile from steady parker wind\n",
    "\n",
    "Using mass conservation $\\dot M = 4 \\pi r^2 \\rho(r) v(r)$\n",
    "\n",
    "obtain $r^2 \\rho(r) v(r) = r_c^2 \\rho(r_c) v(r_c) $\n",
    "\n",
    "recall $v(r_c) = a$ so:\n",
    "$$\\rho(r) = \\frac{r_c^2}{r^2}\\frac{\\rho(r_c)}{M(r)}$$\n",
    "\n",
    "If the density at some other radius, say the ionisation front $r_I$, is known, then:\n",
    "$$\\rho(r_I) = \\frac{r_c^2}{r_I^2}\\frac{\\rho(r_c)}{M(r_I)}$$\n",
    "so we can rewrite:\n",
    "$$\\rho(r) = \\frac{r_I^2}{r^2}\\frac{M(r_I)}{M(r)}\\rho(r_I)$$"
   ]
  },
  {
   "cell_type": "code",
   "execution_count": 11,
   "metadata": {
    "executionInfo": {
     "elapsed": 98,
     "status": "ok",
     "timestamp": 1669850181957,
     "user": {
      "displayName": "Jacopo Uggeri",
      "userId": "00092845180072507060"
     },
     "user_tz": 0
    },
    "id": "GMTEuHrluKLw"
   },
   "outputs": [],
   "source": [
    "def density_parker(R, R_c, rho_c):\n",
    "    \"\"\" Density profile with radial distance for steady parker wind\n",
    "\n",
    "    Parameters\n",
    "    ----------\n",
    "    R : float\n",
    "        Radial distance\n",
    "    R_c : float\n",
    "        Parker wind critical radius\n",
    "    rho_c : float\n",
    "        Density at the critical radius\n",
    "\n",
    "    Returns\n",
    "    -------\n",
    "    float\n",
    "       The density as a function of the radial distance R for a steady parker wind solution.\n",
    "    \"\"\"\n",
    "    M = mach_parker(R, R_c)\n",
    "    return (R_c/R)**2 * rho_c/M"
   ]
  },
  {
   "cell_type": "code",
   "execution_count": 12,
   "metadata": {
    "id": "voreA-Q13Ums"
   },
   "outputs": [],
   "source": [
    "def density_parker_ifront(R, R_c, R_I, rho_p):\n",
    "    \"\"\" Density profile with radial distance for steady parker wind\n",
    "\n",
    "    Parameters\n",
    "    ----------\n",
    "    R : float\n",
    "        Radial distance\n",
    "    R_c : float\n",
    "        Parker wind critical radius\n",
    "    R_I : \n",
    "        Radial position of the ionisation front\n",
    "    rho_p : float\n",
    "        Density at the ionisation front\n",
    "\n",
    "    Returns\n",
    "    -------\n",
    "    float\n",
    "       The density as a function of the radial distance R for a steady parker wind solution with density rho_p at R_I.\n",
    "    \"\"\"\n",
    "    m_ratio = mach_parker(R_I, R_c)/mach_parker(R, R_c)\n",
    "    return ((R_I/R)**2) * rho_p * m_ratio"
   ]
  },
  {
   "cell_type": "markdown",
   "metadata": {
    "id": "U96YB9oLuKLz"
   },
   "source": [
    "## Find density gap at ionisation front\n",
    "Because of momentum conservation:\n",
    "$$\\rho_pv^2 + P_p = P_h$$\n",
    "While keeping in mind that\n",
    "$$P = \\frac{RT}{\\mu}\\rho$$\n",
    "on both sides,\n",
    "then \n",
    "$$\\rho_p = (1+M^2(r_I))^{-1} \\frac{T_h}{T_p}\\rho_h$$"
   ]
  },
  {
   "cell_type": "code",
   "execution_count": 13,
   "metadata": {
    "executionInfo": {
     "elapsed": 239,
     "status": "ok",
     "timestamp": 1669852050609,
     "user": {
      "displayName": "Jacopo Uggeri",
      "userId": "00092845180072507060"
     },
     "user_tz": 0
    },
    "id": "aX580JAcuKL0"
   },
   "outputs": [],
   "source": [
    "def momentum_balance_density(R_I, R_c, rho_H, T_ratio):\n",
    "    \"\"\" Find density in the parker wind region at the ionization front R_I, applying momentum balance.\n",
    "\n",
    "    Parameters\n",
    "    ----------\n",
    "    R_I : float\n",
    "        Radial position of the ionisation front\n",
    "    R_c : float\n",
    "        Parker wind critical radius\n",
    "    rho_H: float\n",
    "        Density at R_I in the hydrostatic region.\n",
    "    T_ratio: float\n",
    "        Temperature ratio of the two regions T_H/T_P\n",
    "\n",
    "    Returns\n",
    "    -------\n",
    "    float\n",
    "        Density at R_I for parker wind density profile\n",
    "    \"\"\"\n",
    "    rho_P = (1/(1 + mach_parker(R_I, R_c)**2))*T_ratio*rho_H\n",
    "    return rho_P\n"
   ]
  },
  {
   "cell_type": "markdown",
   "metadata": {
    "id": "x2pWblN4uKL1"
   },
   "source": [
    "Expect mass loss $10^{-7}$ solar masses per year"
   ]
  },
  {
   "cell_type": "code",
   "execution_count": 14,
   "metadata": {
    "executionInfo": {
     "elapsed": 6,
     "status": "ok",
     "timestamp": 1669854707833,
     "user": {
      "displayName": "Jacopo Uggeri",
      "userId": "00092845180072507060"
     },
     "user_tz": 0
    },
    "id": "OJNbJ45I03XJ"
   },
   "outputs": [],
   "source": [
    "# Put everything together to determine density profile in the parker region for given parameters\n",
    "\n",
    "T_H = 3500 * u.K # temperature in hydrostatic region\n",
    "T_P = 1e4 * u.K # temperature in parker wind region\n",
    "\n",
    "T_ratio = T_H/T_P\n",
    "\n",
    "mu_H = 1 * u.g / u.mol # mean molecular weight in units of hydrogen mass\n",
    "mu_P = mu_H/2\n",
    "\n",
    "M_s = 1*M_sun\n",
    "R_s = 0.5 * u.astronomical_unit"
   ]
  },
  {
   "cell_type": "markdown",
   "metadata": {
    "id": "p1gHG9Ng_gyf"
   },
   "source": [
    "### Approximate density at photosphere\n",
    "Photosphere is where the star becomes opaque, the optical depth is about 1.\n",
    "$$\\rho_s \\kappa H = 1$$\n",
    "$\\kappa$ is opacity to photons in cm2/g,\n",
    "$H$ is scale height $H = \\frac{c_s^2}{g}$"
   ]
  },
  {
   "cell_type": "code",
   "execution_count": 15,
   "metadata": {
    "id": "D9qU7H1d9j4C"
   },
   "outputs": [],
   "source": [
    "def parker_critical(c_s):\n",
    "  #print(\"speed of sound: \", c_s.decompose())\n",
    "  return G*M_s/(2*c_s**2)\n",
    "\n",
    "def density_profile(R, R_I, R_s, rho_s, a_H, a_P):\n",
    "  # Calculate hydrostatic density at R_I\n",
    "  R_c_hydrostatic = parker_critical(a_H)\n",
    "  #print(R_c_hydrostatic.to(u.astronomical_unit), \"R_c in hydrostatic region\")\n",
    "  rho_H = density_hydrostatic(R_I, R_c_hydrostatic, R_s, rho_s)\n",
    "  #print(\"Rho_H: \", rho_H.to(u.g/u.cm**3))\n",
    "\n",
    "  # Calculate parker density at R_I\n",
    "  R_c = parker_critical(a_P)\n",
    "  T_ratio = (a_H/a_P)**2\n",
    "  #print(rho_H.decompose(), \"Density at IF\")\n",
    "  rho_P = momentum_balance_density(R_I, R_c, rho_H, T_ratio)\n",
    "  #print(rho_P.decompose(), rho_H.decompose(), \"Density at IF\")\n",
    "\n",
    "  # Return parker density profile\n",
    "  return density_parker_ifront(R, R_c, R_I, rho_P)"
   ]
  },
  {
   "cell_type": "code",
   "execution_count": 16,
   "metadata": {
    "colab": {
     "base_uri": "https://localhost:8080/"
    },
    "executionInfo": {
     "elapsed": 235,
     "status": "ok",
     "timestamp": 1669854714116,
     "user": {
      "displayName": "Jacopo Uggeri",
      "userId": "00092845180072507060"
     },
     "user_tz": 0
    },
    "id": "UAd4aM5z9lRt",
    "outputId": "766e69a1-57d7-4178-fa78-7d5febddee50"
   },
   "outputs": [
    {
     "name": "stdout",
     "output_type": "stream",
     "text": [
      "2.667423945872125 AU\n",
      "1.4264502206565837e-10 g / cm3\n"
     ]
    }
   ],
   "source": [
    "a_H = np.sqrt(R_gas*T_H/mu_H)\n",
    "\n",
    "a_P = np.sqrt(R_gas*T_P/mu_P)\n",
    "R_c = parker_critical(a_P)\n",
    "print(R_c.to(u.astronomical_unit))\n",
    "\n",
    "H = a_P**2/(G*M_s/R_s**2) # scale height\n",
    "rho_s = 1/(k*H) # density at photosphere\n",
    "\n",
    "print(rho_s.to(u.g/u.cm**3))"
   ]
  },
  {
   "cell_type": "code",
   "execution_count": 41,
   "metadata": {},
   "outputs": [
    {
     "name": "stdout",
     "output_type": "stream",
     "text": [
      "0.18744676892241174\n"
     ]
    }
   ],
   "source": [
    "R_c = parker_critical(a_P)\n",
    "r_s = R_s/R_c\n",
    "# r_I has to be between r_s and 1\n",
    "print(r_s.decompose())\n",
    "r_I = 0.21048487372427319"
   ]
  },
  {
   "cell_type": "code",
   "execution_count": 42,
   "metadata": {},
   "outputs": [],
   "source": [
    "# Test density profile\n",
    "R = R_c*np.logspace(np.log10(r_I), 1, 100) # radial bins in multiples of R_c\n",
    "rho = density_profile(R, r_I*R_c, R_s, rho_s, a_H, a_P)"
   ]
  },
  {
   "cell_type": "code",
   "execution_count": 43,
   "metadata": {},
   "outputs": [
    {
     "data": {
      "text/plain": [
       "[<matplotlib.lines.Line2D at 0x7fb7a52ad7c0>]"
      ]
     },
     "execution_count": 43,
     "metadata": {},
     "output_type": "execute_result"
    },
    {
     "data": {
      "image/png": "[encoded data removed]",
      "text/plain": [
       "<Figure size 640x480 with 1 Axes>"
      ]
     },
     "metadata": {},
     "output_type": "display_data"
    }
   ],
   "source": [
    "plt.plot(R, rho)"
   ]
  },
  {
   "cell_type": "code",
   "execution_count": 44,
   "metadata": {},
   "outputs": [
    {
     "name": "stdout",
     "output_type": "stream",
     "text": [
      "15.242422547840713 AU\n"
     ]
    },
    {
     "data": {
      "image/png": "[encoded data removed]",
      "text/plain": [
       "<Figure size 640x480 with 1 Axes>"
      ]
     },
     "metadata": {},
     "output_type": "display_data"
    }
   ],
   "source": [
    "# Test hydrostatic density profile\n",
    "R = R_s*np.logspace(0, 0.1, 100) # radial bins in multiples of R_c\n",
    "rho = density_hydrostatic(R, parker_critical(a_H), R_s, rho_s)\n",
    "plt.loglog(R.to(u.astronomical_unit), rho.to(u.g/(u.cm**3)))\n",
    "\n",
    "print(parker_critical(a_H).to(u.astronomical_unit))"
   ]
  },
  {
   "cell_type": "code",
   "execution_count": 45,
   "metadata": {},
   "outputs": [],
   "source": [
    "def full_density_profile(R, R_I, R_s, rho_s, a_H, a_P):\n",
    "    rhop = density_profile(R, R_I, R_s, rho_s, a_H, a_P)\n",
    "    rhoh = density_hydrostatic(R, parker_critical(a_H), R_s, rho_s)\n",
    "    return rhop*np.heaviside(R - R_I, 1) + rhoh*np.heaviside(R_I - R, 1)"
   ]
  },
  {
   "cell_type": "code",
   "execution_count": 48,
   "metadata": {},
   "outputs": [
    {
     "name": "stdout",
     "output_type": "stream",
     "text": [
      "R_s:  0.5 AU\n",
      "R_I:  0.5614523924159968 AU\n",
      "R_c:  2.667423945872125 AU\n"
     ]
    },
    {
     "data": {
      "text/plain": [
       "Text(0, 0.5, 'rho')"
      ]
     },
     "execution_count": 48,
     "metadata": {},
     "output_type": "execute_result"
    },
    {
     "data": {
      "image/png": "[encoded data removed]",
      "text/plain": [
       "<Figure size 640x480 with 1 Axes>"
      ]
     },
     "metadata": {},
     "output_type": "display_data"
    }
   ],
   "source": [
    "R = R_s*np.logspace(0, 1, 1000)#r_I*R_c*np.linspace(0.9, 1.1, 1000) # radial bins in multiples of R_c\n",
    "rho = full_density_profile(R, r_I*R_c, R_s, rho_s, a_H, a_P).to(u.g/(u.cm**3))\n",
    "plt.loglog(R.to(u.astronomical_unit), rho)\n",
    "print(\"R_s: \", R_s)\n",
    "print(\"R_I: \", r_I*R_c.to(u.astronomical_unit))\n",
    "print(\"R_c: \", R_c.to(u.astronomical_unit))\n",
    "\n",
    "plt.axvline(r_I*R_c.to(u.astronomical_unit).value)\n",
    "plt.xlabel(\"R\")\n",
    "plt.ylabel(\"rho\")"
   ]
  },
  {
   "cell_type": "markdown",
   "metadata": {},
   "source": [
    "## Perform the integration\n",
    "- Divide radially into log-spaced bins $[R^0, ..., R^i, ... R^n]$\n",
    "- Invert the bin array so that $R^0$ is the largest value\n",
    "- Take $X^0 = 1$\n",
    "- Take $\\tau_\\nu^0 = 0$ \n",
    "- Find $\\Gamma^0 $\n",
    "- Find $X^1$ by applying ionisation-recombination balance\n",
    "- Find $\\tau_\\nu^{i+1} = \\tau_\\nu^i +  n_{H} \\sigma_{\\nu_0} (1-X^i)(R^{i} - R^{i+1})$\n",
    "- Find $\\Gamma^{i+1} = \\int_{13.6}^{\\infty}\\frac{L_{\\nu} e^{-\\tau_{\\nu}^{i+1}}}{h\\nu} \\frac{\\sigma_{\\nu}}{4\\pi d^2} d\\nu$\n",
    "- Find $A^{i+1} = \\frac{n_H \\alpha_B}{\\Gamma^{i+1}}$\n",
    "- Finx $X^{i+1} = \\frac{-1 + \\sqrt{1+4A^{i+1}}}{2A^{i+1}}$\n",
    "- Repeat until $X^n$"
   ]
  },
  {
   "cell_type": "markdown",
   "metadata": {},
   "source": [
    "## Parameter list:\n",
    "- $r_I$ radius of ionisation front as a fraction of the parker critical radius ($R_I/R_c$)\n",
    "- $M_*$ mass of the star\n",
    "- $M_{BH}$ mass of the black hole\n",
    "- $\\dot m$ ratio of black hole accretion rate to Eddington accretion rate. (between 0 and 1)\n",
    "- $R_s$ radius of the star\n",
    "- $\\rho_s$ density of the star at the photosphere\n",
    "- $a_H$ speed of sound in the hydrostatic region ($R_* < R < R_I$)\n",
    "- $a_P$ speed of sound in the parker wind region ($R > R_I$)\n",
    "- $d$ distance of star to the black hole\n",
    "\n"
   ]
  },
  {
   "cell_type": "code",
   "execution_count": 23,
   "metadata": {},
   "outputs": [],
   "source": [
    "T_H = 3500 * u.K # temperature in hydrostatic region\n",
    "T_P= 1e4 * u.K # temperature in parker wind region\n",
    "\n",
    "mu_H = 1 * u.g / u.mol # mean molecular weight in units of hydrogen mass\n",
    "mu_P = mu_H/2"
   ]
  },
  {
   "cell_type": "code",
   "execution_count": 24,
   "metadata": {},
   "outputs": [],
   "source": [
    "M_s = 1*M_sun\n",
    "M_BH = 4e6 * M_sun\n",
    "m_dot = 0.5\n",
    "R_s = 0.5 * u.astronomical_unit\n",
    "d = 0.05 * u.parsec\n",
    "a_H = np.sqrt(R_gas*T_H/mu_H)\n",
    "a_P = np.sqrt(R_gas*T_P/mu_P)\n",
    "\n",
    "H = a_P**2/(G*M_s/R_s**2) # scale height\n",
    "rho_s = 1/(k*H) # density at photosphere"
   ]
  },
  {
   "cell_type": "code",
   "execution_count": 25,
   "metadata": {},
   "outputs": [
    {
     "name": "stdout",
     "output_type": "stream",
     "text": [
      "0.18744676892241174\n"
     ]
    }
   ],
   "source": [
    "R_c = parker_critical(a_P)\n",
    "r_s = R_s/R_c\n",
    "# r_I has to be between r_s and 1\n",
    "print(r_s.decompose())\n",
    "r_I = 0.2"
   ]
  },
  {
   "cell_type": "code",
   "execution_count": 26,
   "metadata": {
    "colab": {
     "base_uri": "https://localhost:8080/",
     "height": 337
    },
    "executionInfo": {
     "elapsed": 13,
     "status": "error",
     "timestamp": 1669854234543,
     "user": {
      "displayName": "Jacopo Uggeri",
      "userId": "00092845180072507060"
     },
     "user_tz": 0
    },
    "id": "_QkNom53CvNH",
    "outputId": "d34a98ef-4b92-4cf5-9a38-28f88cc4c5e8"
   },
   "outputs": [],
   "source": [
    "from ionisation_recombination import sigma_nu, ionisation_fraction\n",
    "from EUV_flux import disk_spectrum"
   ]
  },
  {
   "cell_type": "code",
   "execution_count": 27,
   "metadata": {},
   "outputs": [],
   "source": [
    "def ionisation_guess_plot(r_I, M_s, M_BH, m_dot, R_s, rho_s, a_H, a_P, d):\n",
    "    R_bins = 300\n",
    "    R_c = parker_critical(a_P)\n",
    "    R_I = r_I * R_c\n",
    "    R = R_c*np.logspace(np.log10(r_I), 1, R_bins) # radial bins in multiples of R_c\n",
    "    R = R[::-1] # invert radial bins\n",
    "    \n",
    "    n_H = (density_profile(R, R_I, R_s, rho_s, a_H, a_P)/m_p).to(\"m-3\") # use proton mass as hydrogen mass\n",
    "    \n",
    "    nu_bins = 1000\n",
    "    L_nu, nu = disk_spectrum(m_dot, M_BH, nu_bins)\n",
    "    \n",
    "    dgamma_0 = sigma_nu(nu)*L_nu/(h*nu) * 1/(4*np.pi*d**2)\n",
    "    dgamma = np.ones((R_bins, nu_bins)) * np.transpose(dgamma_0)\n",
    "    gamma = np.ones(R_bins) / u.s\n",
    "    X = np.ones(R_bins)\n",
    "    A = np.zeros(R_bins)\n",
    "    tau = np.ones((R_bins, nu_bins))\n",
    "\n",
    "    for i in range(len(R) - 1):\n",
    "        dtau = (n_H[i]*sigma_nu(nu).transpose()*(1 - X[i])*(R[i] - R[i+1])).decompose()\n",
    "        tau[i+1] = tau[i] + dtau\n",
    "        dgamma[i+1] *= np.exp(-tau[i+1])\n",
    "        gamma[i+1] = integrate.trapezoid(dgamma[i+1], nu.to(\"Hz\"))\n",
    "        A[i+1] = n_H[i]*alpha_B/gamma[i+1]\n",
    "        X[i+1] = ionisation_fraction(gamma[i+1], n_H[i], alpha_B, debug = False)\n",
    "    \n",
    "    return R/R_c, X"
   ]
  },
  {
   "cell_type": "code",
   "execution_count": 28,
   "metadata": {},
   "outputs": [],
   "source": [
    "r, X = ionisation_guess_plot(r_I, M_s, M_BH, m_dot, R_s, rho_s, a_H, a_P, d)"
   ]
  },
  {
   "cell_type": "code",
   "execution_count": 30,
   "metadata": {},
   "outputs": [
    {
     "data": {
      "text/plain": [
       "<matplotlib.lines.Line2D at 0x7fb7a3765880>"
      ]
     },
     "execution_count": 30,
     "metadata": {},
     "output_type": "execute_result"
    },
    {
     "data": {
      "image/png": "[encoded data removed]",
      "text/plain": [
       "<Figure size 640x480 with 1 Axes>"
      ]
     },
     "metadata": {},
     "output_type": "display_data"
    }
   ],
   "source": [
    "plt.loglog(r, X)\n",
    "plt.xlabel(\"R/R_c\")\n",
    "plt.ylabel(\"X\")\n",
    "plt.axvline(r_s)"
   ]
  },
  {
   "cell_type": "markdown",
   "metadata": {},
   "source": [
    "3 bins per scale height"
   ]
  },
  {
   "cell_type": "code",
   "execution_count": 32,
   "metadata": {},
   "outputs": [],
   "source": [
    "def ionisation_guess(r_I, M_s, M_BH, m_dot, R_s, rho_s, a_H, a_P, d):\n",
    "    R_bins = 300\n",
    "    R_c = parker_critical(a_P)\n",
    "    R_I = r_I * R_c\n",
    "    R = R_c*np.logspace(np.log10(r_I), 1, R_bins) # radial bins in multiples of R_c\n",
    "    R = R[::-1] # invert radial bins\n",
    "    \n",
    "    n_H = (density_profile(R, R_I, R_s, rho_s, a_H, a_P)/m_p).to(\"m-3\") # use proton mass as hydrogen mass\n",
    "    \n",
    "    nu_bins = 1000\n",
    "    L_nu, nu = disk_spectrum(m_dot, M_BH, nu_bins)\n",
    "    \n",
    "    dgamma_0 = sigma_nu(nu)*L_nu/(h*nu) * 1/(4*np.pi*d**2)\n",
    "    dgamma = np.ones((R_bins, nu_bins)) * np.transpose(dgamma_0)\n",
    "    gamma = np.ones(R_bins) / u.s\n",
    "    X = np.ones(R_bins)\n",
    "    A = np.zeros(R_bins)\n",
    "    tau = np.ones((R_bins, nu_bins))\n",
    "\n",
    "    for i in range(len(R) - 1):\n",
    "        dtau = (n_H[i]*sigma_nu(nu).transpose()*(1 - X[i])*(R[i] - R[i+1])).decompose()\n",
    "        tau[i+1] = tau[i] + dtau\n",
    "        dgamma[i+1] *= np.exp(-tau[i+1])\n",
    "        gamma[i+1] = integrate.trapezoid(dgamma[i+1], nu.to(\"Hz\"))\n",
    "        A[i+1] = n_H[i]*alpha_B/gamma[i+1]\n",
    "        X[i+1] = ionisation_fraction(gamma[i+1], n_H[i], alpha_B, debug = False)\n",
    "\n",
    "    return X[-1] - 1e-4"
   ]
  },
  {
   "cell_type": "code",
   "execution_count": 38,
   "metadata": {},
   "outputs": [
    {
     "name": "stdout",
     "output_type": "stream",
     "text": [
      "-9.999990769457098e-05\n",
      "0.9998993972556135\n"
     ]
    }
   ],
   "source": [
    "print(ionisation_guess(1/5, M_s, M_BH, m_dot, R_s, rho_s, a_H, a_P, d))\n",
    "print(ionisation_guess(1/4, M_s, M_BH, m_dot, R_s, rho_s, a_H, a_P, d))"
   ]
  },
  {
   "cell_type": "code",
   "execution_count": 40,
   "metadata": {},
   "outputs": [
    {
     "data": {
      "text/plain": [
       "0.21048487372427319"
      ]
     },
     "execution_count": 40,
     "metadata": {},
     "output_type": "execute_result"
    }
   ],
   "source": [
    "args = (M_s, M_BH, m_dot, R_s, rho_s, a_H, a_P, d)\n",
    "brentq(ionisation_guess, 1/5, 1/4, args)"
   ]
  },
  {
   "cell_type": "code",
   "execution_count": null,
   "metadata": {},
   "outputs": [],
   "source": []
  }
 ],
 "metadata": {
  "colab": {
   "provenance": []
  },
  "kernelspec": {
   "display_name": "Python 3.9.13 ('base')",
   "language": "python",
   "name": "python3"
  },
  "language_info": {
   "codemirror_mode": {
    "name": "ipython",
    "version": 3
   },
   "file_extension": ".py",
   "mimetype": "text/x-python",
   "name": "python",
   "nbconvert_exporter": "python",
   "pygments_lexer": "ipython3",
   "version": "3.9.13"
  },
  "vscode": {
   "interpreter": {
    "hash": "c4f9c5809ecabaaaa7b0c8538f32fe536d290921c824ef35e83345dde2802ef7"
   }
  }
 },
 "nbformat": 4,
 "nbformat_minor": 2
}
