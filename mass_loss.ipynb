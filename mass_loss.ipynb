{
 "cells": [
  {
   "cell_type": "code",
   "execution_count": 1,
   "metadata": {},
   "outputs": [],
   "source": [
    "import numpy as np\n",
    "import matplotlib.pyplot as plt\n",
    "import astropy.units as u\n",
    "\n",
    "from density import density_profile, parker_critical, mach_parker\n",
    "from ifront_guess import ionisation_front, ionisation_fraction_error, ionisation_fraction_plot, generate_guess_light, generate_guess_dense\n",
    "from ifront_guess import scale_height, surface_density, light_or_dense"
   ]
  },
  {
   "cell_type": "code",
   "execution_count": 2,
   "metadata": {},
   "outputs": [],
   "source": [
    "from astropy.constants import M_sun, R as R_gas, G\n",
    "k = 1e-2 * u.cm**2/u.g # opacity\n",
    "alpha_B = 2.6e-13 * (u.cm**3)/u.s # cm3s-1 at (T = 10^4 K) From Owen and Alvarez 2016"
   ]
  },
  {
   "attachments": {},
   "cell_type": "markdown",
   "metadata": {},
   "source": [
    "## Calculate mass loss rate\n",
    "The mass loss rate can be found knowing the position of the ionisation front:\n",
    "$$\\dot M = 4\\pi R_{IF}^2 c_s M(R_{IF}) \\rho(R_{IF})$$\n",
    "\n",
    "Where $\\dot M$ is the mass loss, $R_{IF}$ the position of the ionisation front, $c_s$ the speed of sound, $M(R_{IF})$ the mach number at the ionisation front and $\\rho(R_{IF})$ the density at the ionisation front."
   ]
  },
  {
   "cell_type": "code",
   "execution_count": 3,
   "metadata": {},
   "outputs": [],
   "source": [
    "def mass_loss_rate(r_I, R_s, M_s, a_H, a_P):\n",
    "    R_I = r_I*parker_critical(a_P, M_s)\n",
    "    rho_s = surface_density(a_H, M_s, R_s)\n",
    "    rho = density_profile(r_I, r_I, R_s, M_s, rho_s, a_H, a_P)\n",
    "    M_dot = 4*np.pi*(R_I**2)*a_P*mach_parker(r_I)*rho\n",
    "    #print(a_P.decompose())\n",
    "    #print(mach_parker(r_I))\n",
    "    return M_dot"
   ]
  },
  {
   "attachments": {},
   "cell_type": "markdown",
   "metadata": {},
   "source": [
    "# Parameter List"
   ]
  },
  {
   "cell_type": "code",
   "execution_count": 4,
   "metadata": {},
   "outputs": [],
   "source": [
    "# Parameter list\n",
    "T_H = 3500 * u.K # temperature in hydrostatic region\n",
    "T_P= 1e4 * u.K # temperature in parker wind region\n",
    "\n",
    "mu_H = 1 * u.g / u.mol # mean molecular weight in units of hydrogen mass\n",
    "mu_P = mu_H/2\n",
    "\n",
    "M_s = 1*M_sun\n",
    "M_BH = 4e6 * M_sun\n",
    "R_s = 0.5 * u.astronomical_unit\n",
    "d = 0.05 * u.parsec\n",
    "a_H = np.sqrt(R_gas*T_H/mu_H)\n",
    "a_P = np.sqrt(R_gas*T_P/mu_P)\n",
    "\n",
    "rho_s = surface_density(a_H, M_s, R_s) # density at photosphere"
   ]
  },
  {
   "cell_type": "code",
   "execution_count": 5,
   "metadata": {},
   "outputs": [
    {
     "name": "stderr",
     "output_type": "stream",
     "text": [
      "/Users/jacopouggeri/opt/anaconda3/lib/python3.9/site-packages/astropy/units/quantity.py:611: RuntimeWarning: overflow encountered in exp\n",
      "  result = super().__array_ufunc__(function, method, *arrays, **kwargs)\n",
      "/Users/jacopouggeri/opt/anaconda3/lib/python3.9/site-packages/astropy/units/quantity.py:611: RuntimeWarning: overflow encountered in multiply\n",
      "  result = super().__array_ufunc__(function, method, *arrays, **kwargs)\n"
     ]
    },
    {
     "name": "stdout",
     "output_type": "stream",
     "text": [
      "Ionisation front squared: 0.3363111350825263 AU2\n",
      "Mach number: 0.009588049105157969\n",
      "Density: 3.198777250988077e-14 g / cm3\n",
      "MLR: 5.93671677476399e-09 solMass / a\n"
     ]
    }
   ],
   "source": [
    "# Find mass loss rate for single case\n",
    "r_I = ionisation_front(0.5, M_s, M_BH, R_s, a_H, a_P, d)\n",
    "print(\"Ionisation front squared:\", (r_I*parker_critical(a_P, M_s).to(u.astronomical_unit))**2 )\n",
    "print(\"Mach number:\", mach_parker(r_I))\n",
    "print(\"Density:\", density_profile(r_I, r_I, R_s, M_s, rho_s, a_H, a_P).to(\"g/cm3\"))\n",
    "print(\"MLR:\", mass_loss_rate(r_I, R_s, M_s, a_H, a_P).to(u.solMass/u.a))"
   ]
  },
  {
   "attachments": {},
   "cell_type": "markdown",
   "metadata": {},
   "source": [
    "# Mass loss rate as function of $r_I$"
   ]
  },
  {
   "cell_type": "code",
   "execution_count": 44,
   "metadata": {},
   "outputs": [],
   "source": [
    "mlr = lambda r_I: mass_loss_rate(r_I, R_s, M_s, rho_s, a_H, a_P)"
   ]
  },
  {
   "cell_type": "code",
   "execution_count": 45,
   "metadata": {},
   "outputs": [
    {
     "ename": "TypeError",
     "evalue": "mass_loss_rate() takes 5 positional arguments but 6 were given",
     "output_type": "error",
     "traceback": [
      "\u001b[0;31m---------------------------------------------------------------------------\u001b[0m",
      "\u001b[0;31mTypeError\u001b[0m                                 Traceback (most recent call last)",
      "\u001b[0;32m/var/folders/b_/4vdzp0yn5_n0jlzmh1wmgmkc0000gn/T/ipykernel_46085/2738603736.py\u001b[0m in \u001b[0;36m<module>\u001b[0;34m\u001b[0m\n\u001b[1;32m      1\u001b[0m \u001b[0mr_I\u001b[0m \u001b[0;34m=\u001b[0m \u001b[0mnp\u001b[0m\u001b[0;34m.\u001b[0m\u001b[0mlogspace\u001b[0m\u001b[0;34m(\u001b[0m\u001b[0;34m-\u001b[0m\u001b[0;36m2\u001b[0m\u001b[0;34m,\u001b[0m \u001b[0;36m5\u001b[0m\u001b[0;34m,\u001b[0m \u001b[0;36m100\u001b[0m\u001b[0;34m)\u001b[0m\u001b[0;34m\u001b[0m\u001b[0;34m\u001b[0m\u001b[0m\n\u001b[1;32m      2\u001b[0m \u001b[0;34m\u001b[0m\u001b[0m\n\u001b[0;32m----> 3\u001b[0;31m \u001b[0mplt\u001b[0m\u001b[0;34m.\u001b[0m\u001b[0mloglog\u001b[0m\u001b[0;34m(\u001b[0m\u001b[0mr_I\u001b[0m\u001b[0;34m,\u001b[0m \u001b[0mmlr\u001b[0m\u001b[0;34m(\u001b[0m\u001b[0mr_I\u001b[0m\u001b[0;34m)\u001b[0m\u001b[0;34m.\u001b[0m\u001b[0mto\u001b[0m\u001b[0;34m(\u001b[0m\u001b[0mu\u001b[0m\u001b[0;34m.\u001b[0m\u001b[0mastrophys\u001b[0m\u001b[0;34m.\u001b[0m\u001b[0msolMass\u001b[0m\u001b[0;34m/\u001b[0m\u001b[0mu\u001b[0m\u001b[0;34m.\u001b[0m\u001b[0ma\u001b[0m\u001b[0;34m)\u001b[0m\u001b[0;34m)\u001b[0m\u001b[0;34m\u001b[0m\u001b[0;34m\u001b[0m\u001b[0m\n\u001b[0m\u001b[1;32m      4\u001b[0m \u001b[0;34m\u001b[0m\u001b[0m\n\u001b[1;32m      5\u001b[0m \u001b[0mplt\u001b[0m\u001b[0;34m.\u001b[0m\u001b[0mylabel\u001b[0m\u001b[0;34m(\u001b[0m\u001b[0;34mr\"$\\dot M$\"\u001b[0m\u001b[0;34m)\u001b[0m\u001b[0;34m\u001b[0m\u001b[0;34m\u001b[0m\u001b[0m\n",
      "\u001b[0;32m/var/folders/b_/4vdzp0yn5_n0jlzmh1wmgmkc0000gn/T/ipykernel_46085/1649952908.py\u001b[0m in \u001b[0;36m<lambda>\u001b[0;34m(r_I)\u001b[0m\n\u001b[0;32m----> 1\u001b[0;31m \u001b[0mmlr\u001b[0m \u001b[0;34m=\u001b[0m \u001b[0;32mlambda\u001b[0m \u001b[0mr_I\u001b[0m\u001b[0;34m:\u001b[0m \u001b[0mmass_loss_rate\u001b[0m\u001b[0;34m(\u001b[0m\u001b[0mr_I\u001b[0m\u001b[0;34m,\u001b[0m \u001b[0mR_s\u001b[0m\u001b[0;34m,\u001b[0m \u001b[0mM_s\u001b[0m\u001b[0;34m,\u001b[0m \u001b[0mrho_s\u001b[0m\u001b[0;34m,\u001b[0m \u001b[0ma_H\u001b[0m\u001b[0;34m,\u001b[0m \u001b[0ma_P\u001b[0m\u001b[0;34m)\u001b[0m\u001b[0;34m\u001b[0m\u001b[0;34m\u001b[0m\u001b[0m\n\u001b[0m",
      "\u001b[0;31mTypeError\u001b[0m: mass_loss_rate() takes 5 positional arguments but 6 were given"
     ]
    }
   ],
   "source": [
    "r_I = np.logspace(-2, 5, 100)\n",
    "\n",
    "plt.loglog(r_I, mlr(r_I).to(u.astrophys.solMass/u.a))\n",
    "\n",
    "plt.ylabel(r\"$\\dot M$\")\n",
    "plt.xlabel(r\"$r_{IF}$\")"
   ]
  },
  {
   "attachments": {},
   "cell_type": "markdown",
   "metadata": {},
   "source": [
    "# Mass loss rate for increasing $\\dot m$"
   ]
  },
  {
   "cell_type": "code",
   "execution_count": 10,
   "metadata": {},
   "outputs": [
    {
     "name": "stdout",
     "output_type": "stream",
     "text": [
      "0.2 0.25 -0.0001 0.9998057450283911\n",
      "0.2 0.25 -0.0001 0.9998057450283911\n",
      "0.2 0.25 -0.0001 0.9998603659563076\n",
      "0.2 0.25 -0.0001 0.9998818562515399\n",
      "0.2 0.25 -0.0001 0.9998910476272727\n",
      "0.2 0.25 -9.999999999999919e-05 0.9998952755767292\n",
      "0.2 0.25 -9.999999999978886e-05 0.9998973516429004\n",
      "0.2 0.25 -9.999999997371047e-05 0.9998984334736553\n",
      "0.2 0.25 -9.999999826063601e-05 0.999899028615512\n",
      "0.2 0.25 -9.999993343235648e-05 0.9998993723330909\n",
      "0.2 0.25 -9.999841722017559e-05 0.9998995799763589\n"
     ]
    }
   ],
   "source": [
    "m_dot = np.logspace(-3, 0, 10)\n",
    "\n",
    "ig = lambda m_dot: ionisation_front(m_dot, M_s, M_BH, R_s, rho_s, a_H, a_P, d, verbose=False)\n",
    "ig = np.vectorize(ig)\n",
    "r_I = ig(m_dot)\n",
    "mass_loss = mlr(r_I)\n"
   ]
  },
  {
   "cell_type": "code",
   "execution_count": 11,
   "metadata": {},
   "outputs": [
    {
     "data": {
      "text/plain": [
       "Text(0, 0.5, '$r_{IF}$')"
      ]
     },
     "execution_count": 11,
     "metadata": {},
     "output_type": "execute_result"
    },
    {
     "data": {
      "image/png": "[encoded data removed]",
      "text/plain": [
       "<Figure size 640x480 with 1 Axes>"
      ]
     },
     "metadata": {},
     "output_type": "display_data"
    }
   ],
   "source": [
    "plt.plot(m_dot, r_I)\n",
    "plt.xlabel(\"m_dot\")\n",
    "plt.ylabel(r\"$r_{IF}$\")"
   ]
  },
  {
   "cell_type": "code",
   "execution_count": 12,
   "metadata": {},
   "outputs": [
    {
     "data": {
      "text/plain": [
       "[<matplotlib.lines.Line2D at 0x7f8954654250>]"
      ]
     },
     "execution_count": 12,
     "metadata": {},
     "output_type": "execute_result"
    },
    {
     "data": {
      "image/png": "[encoded data removed]",
      "text/plain": [
       "<Figure size 640x480 with 1 Axes>"
      ]
     },
     "metadata": {},
     "output_type": "display_data"
    }
   ],
   "source": [
    "mass_loss = mass_loss.to(u.astrophys.solMass/u.a)\n",
    "plt.plot(m_dot, mass_loss)\n",
    "plt.xlabel(\"m_dot\")\n",
    "plt.ylabel(r\"$\\dot M$\")\n",
    "plt.xscale(\"log\")\n",
    "plt.yscale(\"log\")\n",
    "plt.plot(m_dot, np.sqrt(m_dot)*1e-8)"
   ]
  },
  {
   "attachments": {},
   "cell_type": "markdown",
   "metadata": {},
   "source": [
    "# Test parameter space:\n",
    "## how do parameters affect ionisation front position?\n",
    "Useful to find ionisation front guess for the root finding algorithm.\n",
    "\n",
    "3 independent parameters:\n",
    "- Flux: depends on black hole parameters and distance\n",
    "    - $\\frac{L_{edd}}{4\\pi d^2} \\propto \\frac{M_{BH}}{d^2}$\n",
    "- Mass of the star\n",
    "- Radius of the star\n",
    "\n",
    "Organise parameter gridsearch:\n",
    "Use mass and radius in range of red giants:\n",
    "$$0.5 M_\\odot \\leq M_s \\leq 8 M_\\odot$$\n",
    "$$0.5 AU \\leq R_s \\leq 1 AU$$\n",
    "\n",
    "Start by trying with a 10x10 grid"
   ]
  },
  {
   "cell_type": "code",
   "execution_count": 5,
   "metadata": {},
   "outputs": [
    {
     "name": "stdout",
     "output_type": "stream",
     "text": [
      "[0.1        0.31622777 1.        ]\n"
     ]
    }
   ],
   "source": [
    "N = 15\n",
    "m_dot_list = np.logspace(-1, 0, 3) \n",
    "mass_list = np.linspace(0.5, 8, N) * u.solMass\n",
    "print(m_dot_list)"
   ]
  },
  {
   "attachments": {},
   "cell_type": "markdown",
   "metadata": {},
   "source": [
    "Parametrise radius by escape velocity:\n",
    "- Find minimum escape velocity(when model breaks down)\n",
    "- Maximum radius is 1 AU\n",
    "\n",
    "$v_e = \\sqrt{\\frac{2GM}{r}}$, so $r_{min} = \\frac{2GM}{v_e^2}$\n",
    "\n",
    "To have r array independent of M array, can use max value of mass to find the highest $r_{min}$\n"
   ]
  },
  {
   "cell_type": "code",
   "execution_count": 6,
   "metadata": {},
   "outputs": [],
   "source": [
    "v_e_max = 92606 * u.m / u.s\n",
    "radiai_list = np.zeros((N, N+1)) * u.astronomical_unit\n",
    "for i, M_s in enumerate(mass_list):\n",
    "    r_min = (2*G*M_s/(v_e_max**2)).to(u.astronomical_unit)\n",
    "    #print(M_s, r_min.value)\n",
    "    radiai_list[i, :] = np.linspace(r_min.value, 4, N+1) * u.astronomical_unit\n",
    "#print(radiai_list)"
   ]
  },
  {
   "attachments": {},
   "cell_type": "markdown",
   "metadata": {},
   "source": [
    "### Test model step by step for different parameters"
   ]
  },
  {
   "cell_type": "code",
   "execution_count": 7,
   "metadata": {},
   "outputs": [
    {
     "name": "stdout",
     "output_type": "stream",
     "text": [
      "2.107142857142857 solMass 0.4359452463077387 AU\n"
     ]
    }
   ],
   "source": [
    "M_s, R_s = mass_list[3], radiai_list[3, 0]\n",
    "m_dot = m_dot_list[0]\n",
    "rho_s = surface_density(a_H, M_s, R_s)\n",
    "print(M_s, R_s)"
   ]
  },
  {
   "cell_type": "code",
   "execution_count": 66,
   "metadata": {},
   "outputs": [
    {
     "name": "stdout",
     "output_type": "stream",
     "text": [
      "2.107142857142857 solMass 0.4359452463077387 AU\n",
      "Scale height 0.0029585977307356928 AU\n",
      "Critical point 5.620643314516264 AU\n",
      "Density at r_I_guess 4.7019636860580675e-14 g / cm3\n",
      "-2.7376572874079802e-05\n"
     ]
    },
    {
     "data": {
      "text/plain": [
       "[<matplotlib.lines.Line2D at 0x7fd7a3f4e0d0>]"
      ]
     },
     "execution_count": 66,
     "metadata": {},
     "output_type": "execute_result"
    },
    {
     "data": {
      "image/png": "[encoded data removed]",
      "text/plain": [
       "<Figure size 640x480 with 1 Axes>"
      ]
     },
     "metadata": {},
     "output_type": "display_data"
    }
   ],
   "source": [
    "# Print values used and integrate\n",
    "print(M_s.to(\"M_sun\"), R_s)\n",
    "print(\"Scale height\", scale_height(a_H, M_s, R_s).to(u.astronomical_unit))\n",
    "print(\"Critical point\", parker_critical(a_P, M_s).to(u.astronomical_unit))\n",
    "r_I_guess = 0.08262919698105857\n",
    "print(\"Density at r_I_guess\", density_profile(r_I_guess, r_I_guess, R_s, M_s, rho_s, a_H, a_P).to(\"g/cm3\"))\n",
    "print(ionisation_fraction_error(r_I_guess, M_s, M_BH, m_dot, R_s, a_H, a_P, d, R_bins=300))\n",
    "x, y = ionisation_fraction_plot(r_I_guess, M_s, M_BH, m_dot, R_s, a_H, a_P, d, R_bins=300)\n",
    "plt.loglog(x, y)"
   ]
  },
  {
   "cell_type": "code",
   "execution_count": 74,
   "metadata": {},
   "outputs": [],
   "source": [
    "# Evaluate error function over range\n",
    "r_size = 10\n",
    "rguess = np.linspace(0.01, r_size/50, 100)\n",
    "err = []\n",
    "for r_I_guess in rguess:\n",
    "    err.append(ionisation_fraction_error(r_I_guess, M_s, M_BH, m_dot, R_s, a_H, a_P, d, R_bins=300, r_size=r_size))"
   ]
  },
  {
   "cell_type": "code",
   "execution_count": 75,
   "metadata": {},
   "outputs": [
    {
     "data": {
      "text/plain": [
       "(0.0, 0.3)"
      ]
     },
     "execution_count": 75,
     "metadata": {},
     "output_type": "execute_result"
    },
    {
     "data": {
      "image/png": "[encoded data removed]",
      "text/plain": [
       "<Figure size 640x480 with 1 Axes>"
      ]
     },
     "metadata": {},
     "output_type": "display_data"
    }
   ],
   "source": [
    "# Plot error function to diagnose problems with solver\n",
    "if light_or_dense(M_s, R_s):       \n",
    "    a, b = generate_guess_dense((M_s, M_BH, m_dot, R_s, a_H, a_P, d))\n",
    "else:\n",
    "    a, b = generate_guess_light((M_s, M_BH, m_dot, R_s, a_H, a_P, d))\n",
    "plt.axvline(a, color=\"green\")\n",
    "plt.axvline(b, color=\"green\")\n",
    "plt.plot(rguess, err)\n",
    "plt.xlim(0, 0.3)"
   ]
  },
  {
   "cell_type": "code",
   "execution_count": 70,
   "metadata": {},
   "outputs": [
    {
     "name": "stdout",
     "output_type": "stream",
     "text": [
      "dense 0.10256145016031104 0.07756145016031103\n",
      "(0.08262919698105857,       converged: True\n",
      "           flag: 'converged'\n",
      " function_calls: 18\n",
      "     iterations: 17\n",
      "           root: 0.08262919698105857)\n",
      "0.08262919698105857\n",
      "MLR: 1.1789480676946226e-14 solMass / a\n"
     ]
    }
   ],
   "source": [
    "# Find mass loss rate for single case\n",
    "r_I = ionisation_front(m_dot, M_s, M_BH, R_s, a_H, a_P, d, R_bins = 300, debug=True)\n",
    "print(r_I)\n",
    "#print(\"Ionisation front:\", r_I*parker_critical(a_P, M_s).to(u.astronomical_unit) )\n",
    "#print(\"Mach number:\", mach_parker(r_I))\n",
    "print(\"MLR:\", mass_loss_rate(r_I, R_s, M_s, a_H, a_P).to(u.solMass/u.a))"
   ]
  },
  {
   "attachments": {},
   "cell_type": "markdown",
   "metadata": {},
   "source": [
    "# Evaluate over grid"
   ]
  },
  {
   "cell_type": "code",
   "execution_count": 9,
   "metadata": {},
   "outputs": [
    {
     "name": "stdout",
     "output_type": "stream",
     "text": [
      "(15, 16, 3)\n"
     ]
    },
    {
     "name": "stderr",
     "output_type": "stream",
     "text": [
      "/Users/jacopouggeri/opt/anaconda3/lib/python3.9/site-packages/astropy/units/quantity.py:611: RuntimeWarning: overflow encountered in exp\n",
      "  result = super().__array_ufunc__(function, method, *arrays, **kwargs)\n",
      "/Users/jacopouggeri/opt/anaconda3/lib/python3.9/site-packages/astropy/units/quantity.py:611: RuntimeWarning: overflow encountered in multiply\n",
      "  result = super().__array_ufunc__(function, method, *arrays, **kwargs)\n"
     ]
    },
    {
     "name": "stdout",
     "output_type": "stream",
     "text": [
      "*  0 0 0 0.08289758351861448 0.5 solMass 0.10344463471709053 AU 0.1\n",
      "*  0 0 1 0.08247986853459015 0.5 solMass 0.10344463471709053 AU 0.31622776601683794\n",
      "*  0 0 2 0.08206869315289356 0.5 solMass 0.10344463471709053 AU 1.0\n",
      "*  0 1 0 0.3536830961183706 0.5 solMass 0.36321499240261784 AU 0.1\n",
      "*  0 1 1 0.3461631135811296 0.5 solMass 0.36321499240261784 AU 0.31622776601683794\n",
      "*  0 1 2 0.3389506117315471 0.5 solMass 0.36321499240261784 AU 1.0\n",
      "*  0 2 0 0.7473313831214057 0.5 solMass 0.6229853500881452 AU 0.1\n",
      "*  0 2 1 0.7163929476001873 0.5 solMass 0.6229853500881452 AU 0.31622776601683794\n",
      "*  0 2 2 0.6877779172046995 0.5 solMass 0.6229853500881452 AU 1.0\n",
      "*  0 3 0 1.298315071747456 0.5 solMass 0.8827557077736725 AU 0.1\n",
      "*  0 3 1 1.2107345627290573 0.5 solMass 0.8827557077736725 AU 0.31622776601683794\n",
      "*  0 3 2 1.1339101646730267 0.5 solMass 0.8827557077736725 AU 1.0\n",
      "*  0 4 0 2.1068021566821655 0.5 solMass 1.1425260654591998 AU 0.1\n",
      "*  0 4 1 1.8872516870261604 0.5 solMass 1.1425260654591998 AU 0.31622776601683794\n",
      "*  0 4 2 1.7087134563476327 0.5 solMass 1.1425260654591998 AU 1.0\n",
      "*  0 5 0 3.399718130672465 0.5 solMass 1.402296423144727 AU 0.1\n",
      "*  0 5 1 2.861907913533237 0.5 solMass 1.402296423144727 AU 0.31622776601683794\n",
      "*  0 5 2 2.4701411846073005 0.5 solMass 1.402296423144727 AU 1.0\n",
      "*  0 6 0 5.631023740248322 0.5 solMass 1.6620667808302545 AU 0.1\n",
      "*  0 6 1 4.351991821862425 0.5 solMass 1.6620667808302545 AU 0.31622776601683794\n",
      "*  0 6 2 3.5124119407377337 0.5 solMass 1.6620667808302545 AU 1.0\n",
      "- ValueError:  f(a) and f(b) must have different signs\n",
      "-  0 7 0 Fail 0.5 solMass 1.9218371385157818 AU 0.1\n",
      "*  0 7 1 6.491334188772235 0.5 solMass 1.9218371385157818 AU 0.31622776601683794\n",
      "*  0 7 2 4.950078981177729 0.5 solMass 1.9218371385157818 AU 1.0\n",
      "- ValueError:  f(a) and f(b) must have different signs\n",
      "-  0 8 0 Fail 0.5 solMass 2.181607496201309 AU 0.1\n",
      "- ValueError:  f(a) and f(b) must have different signs\n",
      "-  0 8 1 Fail 0.5 solMass 2.181607496201309 AU 0.31622776601683794\n",
      "*  0 8 2 6.655732964022238 0.5 solMass 2.181607496201309 AU 1.0\n",
      "- ValueError:  f(a) and f(b) must have different signs\n",
      "-  0 9 0 Fail 0.5 solMass 2.4413778538868365 AU 0.1\n",
      "- ValueError:  f(a) and f(b) must have different signs\n",
      "-  0 9 1 Fail 0.5 solMass 2.4413778538868365 AU 0.31622776601683794\n",
      "- ValueError:  f(a) and f(b) must have different signs\n",
      "-  0 9 2 Fail 0.5 solMass 2.4413778538868365 AU 1.0\n",
      "- ValueError:  f(a) and f(b) must have different signs\n",
      "-  0 10 0 Fail 0.5 solMass 2.7011482115723635 AU 0.1\n",
      "- ValueError:  f(a) and f(b) must have different signs\n",
      "-  0 10 1 Fail 0.5 solMass 2.7011482115723635 AU 0.31622776601683794\n",
      "- ValueError:  f(a) and f(b) must have different signs\n",
      "-  0 10 2 Fail 0.5 solMass 2.7011482115723635 AU 1.0\n",
      "- ValueError:  f(a) and f(b) must have different signs\n",
      "-  0 11 0 Fail 0.5 solMass 2.960918569257891 AU 0.1\n",
      "- ValueError:  f(a) and f(b) must have different signs\n",
      "-  0 11 1 Fail 0.5 solMass 2.960918569257891 AU 0.31622776601683794\n",
      "- ValueError:  f(a) and f(b) must have different signs\n",
      "-  0 11 2 Fail 0.5 solMass 2.960918569257891 AU 1.0\n",
      "- ValueError:  f(a) and f(b) must have different signs\n",
      "-  0 12 0 Fail 0.5 solMass 3.2206889269434185 AU 0.1\n",
      "- ValueError:  f(a) and f(b) must have different signs\n",
      "-  0 12 1 Fail 0.5 solMass 3.2206889269434185 AU 0.31622776601683794\n",
      "- ValueError:  f(a) and f(b) must have different signs\n",
      "-  0 12 2 Fail 0.5 solMass 3.2206889269434185 AU 1.0\n",
      "- ValueError:  f(a) and f(b) must have different signs\n",
      "-  0 13 0 Fail 0.5 solMass 3.4804592846289455 AU 0.1\n",
      "- ValueError:  f(a) and f(b) must have different signs\n",
      "-  0 13 1 Fail 0.5 solMass 3.4804592846289455 AU 0.31622776601683794\n",
      "- ValueError:  f(a) and f(b) must have different signs\n",
      "-  0 13 2 Fail 0.5 solMass 3.4804592846289455 AU 1.0\n",
      "- ValueError:  f(a) and f(b) must have different signs\n",
      "-  0 14 0 Fail 0.5 solMass 3.740229642314473 AU 0.1\n",
      "- ValueError:  f(a) and f(b) must have different signs\n",
      "-  0 14 1 Fail 0.5 solMass 3.740229642314473 AU 0.31622776601683794\n",
      "- ValueError:  f(a) and f(b) must have different signs\n",
      "-  0 14 2 Fail 0.5 solMass 3.740229642314473 AU 1.0\n",
      "- ValueError:  f(a) and f(b) must have different signs\n",
      "-  0 15 0 Fail 0.5 solMass 4.0 AU 0.1\n",
      "- ValueError:  f(a) and f(b) must have different signs\n",
      "-  0 15 1 Fail 0.5 solMass 4.0 AU 0.31622776601683794\n",
      "- ValueError:  f(a) and f(b) must have different signs\n",
      "-  0 15 2 Fail 0.5 solMass 4.0 AU 1.0\n",
      "*  1 0 0 0.08274774650781433 1.0357142857142856 solMass 0.21427817191397325 AU 0.1\n",
      "*  1 0 1 0.08239369798474902 1.0357142857142856 solMass 0.21427817191397325 AU 0.31622776601683794\n",
      "*  1 0 2 0.08192720674403885 1.0357142857142856 solMass 0.21427817191397325 AU 1.0\n",
      "*  1 1 0 0.19591914999498244 1.0357142857142856 solMass 0.4666596271197084 AU 0.1\n",
      "*  1 1 1 0.19400538977627577 1.0357142857142856 solMass 0.4666596271197084 AU 0.31622776601683794\n",
      "*  1 1 2 0.19138753994754956 1.0357142857142856 solMass 0.4666596271197084 AU 1.0\n",
      "*  1 2 0 0.3310274708478318 1.0357142857142856 solMass 0.7190410823254435 AU 0.1\n",
      "*  1 2 1 0.3252924418424323 1.0357142857142856 solMass 0.7190410823254435 AU 0.31622776601683794\n",
      "*  1 2 2 0.31841067484607544 1.0357142857142856 solMass 0.7190410823254435 AU 1.0\n",
      "*  1 3 0 0.49226746627733275 1.0357142857142856 solMass 0.9714225375311787 AU 0.1\n",
      "*  1 3 1 0.47923330376058804 1.0357142857142856 solMass 0.9714225375311787 AU 0.31622776601683794\n",
      "*  1 3 2 0.4655459479926808 1.0357142857142856 solMass 0.9714225375311787 AU 1.0\n",
      "*  1 4 0 0.680262609187328 1.0357142857142856 solMass 1.2238039927369138 AU 0.1\n",
      "*  1 4 1 0.6555601094749377 1.0357142857142856 solMass 1.2238039927369138 AU 0.31622776601683794\n",
      "*  1 4 2 0.6318552215208937 1.0357142857142856 solMass 1.2238039927369138 AU 1.0\n",
      "*  1 5 0 0.8972801735456097 1.0357142857142856 solMass 1.4761854479426488 AU 0.1\n",
      "*  1 5 1 0.8549587675138349 1.0357142857142856 solMass 1.4761854479426488 AU 0.31622776601683794\n",
      "*  1 5 2 0.8169428196472658 1.0357142857142856 solMass 1.4761854479426488 AU 1.0\n",
      "*  1 6 0 1.148955768613712 1.0357142857142856 solMass 1.7285669031483841 AU 0.1\n",
      "*  1 6 1 1.0806017214482524 1.0357142857142856 solMass 1.7285669031483841 AU 0.31622776601683794\n",
      "*  1 6 2 1.0224698669065941 1.0357142857142856 solMass 1.7285669031483841 AU 1.0\n",
      "*  1 7 0 1.44366941206665 1.0357142857142856 solMass 1.9809483583541192 AU 0.1\n",
      "*  1 7 1 1.3373203115814345 1.0357142857142856 solMass 1.9809483583541192 AU 0.31622776601683794\n",
      "*  1 7 2 1.251273378665894 1.0357142857142856 solMass 1.9809483583541192 AU 1.0\n",
      "*  1 8 0 1.7929772720993729 1.0357142857142856 solMass 2.2333298135598545 AU 0.1\n",
      "*  1 8 1 1.6314381322455103 1.0357142857142856 solMass 2.2333298135598545 AU 0.31622776601683794\n",
      "*  1 8 2 1.5069681872191043 1.0357142857142856 solMass 2.2333298135598545 AU 1.0\n",
      "*  1 9 0 2.213029030474016 1.0357142857142856 solMass 2.4857112687655896 AU 0.1\n",
      "*  1 9 1 1.9711674096147291 1.0357142857142856 solMass 2.4857112687655896 AU 0.31622776601683794\n",
      "*  1 9 2 1.7939928095752586 1.0357142857142856 solMass 2.4857112687655896 AU 1.0\n",
      "*  1 10 0 2.726875863540941 1.0357142857142856 solMass 2.7380927239713246 AU 0.1\n",
      "*  1 10 1 2.3672877474388647 1.0357142857142856 solMass 2.7380927239713246 AU 0.31622776601683794\n",
      "*  1 10 2 2.1178099664876684 1.0357142857142856 solMass 2.7380927239713246 AU 1.0\n",
      "*  1 11 0 3.367554586674166 1.0357142857142856 solMass 2.9904741791770597 AU 0.1\n",
      "*  1 11 1 2.834000714114982 1.0357142857142856 solMass 2.9904741791770597 AU 0.31622776601683794\n",
      "*  1 11 2 2.485145536735019 1.0357142857142856 solMass 2.9904741791770597 AU 1.0\n",
      "*  1 12 0 4.1796300597943485 1.0357142857142856 solMass 3.242855634382795 AU 0.1\n",
      "*  1 12 1 3.389619110263063 1.0357142857142856 solMass 3.242855634382795 AU 0.31622776601683794\n",
      "*  1 12 2 2.9041733611488283 1.0357142857142856 solMass 3.242855634382795 AU 1.0\n",
      "*  1 13 0 5.205413175520376 1.0357142857142856 solMass 3.49523708958853 AU 0.1\n",
      "*  1 13 1 4.055690137257037 1.0357142857142856 solMass 3.49523708958853 AU 0.31622776601683794\n",
      "*  1 13 2 3.3844047853655965 1.0357142857142856 solMass 3.49523708958853 AU 1.0\n",
      "*  1 14 0 6.410543371420439 1.0357142857142856 solMass 3.747618544794265 AU 0.1\n",
      "*  1 14 1 4.8498156270024 1.0357142857142856 solMass 3.747618544794265 AU 0.31622776601683794\n",
      "*  1 14 2 3.935648034331532 1.0357142857142856 solMass 3.747618544794265 AU 1.0\n",
      "- ValueError:  f(a) and f(b) must have different signs\n",
      "-  1 15 0 Fail 1.0357142857142856 solMass 4.0 AU 0.1\n",
      "*  1 15 1 5.7614947258058065 1.0357142857142856 solMass 4.0 AU 0.31622776601683794\n",
      "*  1 15 2 4.564579953212641 1.0357142857142856 solMass 4.0 AU 1.0\n",
      "*  2 0 0 0.08267789112200402 1.5714285714285714 solMass 0.3251117091108559 AU 0.1\n",
      "*  2 0 1 0.0823336768509063 1.5714285714285714 solMass 0.3251117091108559 AU 0.31622776601683794\n",
      "*  2 0 2 0.08186746921090148 1.5714285714285714 solMass 0.3251117091108559 AU 1.0\n",
      "*  2 1 0 0.15270754485383264 1.5714285714285714 solMass 0.5701042618367989 AU 0.1\n",
      "*  2 1 1 0.1515512231944861 1.5714285714285714 solMass 0.5701042618367989 AU 0.31622776601683794\n",
      "*  2 1 2 0.14996105196272053 1.5714285714285714 solMass 0.5701042618367989 AU 1.0\n",
      "*  2 2 0 0.2306823571753777 1.5714285714285714 solMass 0.8150968145627417 AU 0.1\n",
      "*  2 2 1 0.22796188104275592 1.5714285714285714 solMass 0.8150968145627417 AU 0.31622776601683794\n",
      "*  2 2 2 0.22450075459650215 1.5714285714285714 solMass 0.8150968145627417 AU 1.0\n",
      "*  2 3 0 0.3180855798925996 1.5714285714285714 solMass 1.0600893672886849 AU 0.1\n",
      "*  2 3 1 0.31269608991141 1.5714285714285714 solMass 1.0600893672886849 AU 0.31622776601683794\n",
      "*  2 3 2 0.30653129076545527 1.5714285714285714 solMass 1.0600893672886849 AU 1.0\n",
      "*  2 4 0 0.41592265784959553 1.5714285714285714 solMass 1.3050819200146277 AU 0.1\n",
      "*  2 4 1 0.40648467785131287 1.5714285714285714 solMass 1.3050819200146277 AU 0.31622776601683794\n",
      "*  2 4 2 0.3966441030144648 1.5714285714285714 solMass 1.3050819200146277 AU 1.0\n",
      "*  2 5 0 0.5242929594318539 1.5714285714285714 solMass 1.5500744727405706 AU 0.1\n",
      "*  2 5 1 0.5092671445185588 1.5714285714285714 solMass 1.5500744727405706 AU 0.31622776601683794\n",
      "*  2 5 2 0.4946200928439708 1.5714285714285714 solMass 1.5500744727405706 AU 1.0\n",
      "*  2 6 0 0.6431526760948221 1.5714285714285714 solMass 1.7950670254665138 AU 0.1\n",
      "*  2 6 1 0.6207547926145066 1.5714285714285714 solMass 1.7950670254665138 AU 0.31622776601683794\n",
      "*  2 6 2 0.5999873051062954 1.5714285714285714 solMass 1.7950670254665138 AU 1.0\n",
      "*  2 7 0 0.7729819042364757 1.5714285714285714 solMass 2.0400595781924564 AU 0.1\n",
      "*  2 7 1 0.741039614475401 1.5714285714285714 solMass 2.0400595781924564 AU 0.31622776601683794\n",
      "*  2 7 2 0.7125794587103389 1.5714285714285714 solMass 2.0400595781924564 AU 1.0\n",
      "*  2 8 0 0.9148402331950808 1.5714285714285714 solMass 2.2850521309183995 AU 0.1\n",
      "*  2 8 1 0.8706611789329728 1.5714285714285714 solMass 2.2850521309183995 AU 0.31622776601683794\n",
      "*  2 8 2 0.8326143968076424 1.5714285714285714 solMass 2.2850521309183995 AU 1.0\n",
      "*  2 9 0 1.0702244410772157 1.5714285714285714 solMass 2.5300446836443427 AU 0.1\n",
      "*  2 9 1 1.0104772772827044 1.5714285714285714 solMass 2.5300446836443427 AU 0.31622776601683794\n",
      "*  2 9 2 0.960565592097662 1.5714285714285714 solMass 2.5300446836443427 AU 1.0\n",
      "*  2 10 0 1.241001280486367 1.5714285714285714 solMass 2.7750372363702853 AU 0.1\n",
      "*  2 10 1 1.1615621949925352 1.5714285714285714 solMass 2.7750372363702853 AU 0.31622776601683794\n",
      "*  2 10 2 1.0970576808925339 1.5714285714285714 solMass 2.7750372363702853 AU 1.0\n",
      "*  2 11 0 1.4294412175381714 1.5714285714285714 solMass 3.0200297890962284 AU 0.1\n",
      "*  2 11 1 1.325185481456044 1.5714285714285714 solMass 3.0200297890962284 AU 0.31622776601683794\n",
      "*  2 11 2 1.2428215439553245 1.5714285714285714 solMass 3.0200297890962284 AU 1.0\n",
      "*  2 12 0 1.6382873793819395 1.5714285714285714 solMass 3.2650223418221715 AU 0.1\n",
      "*  2 12 1 1.5028276889543137 1.5714285714285714 solMass 3.2650223418221715 AU 0.31622776601683794\n",
      "*  2 12 2 1.398685966468739 1.5714285714285714 solMass 3.2650223418221715 AU 1.0\n",
      "*  2 13 0 1.870898718955576 1.5714285714285714 solMass 3.510014894548114 AU 0.1\n",
      "*  2 13 1 1.6962170710746678 1.5714285714285714 solMass 3.510014894548114 AU 0.31622776601683794\n",
      "*  2 13 2 1.5655849942000184 1.5714285714285714 solMass 3.510014894548114 AU 1.0\n",
      "*  2 14 0 2.131403617228235 1.5714285714285714 solMass 3.7550074472740573 AU 0.1\n",
      "*  2 14 1 1.9073799872155508 1.5714285714285714 solMass 3.7550074472740573 AU 0.31622776601683794\n",
      "*  2 14 2 1.744571706559372 1.5714285714285714 solMass 3.7550074472740573 AU 1.0\n",
      "*  2 15 0 2.42492839942625 1.5714285714285714 solMass 4.0 AU 0.1\n",
      "*  2 15 1 2.1387000671206375 1.5714285714285714 solMass 4.0 AU 0.31622776601683794\n",
      "*  2 15 2 1.9368349610313564 1.5714285714285714 solMass 4.0 AU 1.0\n",
      "*  3 0 0 0.08262919698105857 2.107142857142857 solMass 0.4359452463077387 AU 0.1\n",
      "*  3 0 1 0.08228727363892366 2.107142857142857 solMass 0.4359452463077387 AU 0.31622776601683794\n",
      "*  3 0 2 0.08182236680799133 2.107142857142857 solMass 0.4359452463077387 AU 1.0\n",
      "*  3 1 0 0.13246642269770606 2.107142857142857 solMass 0.6735488965538894 AU 0.1\n",
      "*  3 1 1 0.13160044041654936 2.107142857142857 solMass 0.6735488965538894 AU 0.31622776601683794\n",
      "*  3 1 2 0.13040911857681892 2.107142857142857 solMass 0.6735488965538894 AU 1.0\n",
      "*  3 2 0 0.1862069699531651 2.107142857142857 solMass 0.9111525468000401 AU 0.1\n",
      "*  3 2 1 0.1844523200771576 2.107142857142857 solMass 0.9111525468000401 AU 0.31622776601683794\n",
      "*  3 2 2 0.18217858756179536 2.107142857142857 solMass 0.9111525468000401 AU 1.0\n",
      "*  3 3 0 0.2443683387870046 2.107142857142857 solMass 1.148756197046191 AU 0.1\n",
      "*  3 3 1 0.2412504155923795 2.107142857142857 solMass 1.148756197046191 AU 0.31622776601683794\n",
      "*  3 3 2 0.23750207112710847 2.107142857142857 solMass 1.148756197046191 AU 1.0\n",
      "*  3 4 0 0.3075032842000301 2.107142857142857 solMass 1.3863598472923417 AU 0.1\n",
      "*  3 4 1 0.3024121029660506 2.107142857142857 solMass 1.3863598472923417 AU 0.31622776601683794\n",
      "*  3 4 2 0.2967675233746815 2.107142857142857 solMass 1.3863598472923417 AU 1.0\n",
      "*  3 5 0 0.37597325436276247 2.107142857142857 solMass 1.6239634975384925 AU 0.1\n",
      "*  3 5 1 0.36820856943317526 2.107142857142857 solMass 1.6239634975384925 AU 0.31622776601683794\n",
      "*  3 5 2 0.3601831808635157 2.107142857142857 solMass 1.6239634975384925 AU 1.0\n",
      "*  3 6 0 0.4498495494298696 2.107142857142857 solMass 1.8615671477846432 AU 0.1\n",
      "*  3 6 1 0.4386658043054581 2.107142857142857 solMass 1.8615671477846432 AU 0.31622776601683794\n",
      "*  3 6 2 0.4277063089011716 2.107142857142857 solMass 1.8615671477846432 AU 1.0\n",
      "*  3 7 0 0.5290597045310036 2.107142857142857 solMass 2.099170798030794 AU 0.1\n",
      "*  3 7 1 0.5136428237020797 2.107142857142857 solMass 2.099170798030794 AU 0.31622776601683794\n",
      "*  3 7 2 0.499146971736652 2.107142857142857 solMass 2.099170798030794 AU 1.0\n",
      "*  3 8 0 0.6135803766958695 2.107142857142857 solMass 2.3367744482769446 AU 0.1\n",
      "*  3 8 1 0.5930188901875388 2.107142857142857 solMass 2.3367744482769446 AU 0.31622776601683794\n",
      "*  3 8 2 0.5743170663219853 2.107142857142857 solMass 2.3367744482769446 AU 1.0\n",
      "*  3 9 0 0.7035375523648766 2.107142857142857 solMass 2.5743780985230957 AU 0.1\n",
      "*  3 9 1 0.6767901209348138 2.107142857142857 solMass 2.5743780985230957 AU 0.31622776601683794\n",
      "*  3 9 2 0.653123705188607 2.107142857142857 solMass 2.5743780985230957 AU 1.0\n",
      "*  3 10 0 0.7992331985969297 2.107142857142857 solMass 2.811981748769246 AU 0.1\n",
      "*  3 10 1 0.7650846037908207 2.107142857142857 solMass 2.811981748769246 AU 0.31622776601683794\n",
      "*  3 10 2 0.7355869295155253 2.107142857142857 solMass 2.811981748769246 AU 1.0\n",
      "*  3 11 0 0.9010907733771821 2.107142857142857 solMass 3.049585399015397 AU 0.1\n",
      "*  3 11 1 0.8581296515408458 2.107142857142857 solMass 3.049585399015397 AU 0.31622776601683794\n",
      "*  3 11 2 0.821815190453113 2.107142857142857 solMass 3.049585399015397 AU 1.0\n",
      "*  3 12 0 1.0096366584348473 2.107142857142857 solMass 3.2871890492615474 AU 0.1\n",
      "*  3 12 1 0.956223104799613 2.107142857142857 solMass 3.2871890492615474 AU 0.31622776601683794\n",
      "*  3 12 2 0.9119686769225109 2.107142857142857 solMass 3.2871890492615474 AU 1.0\n",
      "*  3 13 0 1.1254878693166934 2.107142857142857 solMass 3.5247926995076986 AU 0.1\n",
      "*  3 13 1 1.059718297282043 2.107142857142857 solMass 3.5247926995076986 AU 0.31622776601683794\n",
      "*  3 13 2 1.006250939016217 2.107142857142857 solMass 3.5247926995076986 AU 1.0\n",
      "*  3 14 0 1.2493518598411384 2.107142857142857 solMass 3.762396349753849 AU 0.1\n",
      "*  3 14 1 1.1690177462408053 2.107142857142857 solMass 3.762396349753849 AU 0.31622776601683794\n",
      "*  3 14 2 1.104890961489539 2.107142857142857 solMass 3.762396349753849 AU 1.0\n",
      "*  3 15 0 1.3820354811423528 2.107142857142857 solMass 4.0 AU 0.1\n",
      "*  3 15 1 1.284563379326245 2.107142857142857 solMass 4.0 AU 0.31622776601683794\n",
      "*  3 15 2 1.208139610649599 2.107142857142857 solMass 4.0 AU 1.0\n",
      "*  4 0 0 0.08258946187865046 2.642857142857143 solMass 0.5467787835046214 AU 0.1\n",
      "*  4 0 1 0.08224949734175915 2.642857142857143 solMass 0.5467787835046214 AU 0.31622776601683794\n",
      "*  4 0 2 0.08178796540643907 2.642857142857143 solMass 0.5467787835046214 AU 1.0\n",
      "*  4 1 0 0.12072046611026334 2.642857142857143 solMass 0.7769935312709799 AU 0.1\n",
      "*  4 1 1 0.12000209533102217 2.642857142857143 solMass 0.7769935312709799 AU 0.31622776601683794\n",
      "*  4 1 2 0.11901935959846442 2.642857142857143 solMass 0.7769935312709799 AU 1.0\n",
      "*  4 2 0 0.16108916192268682 2.642857142857143 solMass 1.0072082790373384 AU 0.1\n",
      "*  4 2 1 0.15979311044543693 2.642857142857143 solMass 1.0072082790373384 AU 0.31622776601683794\n",
      "*  4 2 2 0.15808418873227423 2.642857142857143 solMass 1.0072082790373384 AU 1.0\n",
      "*  4 3 0 0.20391876669442724 2.642857142857143 solMass 1.2374230268036972 AU 0.1\n",
      "*  4 3 1 0.20178355436642806 2.642857142857143 solMass 1.2374230268036972 AU 0.31622776601683794\n",
      "*  4 3 2 0.19913342401241133 2.642857142857143 solMass 1.2374230268036972 AU 1.0\n",
      "*  4 4 0 0.2494611358220238 2.642857142857143 solMass 1.4676377745700557 AU 0.1\n",
      "*  4 4 1 0.24616537641566544 2.642857142857143 solMass 1.4676377745700557 AU 0.31622776601683794\n",
      "*  4 4 2 0.2423617185957633 2.642857142857143 solMass 1.4676377745700557 AU 1.0\n",
      "*  4 5 0 0.2979566927957759 2.642857142857143 solMass 1.6978525223364143 AU 0.1\n",
      "*  4 5 1 0.29314414853755 2.642857142857143 solMass 1.6978525223364143 AU 0.31622776601683794\n",
      "*  4 5 2 0.2879251619066013 2.642857142857143 solMass 1.6978525223364143 AU 1.0\n",
      "*  4 6 0 0.349568978050246 2.642857142857143 solMass 1.928067270102773 AU 0.1\n",
      "*  4 6 1 0.342831405968145 2.642857142857143 solMass 1.928067270102773 AU 0.31622776601683794\n",
      "*  4 6 2 0.3359176936421517 2.642857142857143 solMass 1.928067270102773 AU 1.0\n",
      "*  4 7 0 0.4043563004316352 2.642857142857143 solMass 2.1582820178691318 AU 0.1\n",
      "*  4 7 1 0.3952691363858989 2.642857142857143 solMass 2.1582820178691318 AU 0.31622776601683794\n",
      "*  4 7 2 0.386349143385769 2.642857142857143 solMass 2.1582820178691318 AU 1.0\n",
      "*  4 8 0 0.46228770022034216 2.642857142857143 solMass 2.38849676563549 AU 0.1\n",
      "*  4 8 1 0.45040670366326263 2.642857142857143 solMass 2.38849676563549 AU 0.31622776601683794\n",
      "*  4 8 2 0.43914476887649156 2.642857142857143 solMass 2.38849676563549 AU 1.0\n",
      "*  4 9 0 0.523326775579042 2.642857142857143 solMass 2.618711513401849 AU 0.1\n",
      "*  4 9 1 0.5081658529935664 2.642857142857143 solMass 2.618711513401849 AU 0.31622776601683794\n",
      "*  4 9 2 0.49420453724274904 2.642857142857143 solMass 2.618711513401849 AU 1.0\n",
      "*  4 10 0 0.5874474011374482 2.642857142857143 solMass 2.848926261168207 AU 0.1\n",
      "*  4 10 1 0.5684851681402607 2.642857142857143 solMass 2.848926261168207 AU 0.31622776601683794\n",
      "*  4 10 2 0.5514357436680737 2.642857142857143 solMass 2.848926261168207 AU 1.0\n",
      "*  4 11 0 0.6546908958315149 2.642857142857143 solMass 3.079141008934566 AU 0.1\n",
      "*  4 11 1 0.6313446811138408 2.642857142857143 solMass 3.079141008934566 AU 0.31622776601683794\n",
      "*  4 11 2 0.6107860813449136 2.642857142857143 solMass 3.079141008934566 AU 1.0\n",
      "*  4 12 0 0.7251546422060704 2.642857142857143 solMass 3.3093557567009246 AU 0.1\n",
      "*  4 12 1 0.6967726324503094 2.642857142857143 solMass 3.3093557567009246 AU 0.31622776601683794\n",
      "*  4 12 2 0.6722354801800661 2.642857142857143 solMass 3.3093557567009246 AU 1.0\n",
      "*  4 13 0 0.7989853158433651 2.642857142857143 solMass 3.539570504467283 AU 0.1\n",
      "*  4 13 1 0.7648403639057141 2.642857142857143 solMass 3.539570504467283 AU 0.31622776601683794\n",
      "*  4 13 2 0.7358061870539621 2.642857142857143 solMass 3.539570504467283 AU 1.0\n",
      "*  4 14 0 0.8763707772526046 2.642857142857143 solMass 3.7697852522336417 AU 0.1\n",
      "*  4 14 1 0.8356474084148835 2.642857142857143 solMass 3.7697852522336417 AU 0.31622776601683794\n",
      "*  4 14 2 0.8015452573249401 2.642857142857143 solMass 3.7697852522336417 AU 1.0\n",
      "*  4 15 0 0.9575359233130304 2.642857142857143 solMass 4.0 AU 0.1\n",
      "*  4 15 1 0.9093176715271388 2.642857142857143 solMass 4.0 AU 0.31622776601683794\n",
      "*  4 15 2 0.8695183829911504 2.642857142857143 solMass 4.0 AU 1.0\n",
      "*  5 0 0 0.08255559110684178 3.1785714285714284 solMass 0.6576123207015041 AU 0.1\n",
      "*  5 0 1 0.08221796993703108 3.1785714285714284 solMass 0.6576123207015041 AU 0.31622776601683794\n",
      "*  5 0 2 0.08175980339460676 3.1785714285714284 solMass 0.6576123207015041 AU 1.0\n",
      "*  5 1 0 0.11305038957612362 3.1785714285714284 solMass 0.8804381659880705 AU 0.1\n",
      "*  5 1 1 0.11241853009797129 3.1785714285714284 solMass 0.8804381659880705 AU 0.31622776601683794\n",
      "*  5 1 2 0.11156138338614772 3.1785714285714284 solMass 0.8804381659880705 AU 1.0\n",
      "*  5 2 0 0.14494964952696748 3.1785714285714284 solMass 1.103264011274637 AU 0.1\n",
      "*  5 2 1 0.14390261269140972 3.1785714285714284 solMass 1.103264011274637 AU 0.31622776601683794\n",
      "*  5 2 2 0.1425186235053928 3.1785714285714284 solMass 1.103264011274637 AU 1.0\n",
      "*  5 3 0 0.17837669658753297 3.1785714285714284 solMass 1.3260898565612034 AU 0.1\n",
      "*  5 3 1 0.17674623070512066 3.1785714285714284 solMass 1.3260898565612034 AU 0.31622776601683794\n",
      "*  5 3 2 0.1747109317017969 3.1785714285714284 solMass 1.3260898565612034 AU 1.0\n",
      "*  5 4 0 0.21343333374963314 3.1785714285714284 solMass 1.5489157018477697 AU 0.1\n",
      "*  5 4 1 0.211054677154981 3.1785714285714284 solMass 1.5489157018477697 AU 0.31622776601683794\n",
      "*  5 4 2 0.20822787784935398 3.1785714285714284 solMass 1.5489157018477697 AU 1.0\n",
      "*  5 5 0 0.2502764297460299 3.1785714285714284 solMass 1.771741547134336 AU 0.1\n",
      "*  5 5 1 0.24692485463420685 3.1785714285714284 solMass 1.771741547134336 AU 0.31622776601683794\n",
      "*  5 5 2 0.24316166902916164 3.1785714285714284 solMass 1.771741547134336 AU 1.0\n",
      "*  5 6 0 0.2889973757523977 3.1785714285714284 solMass 1.9945673924209026 AU 0.1\n",
      "*  5 6 1 0.2844497712899251 3.1785714285714284 solMass 1.9945673924209026 AU 0.31622776601683794\n",
      "*  5 6 2 0.27959272637142524 3.1785714285714284 solMass 1.9945673924209026 AU 1.0\n",
      "*  5 7 0 0.32971053910119547 3.1785714285714284 solMass 2.217393237707469 AU 0.1\n",
      "*  5 7 1 0.3237014936193103 3.1785714285714284 solMass 2.217393237707469 AU 0.31622776601683794\n",
      "*  5 7 2 0.3175719964863986 3.1785714285714284 solMass 2.217393237707469 AU 1.0\n",
      "*  5 8 0 0.3724354307241418 3.1785714285714284 solMass 2.4402190829940356 AU 0.1\n",
      "*  5 8 1 0.3647084867066127 3.1785714285714284 solMass 2.4402190829940356 AU 0.31622776601683794\n",
      "*  5 8 2 0.35711262210166095 3.1785714285714284 solMass 2.4402190829940356 AU 1.0\n",
      "*  5 9 0 0.41718440467567863 3.1785714285714284 solMass 2.663044928280602 AU 0.1\n",
      "*  5 9 1 0.40746309176443624 3.1785714285714284 solMass 2.663044928280602 AU 0.31622776601683794\n",
      "*  5 9 2 0.3981924800541185 3.1785714285714284 solMass 2.663044928280602 AU 1.0\n",
      "*  5 10 0 0.46393333015771143 3.1785714285714284 solMass 2.8858707735671683 AU 0.1\n",
      "*  5 10 1 0.45192513372898 3.1785714285714284 solMass 2.8858707735671683 AU 0.31622776601683794\n",
      "*  5 10 2 0.4407656232356588 3.1785714285714284 solMass 2.8858707735671683 AU 1.0\n",
      "*  5 11 0 0.5126512575723043 3.1785714285714284 solMass 3.1086966188537346 AU 0.1\n",
      "*  5 11 1 0.4980512750216551 3.1785714285714284 solMass 3.1086966188537346 AU 0.31622776601683794\n",
      "*  5 11 2 0.48477183960602194 3.1785714285714284 solMass 3.1086966188537346 AU 1.0\n",
      "*  5 12 0 0.5633239615691565 3.1785714285714284 solMass 3.331522464140301 AU 0.1\n",
      "*  5 12 1 0.5458042044257061 3.1785714285714284 solMass 3.331522464140301 AU 0.31622776601683794\n",
      "*  5 12 2 0.530165021300664 3.1785714285714284 solMass 3.331522464140301 AU 1.0\n",
      "*  5 13 0 0.6159612616967394 3.1785714285714284 solMass 3.5543483094268673 AU 0.1\n",
      "*  5 13 1 0.5951663806475056 3.1785714285714284 solMass 3.5543483094268673 AU 0.31622776601683794\n",
      "*  5 13 2 0.5769076952418136 3.1785714285714284 solMass 3.5543483094268673 AU 1.0\n",
      "*  5 14 0 0.670597021865024 3.1785714285714284 solMass 3.7771741547134337 AU 0.1\n",
      "*  5 14 1 0.6461386954209433 3.1785714285714284 solMass 3.7771741547134337 AU 0.31622776601683794\n",
      "*  5 14 2 0.6249791671774143 3.1785714285714284 solMass 3.7771741547134337 AU 1.0\n",
      "*  5 15 0 0.7272821120094045 3.1785714285714284 solMass 4.0 AU 0.1\n",
      "*  5 15 1 0.6987408341696438 3.1785714285714284 solMass 4.0 AU 0.31622776601683794\n",
      "*  5 15 2 0.6743761747457208 3.1785714285714284 solMass 4.0 AU 1.0\n",
      "*  6 0 0 0.0825269205708163 3.7142857142857144 solMass 0.768445857898387 AU 0.1\n",
      "*  6 0 1 0.08219033944384407 3.7142857142857144 solMass 0.768445857898387 AU 0.31622776601683794\n",
      "*  6 0 2 0.08173591940328426 3.7142857142857144 solMass 0.768445857898387 AU 1.0\n",
      "*  6 1 0 0.10763885487978458 3.7142857142857144 solMass 0.9838828007051612 AU 0.1\n",
      "*  6 1 1 0.10706824352760777 3.7142857142857144 solMass 0.9838828007051612 AU 0.31622776601683794\n",
      "*  6 1 2 0.10629694631472918 3.7142857142857144 solMass 0.9838828007051612 AU 1.0\n",
      "*  6 2 0 0.1336997080624311 3.7142857142857144 solMass 1.1993197435119356 AU 0.1\n",
      "*  6 2 1 0.13280873113177594 3.7142857142857144 solMass 1.1993197435119356 AU 0.31622776601683794\n",
      "*  6 2 2 0.13163635987629055 3.7142857142857144 solMass 1.1993197435119356 AU 1.0\n",
      "*  6 3 0 0.1607679855902532 3.7142857142857144 solMass 1.4147566863187098 AU 0.1\n",
      "*  6 3 1 0.15945033244114654 3.7142857142857144 solMass 1.4147566863187098 AU 0.31622776601683794\n",
      "*  6 3 2 0.15779288850388318 3.7142857142857144 solMass 1.4147566863187098 AU 1.0\n",
      "*  6 4 0 0.18890323825340144 3.7142857142857144 solMass 1.630193629125484 AU 0.1\n",
      "*  6 4 1 0.1870530758742179 3.7142857142857144 solMass 1.630193629125484 AU 0.31622776601683794\n",
      "*  6 4 2 0.18482227608864849 3.7142857142857144 solMass 1.630193629125484 AU 1.0\n",
      "*  6 5 0 0.21817353964195416 3.7142857142857144 solMass 1.845630571932258 AU 0.1\n",
      "*  6 5 1 0.21565857059293841 3.7142857142857144 solMass 1.845630571932258 AU 0.31622776601683794\n",
      "*  6 5 2 0.2127588527043712 3.7142857142857144 solMass 1.845630571932258 AU 1.0\n",
      "*  6 6 0 0.24865717818859925 3.7142857142857144 solMass 2.0610675147390323 AU 0.1\n",
      "*  6 6 1 0.24532936653398088 3.7142857142857144 solMass 2.0610675147390323 AU 0.31622776601683794\n",
      "*  6 6 2 0.24167399303980938 3.7142857142857144 solMass 2.0610675147390323 AU 1.0\n",
      "*  6 7 0 0.28042632731293515 3.7142857142857144 solMass 2.2765044575458067 AU 0.1\n",
      "*  6 7 1 0.27612929130601416 3.7142857142857144 solMass 2.2765044575458067 AU 0.31622776601683794\n",
      "*  6 7 2 0.2715943977547587 3.7142857142857144 solMass 2.2765044575458067 AU 1.0\n",
      "*  6 8 0 0.3135262575755743 3.7142857142857144 solMass 2.491941400352581 AU 0.1\n",
      "*  6 8 1 0.30808372931914024 3.7142857142857144 solMass 2.491941400352581 AU 0.31622776601683794\n",
      "*  6 8 2 0.30255971624015754 3.7142857142857144 solMass 2.491941400352581 AU 1.0\n",
      "*  6 9 0 0.34798395131727006 3.7142857142857144 solMass 2.707378343159355 AU 0.1\n",
      "*  6 9 1 0.34123108129148777 3.7142857142857144 solMass 2.707378343159355 AU 0.31622776601683794\n",
      "*  6 9 2 0.3345845678399473 3.7142857142857144 solMass 2.707378343159355 AU 1.0\n",
      "*  6 10 0 0.38380974573909266 3.7142857142857144 solMass 2.922815285966129 AU 0.1\n",
      "*  6 10 1 0.375557336185635 3.7142857142857144 solMass 2.922815285966129 AU 0.31622776601683794\n",
      "*  6 10 2 0.3676579678607309 3.7142857142857144 solMass 2.922815285966129 AU 1.0\n",
      "*  6 11 0 0.42099688782435596 3.7142857142857144 solMass 3.1382522287729033 AU 0.1\n",
      "*  6 11 1 0.41106213164085276 3.7142857142857144 solMass 3.1382522287729033 AU 0.31622776601683794\n",
      "*  6 11 2 0.401764227698128 3.7142857142857144 solMass 3.1382522287729033 AU 1.0\n",
      "*  6 12 0 0.4595281933547159 3.7142857142857144 solMass 3.3536891715796777 AU 0.1\n",
      "*  6 12 1 0.4477154937068277 3.7142857142857144 solMass 3.3536891715796777 AU 0.31622776601683794\n",
      "*  6 12 2 0.43687429172721826 3.7142857142857144 solMass 3.3536891715796777 AU 1.0\n",
      "*  6 13 0 0.49938662283003843 3.7142857142857144 solMass 3.569126114386452 AU 0.1\n",
      "*  6 13 1 0.48549090569937925 3.7142857142857144 solMass 3.569126114386452 AU 0.31622776601683794\n",
      "*  6 13 2 0.4729534456324867 3.7142857142857144 solMass 3.569126114386452 AU 1.0\n",
      "*  6 14 0 0.5405652445511048 3.7142857142857144 solMass 3.7845630571932265 AU 0.1\n",
      "*  6 14 1 0.5243665081146369 3.7142857142857144 solMass 3.7845630571932265 AU 0.31622776601683794\n",
      "*  6 14 2 0.5099719065555901 3.7142857142857144 solMass 3.7845630571932265 AU 1.0\n",
      "*  6 15 0 0.5830601993591638 3.7142857142857144 solMass 4.0 AU 0.1\n",
      "*  6 15 1 0.564326463160004 3.7142857142857144 solMass 4.0 AU 0.31622776601683794\n",
      "*  6 15 2 0.5479053369525196 3.7142857142857144 solMass 4.0 AU 1.0\n",
      "*  7 0 0 0.08250256667829345 4.25 solMass 0.8792793950952696 AU 0.1\n",
      "*  7 0 1 0.08216598350152761 4.25 solMass 0.8792793950952696 AU 0.31622776601683794\n",
      "*  7 0 2 0.08171544693001687 4.25 solMass 0.8792793950952696 AU 1.0\n",
      "*  7 1 0 0.10362536825977116 4.25 solMass 1.0873274354222517 AU 0.1\n",
      "*  7 1 1 0.10309198006028596 4.25 solMass 1.0873274354222517 AU 0.31622776601683794\n",
      "*  7 1 2 0.10238172472920831 4.25 solMass 1.0873274354222517 AU 1.0\n",
      "*  7 2 0 0.1254100075762812 4.25 solMass 1.2953754757492337 AU 0.1\n",
      "*  7 2 1 0.12462456423608083 4.25 solMass 1.2953754757492337 AU 0.31622776601683794\n",
      "*  7 2 2 0.12359642411323879 4.25 solMass 1.2953754757492337 AU 1.0\n",
      "*  7 3 0 0.14789253466842164 4.25 solMass 1.5034235160762157 AU 0.1\n",
      "*  7 3 1 0.14678510967878064 4.25 solMass 1.5034235160762157 AU 0.31622776601683794\n",
      "*  7 3 2 0.14537835627522291 4.25 solMass 1.5034235160762157 AU 1.0\n",
      "*  7 4 0 0.1711099878408262 4.25 solMass 1.7114715564031977 AU 0.1\n",
      "*  7 4 1 0.1696023400712917 4.25 solMass 1.7114715564031977 AU 0.31622776601683794\n",
      "*  7 4 2 0.16775979043774072 4.25 solMass 1.7114715564031977 AU 1.0\n",
      "*  7 5 0 0.19510153055747217 4.25 solMass 1.9195195967301797 AU 0.1\n",
      "*  7 5 1 0.19310733594964724 4.25 solMass 1.9195195967301797 AU 0.31622776601683794\n",
      "*  7 5 2 0.1907706020472844 4.25 solMass 1.9195195967301797 AU 1.0\n",
      "*  7 6 0 0.21990941502987688 4.25 solMass 2.1275676370571617 AU 0.1\n",
      "*  7 6 1 0.2173322996098199 4.25 solMass 2.1275676370571617 AU 0.31622776601683794\n",
      "*  7 6 2 0.21442994969942175 4.25 solMass 2.1275676370571617 AU 1.0\n",
      "*  7 7 0 0.24557609214390821 4.25 solMass 2.3356156773841437 AU 0.1\n",
      "*  7 7 1 0.2423094029347426 4.25 solMass 2.3356156773841437 AU 0.31622776601683794\n",
      "*  7 7 2 0.23877438690415867 4.25 solMass 2.3356156773841437 AU 1.0\n",
      "*  7 8 0 0.2721407531866481 4.25 solMass 2.5436637177111256 AU 0.1\n",
      "*  7 8 1 0.26807465638786937 4.25 solMass 2.5436637177111256 AU 0.31622776601683794\n",
      "*  7 8 2 0.2638381998118865 4.25 solMass 2.5436637177111256 AU 1.0\n",
      "*  7 9 0 0.2996353028811345 4.25 solMass 2.7517117580381076 AU 0.1\n",
      "*  7 9 1 0.29465953747071144 4.25 solMass 2.7517117580381076 AU 0.31622776601683794\n",
      "*  7 9 2 0.2896291203580701 4.25 solMass 2.7517117580381076 AU 1.0\n",
      "*  7 10 0 0.3280811810140023 4.25 solMass 2.95975979836509 AU 0.1\n",
      "*  7 10 1 0.322077984612515 4.25 solMass 2.95975979836509 AU 0.31622776601683794\n",
      "*  7 10 2 0.3161606020738414 4.25 solMass 2.95975979836509 AU 1.0\n",
      "*  7 11 0 0.35748880928259613 4.25 solMass 3.167807838692072 AU 0.1\n",
      "*  7 11 1 0.3503316048041567 4.25 solMass 3.167807838692072 AU 0.31622776601683794\n",
      "*  7 11 2 0.3434399892619175 4.25 solMass 3.167807838692072 AU 1.0\n",
      "*  7 12 0 0.38786057459253165 4.25 solMass 3.375855879019054 AU 0.1\n",
      "*  7 12 1 0.37941745191411186 4.25 solMass 3.375855879019054 AU 0.31622776601683794\n",
      "*  7 12 2 0.371457322941301 4.25 solMass 3.375855879019054 AU 1.0\n",
      "*  7 13 0 0.41919404965757 4.25 solMass 3.583903919346036 AU 0.1\n",
      "*  7 13 1 0.4093270329423822 4.25 solMass 3.583903919346036 AU 0.31622776601683794\n",
      "*  7 13 2 0.4001977142610462 4.25 solMass 3.583903919346036 AU 1.0\n",
      "*  7 14 0 0.45147446342564596 4.25 solMass 3.791951959673018 AU 0.1\n",
      "*  7 14 1 0.44004585002976127 4.25 solMass 3.791951959673018 AU 0.31622776601683794\n",
      "*  7 14 2 0.42964311695847685 4.25 solMass 3.791951959673018 AU 1.0\n",
      "*  7 15 0 0.48468169447503573 4.25 solMass 4.0 AU 0.1\n",
      "*  7 15 1 0.47155693215655864 4.25 solMass 4.0 AU 0.31622776601683794\n",
      "*  7 15 2 0.45977364743295585 4.25 solMass 4.0 AU 1.0\n",
      "*  8 0 0 0.08248151319974492 4.785714285714286 solMass 0.9901129322921522 AU 0.1\n",
      "*  8 0 1 0.08214451192702141 4.785714285714286 solMass 0.9901129322921522 AU 0.31622776601683794\n",
      "*  8 0 2 0.08169753961889474 4.785714285714286 solMass 0.9901129322921522 AU 1.0\n",
      "*  8 1 0 0.10052357257105145 4.785714285714286 solMass 1.190772070139342 AU 0.1\n",
      "*  8 1 1 0.10002477822368547 4.785714285714286 solMass 1.190772070139342 AU 0.31622776601683794\n",
      "*  8 1 2 0.09935735723635272 4.785714285714286 solMass 1.190772070139342 AU 1.0\n",
      "*  8 2 0 0.11904368740554824 4.785714285714286 solMass 1.3914312079865319 AU 0.1\n",
      "*  8 2 1 0.11833734294048574 4.785714285714286 solMass 1.3914312079865319 AU 0.31622776601683794\n",
      "*  8 2 2 0.1174128921480929 4.785714285714286 solMass 1.3914312079865319 AU 1.0\n",
      "*  8 3 0 0.1380637994905525 4.785714285714286 solMass 1.5920903458337219 AU 0.1\n",
      "*  8 3 1 0.13710444789938267 4.785714285714286 solMass 1.5920903458337219 AU 0.31622776601683794\n",
      "*  8 3 2 0.13588020874431966 4.785714285714286 solMass 1.5920903458337219 AU 1.0\n",
      "*  8 4 0 0.1576100075321466 4.785714285714286 solMass 1.7927494836809117 AU 0.1\n",
      "*  8 4 1 0.15634196877509673 4.785714285714286 solMass 1.7927494836809117 AU 0.31622776601683794\n",
      "*  8 4 2 0.15477505223782448 4.785714285714286 solMass 1.7927494836809117 AU 1.0\n",
      "*  8 5 0 0.17770666459683065 4.785714285714286 solMass 1.9934086215281015 AU 0.1\n",
      "*  8 5 1 0.17606647958623003 4.785714285714286 solMass 1.9934086215281015 AU 0.31622776601683794\n",
      "*  8 5 2 0.17411382921708057 4.785714285714286 solMass 1.9934086215281015 AU 1.0\n",
      "*  8 6 0 0.1983753848186159 4.785714285714286 solMass 2.1940677593752915 AU 0.1\n",
      "*  8 6 1 0.1962955194998604 4.785714285714286 solMass 2.1940677593752915 AU 0.31622776601683794\n",
      "*  8 6 2 0.19391446746378854 4.785714285714286 solMass 2.1940677593752915 AU 1.0\n",
      "*  8 7 0 0.21963676793190282 4.785714285714286 solMass 2.3947268972224816 AU 0.1\n",
      "*  8 7 1 0.21705247874325428 4.785714285714286 solMass 2.3947268972224816 AU 0.31622776601683794\n",
      "*  8 7 2 0.2141952810887106 4.785714285714286 solMass 2.3947268972224816 AU 1.0\n",
      "*  8 8 0 0.241520890625666 4.785714285714286 solMass 2.595386035069671 AU 0.1\n",
      "*  8 8 1 0.2383603766162654 4.785714285714286 solMass 2.595386035069671 AU 0.31622776601683794\n",
      "*  8 8 2 0.23497418262800823 4.785714285714286 solMass 2.595386035069671 AU 1.0\n",
      "*  8 9 0 0.2640607381923276 4.785714285714286 solMass 2.7960451729168607 AU 0.1\n",
      "*  8 9 1 0.26023949257949014 4.785714285714286 solMass 2.7960451729168607 AU 0.31622776601683794\n",
      "*  8 9 2 0.2562675817629305 4.785714285714286 solMass 2.7960451729168607 AU 1.0\n",
      "*  8 10 0 0.287276821938101 4.785714285714286 solMass 2.9967043107640507 AU 0.1\n",
      "*  8 10 1 0.2827065813219406 4.785714285714286 solMass 2.9967043107640507 AU 0.31622776601683794\n",
      "*  8 10 2 0.27808890694623944 4.785714285714286 solMass 2.9967043107640507 AU 1.0\n",
      "*  8 11 0 0.3111739769280813 4.785714285714286 solMass 3.1973634486112408 AU 0.1\n",
      "*  8 11 1 0.3057737112262864 4.785714285714286 solMass 3.1973634486112408 AU 0.31622776601683794\n",
      "*  8 11 2 0.30044773833058874 4.785714285714286 solMass 3.1973634486112408 AU 1.0\n",
      "*  8 12 0 0.3357604012737764 4.785714285714286 solMass 3.398022586458431 AU 0.1\n",
      "*  8 12 1 0.32944751688181756 4.785714285714286 solMass 3.398022586458431 AU 0.31622776601683794\n",
      "*  8 12 2 0.32334841102151535 4.785714285714286 solMass 3.398022586458431 AU 1.0\n",
      "*  8 13 0 0.36105268876510016 4.785714285714286 solMass 3.5986817243056204 AU 0.1\n",
      "*  8 13 1 0.35372928703894 4.785714285714286 solMass 3.5986817243056204 AU 0.31622776601683794\n",
      "*  8 13 2 0.34678968432697754 4.785714285714286 solMass 3.5986817243056204 AU 1.0\n",
      "*  8 14 0 0.3870501991878457 4.785714285714286 solMass 3.7993408621528104 AU 0.1\n",
      "*  8 14 1 0.3786158636855099 4.785714285714286 solMass 3.7993408621528104 AU 0.31622776601683794\n",
      "*  8 14 2 0.3707656863105529 4.785714285714286 solMass 3.7993408621528104 AU 1.0\n",
      "*  8 15 0 0.4137304171329234 4.785714285714286 solMass 4.0 AU 0.1\n",
      "*  8 15 1 0.40410118745547957 4.785714285714286 solMass 4.0 AU 0.31622776601683794\n",
      "*  8 15 2 0.3952668038075966 4.785714285714286 solMass 4.0 AU 1.0\n",
      "*  9 0 0 0.08246279299841056 5.321428571428571 solMass 1.100946469489035 AU 0.1\n",
      "*  9 0 1 0.0821255028145707 5.321428571428571 solMass 1.100946469489035 AU 0.31622776601683794\n",
      "*  9 0 2 0.08168121479458967 5.321428571428571 solMass 1.100946469489035 AU 1.0\n",
      "*  9 1 0 0.09805492069698542 5.321428571428571 solMass 1.2942167048564326 AU 0.1\n",
      "*  9 1 1 0.09757993260515793 5.321428571428571 solMass 1.2942167048564326 AU 0.31622776601683794\n",
      "*  9 1 2 0.09694752496938379 5.321428571428571 solMass 1.2942167048564326 AU 1.0\n",
      "*  9 2 0 0.11399975507178658 5.321428571428571 solMass 1.4874869402238304 AU 0.1\n",
      "*  9 2 1 0.11335385654158674 5.321428571428571 solMass 1.4874869402238304 AU 0.31622776601683794\n",
      "*  9 2 2 0.11251075731788018 5.321428571428571 solMass 1.4874869402238304 AU 1.0\n",
      "*  9 3 0 0.13032293499944006 5.321428571428571 solMass 1.680757175591228 AU 0.1\n",
      "*  9 3 1 0.12946606361445714 5.321428571428571 solMass 1.680757175591228 AU 0.31622776601683794\n",
      "*  9 3 2 0.128378141902465 5.321428571428571 solMass 1.680757175591228 AU 1.0\n",
      "*  9 4 0 0.14702478705949845 5.321428571428571 solMass 1.8740274109586257 AU 0.1\n",
      "*  9 4 1 0.1459188660990982 5.321428571428571 solMass 1.8740274109586257 AU 0.31622776601683794\n",
      "*  9 4 2 0.14455939157916117 5.321428571428571 solMass 1.8740274109586257 AU 1.0\n",
      "*  9 5 0 0.1641222906065925 5.321428571428571 solMass 2.0672976463260233 AU 0.1\n",
      "*  9 5 1 0.16273165707758844 5.321428571428571 solMass 2.0672976463260233 AU 0.31622776601683794\n",
      "*  9 5 2 0.16106412108042847 5.321428571428571 solMass 2.0672976463260233 AU 1.0\n",
      "*  9 6 0 0.1816418944212464 5.321428571428571 solMass 2.2605678816934214 AU 0.1\n",
      "*  9 6 1 0.179913759193048 5.321428571428571 solMass 2.2605678816934214 AU 0.31622776601683794\n",
      "*  9 6 2 0.17790202947202174 5.321428571428571 solMass 2.2605678816934214 AU 1.0\n",
      "*  9 7 0 0.1995883189070152 5.321428571428571 solMass 2.453838117060819 AU 0.1\n",
      "*  9 7 1 0.19746905884313415 5.321428571428571 solMass 2.453838117060819 AU 0.31622776601683794\n",
      "*  9 7 2 0.19508592873673428 5.321428571428571 solMass 2.453838117060819 AU 1.0\n",
      "*  9 8 0 0.21797377208936292 5.321428571428571 solMass 2.6471083524282166 AU 0.1\n",
      "*  9 8 1 0.2154182112349414 5.321428571428571 solMass 2.6471083524282166 AU 0.31622776601683794\n",
      "*  9 8 2 0.2126291842445073 5.321428571428571 solMass 2.6471083524282166 AU 1.0\n",
      "*  9 9 0 0.2368383925852358 5.321428571428571 solMass 2.8403785877956143 AU 0.1\n",
      "*  9 9 1 0.23378225960361396 5.321428571428571 solMass 2.8403785877956143 AU 0.31622776601683794\n",
      "*  9 9 2 0.23054447039266154 5.321428571428571 solMass 2.8403785877956143 AU 1.0\n",
      "*  9 10 0 0.25617590035382937 5.321428571428571 solMass 3.033648823163012 AU 0.1\n",
      "*  9 10 1 0.25257232998774165 5.321428571428571 solMass 3.033648823163012 AU 0.31622776601683794\n",
      "*  9 10 2 0.2488425076392766 5.321428571428571 solMass 3.033648823163012 AU 1.0\n",
      "*  9 11 0 0.27599977705225476 5.321428571428571 solMass 3.2269190585304095 AU 0.1\n",
      "*  9 11 1 0.2717942127500606 5.321428571428571 solMass 3.2269190585304095 AU 0.31622776601683794\n",
      "*  9 11 2 0.2675317314496963 5.321428571428571 solMass 3.2269190585304095 AU 1.0\n",
      "*  9 12 0 0.29634571323419984 5.321428571428571 solMass 3.420189293897807 AU 0.1\n",
      "*  9 12 1 0.29145469404072244 5.321428571428571 solMass 3.420189293897807 AU 0.31622776601683794\n",
      "*  9 12 2 0.2866181164934797 5.321428571428571 solMass 3.420189293897807 AU 1.0\n",
      "*  9 13 0 0.31719422514546813 5.321428571428571 solMass 3.6134595292652048 AU 0.1\n",
      "*  9 13 1 0.3115620235410689 5.321428571428571 solMass 3.6134595292652048 AU 0.31622776601683794\n",
      "*  9 13 2 0.306104927252872 5.321428571428571 solMass 3.6134595292652048 AU 1.0\n",
      "*  9 14 0 0.33856127814219017 5.321428571428571 solMass 3.8067297646326024 AU 0.1\n",
      "*  9 14 1 0.33212291618940304 5.321428571428571 solMass 3.8067297646326024 AU 0.31622776601683794\n",
      "*  9 14 2 0.32599279543941445 5.321428571428571 solMass 3.8067297646326024 AU 1.0\n",
      "*  9 15 0 0.36045923486786435 5.321428571428571 solMass 4.0 AU 0.1\n",
      "*  9 15 1 0.35314071419197907 5.321428571428571 solMass 4.0 AU 0.31622776601683794\n",
      "*  9 15 2 0.3462805997642139 5.321428571428571 solMass 4.0 AU 1.0\n",
      "*  10 0 0 0.08244564609748642 5.857142857142857 solMass 1.2117800066859177 AU 0.1\n",
      "*  10 0 1 0.08210853406804502 5.857142857142857 solMass 1.2117800066859177 AU 0.31622776601683794\n",
      "*  10 0 2 0.08166574594895461 5.857142857142857 solMass 1.2117800066859177 AU 1.0\n",
      "*  10 1 0 0.09604230504399365 5.857142857142857 solMass 1.3976613395735231 AU 0.1\n",
      "*  10 1 1 0.09558596768611091 5.857142857142857 solMass 1.3976613395735231 AU 0.31622776601683794\n",
      "*  10 1 2 0.09498320148485301 5.857142857142857 solMass 1.3976613395735231 AU 1.0\n",
      "*  10 2 0 0.10991308821416586 5.857142857142857 solMass 1.5835426724611286 AU 0.1\n",
      "*  10 2 1 0.10930760261193666 5.857142857142857 solMass 1.5835426724611286 AU 0.31622776601683794\n",
      "*  10 2 2 0.10852744374384046 5.857142857142857 solMass 1.5835426724611286 AU 1.0\n",
      "*  10 3 0 0.12405914596141686 5.857142857142857 solMass 1.7694240053487342 AU 0.1\n",
      "*  10 3 1 0.12328450493641456 5.857142857142857 solMass 1.7694240053487342 AU 0.31622776601683794\n",
      "*  10 3 2 0.12229958558105099 5.857142857142857 solMass 1.7694240053487342 AU 1.0\n",
      "*  10 4 0 0.13849318126718976 5.857142857142857 solMass 1.9553053382363397 AU 0.1\n",
      "*  10 4 1 0.137518316202786 5.857142857142857 solMass 1.9553053382363397 AU 0.31622776601683794\n",
      "*  10 4 2 0.13630644028316263 5.857142857142857 solMass 1.9553053382363397 AU 1.0\n",
      "*  10 5 0 0.15322867913395116 5.857142857142857 solMass 2.141186671123945 AU 0.1\n",
      "*  10 5 1 0.15201536149889894 5.857142857142857 solMass 2.141186671123945 AU 0.31622776601683794\n",
      "*  10 5 2 0.15055815671279293 5.857142857142857 solMass 2.141186671123945 AU 1.0\n",
      "*  10 6 0 0.1682618701289919 5.857142857142857 solMass 2.327068004011551 AU 0.1\n",
      "*  10 6 1 0.16678715677753939 5.857142857142857 solMass 2.327068004011551 AU 0.31622776601683794\n",
      "*  10 6 2 0.16505926292985848 5.857142857142857 solMass 2.327068004011551 AU 1.0\n",
      "*  10 7 0 0.18362390778843166 5.857142857142857 solMass 2.5129493368991564 AU 0.1\n",
      "*  10 7 1 0.18184539569953295 5.857142857142857 solMass 2.5129493368991564 AU 0.31622776601683794\n",
      "*  10 7 2 0.17981103928794415 5.857142857142857 solMass 2.5129493368991564 AU 1.0\n",
      "*  10 8 0 0.19930289279612096 5.857142857142857 solMass 2.6988306697867617 AU 0.1\n",
      "*  10 8 1 0.1971806988122411 5.857142857142857 solMass 2.6988306697867617 AU 0.31622776601683794\n",
      "*  10 8 2 0.19482802731376053 5.857142857142857 solMass 2.6988306697867617 AU 1.0\n",
      "*  10 9 0 0.21532886331538345 5.857142857142857 solMass 2.884712002674367 AU 0.1\n",
      "*  10 9 1 0.21282625274493006 5.857142857142857 solMass 2.884712002674367 AU 0.31622776601683794\n",
      "*  10 9 2 0.2101241725845141 5.857142857142857 solMass 2.884712002674367 AU 1.0\n",
      "*  10 10 0 0.231703129292661 5.857142857142857 solMass 3.0705933355619726 AU 0.1\n",
      "*  10 10 1 0.22878426880477898 5.857142857142857 solMass 3.0705933355619726 AU 0.31622776601683794\n",
      "*  10 10 2 0.22569850592066512 5.857142857142857 solMass 3.0705933355619726 AU 1.0\n",
      "*  10 11 0 0.24843337554105416 5.857142857142857 solMass 3.2564746684495782 AU 0.1\n",
      "*  10 11 1 0.24504653170962765 5.857142857142857 solMass 3.2564746684495782 AU 0.31622776601683794\n",
      "*  10 11 2 0.24155313291491864 5.857142857142857 solMass 3.2564746684495782 AU 1.0\n",
      "*  10 12 0 0.2655466337299915 5.857142857142857 solMass 3.442356001337184 AU 0.1\n",
      "*  10 12 1 0.2616403937774346 5.857142857142857 solMass 3.442356001337184 AU 0.31622776601683794\n",
      "*  10 12 2 0.2577022388332435 5.857142857142857 solMass 3.442356001337184 AU 1.0\n",
      "*  10 13 0 0.28302164859983725 5.857142857142857 solMass 3.628237334224789 AU 0.1\n",
      "*  10 13 1 0.2785755124682543 5.857142857142857 solMass 3.628237334224789 AU 0.31622776601683794\n",
      "*  10 13 2 0.27415644346793094 5.857142857142857 solMass 3.628237334224789 AU 1.0\n",
      "*  10 14 0 0.3009024806618109 5.857142857142857 solMass 3.814118667112395 AU 0.1\n",
      "*  10 14 1 0.2958383091074606 5.857142857142857 solMass 3.814118667112395 AU 0.31622776601683794\n",
      "*  10 14 2 0.29091257216019184 5.857142857142857 solMass 3.814118667112395 AU 1.0\n",
      "*  10 15 0 0.3191534287924277 5.857142857142857 solMass 4.0 AU 0.1\n",
      "*  10 15 1 0.31343961884732274 5.857142857142857 solMass 4.0 AU 0.31622776601683794\n",
      "*  10 15 2 0.30796726571042227 5.857142857142857 solMass 4.0 AU 1.0\n",
      "*  11 0 0 0.08242961152867 6.392857142857142 solMass 1.3226135438828002 AU 0.1\n",
      "*  11 0 1 0.08209318686881804 6.392857142857142 solMass 1.3226135438828002 AU 0.31622776601683794\n",
      "*  11 0 2 0.08165090662187413 6.392857142857142 solMass 1.3226135438828002 AU 1.0\n",
      "*  11 1 0 0.0943701567576207 6.392857142857142 solMass 1.5011059742906134 AU 0.1\n",
      "*  11 1 1 0.0939300517566508 6.392857142857142 solMass 1.5011059742906134 AU 0.31622776601683794\n",
      "*  11 1 2 0.09335224491910185 6.392857142857142 solMass 1.5011059742906134 AU 1.0\n",
      "*  11 2 0 0.1065267131409554 6.392857142857142 solMass 1.6795984046984267 AU 0.1\n",
      "*  11 2 1 0.10596099458423965 6.392857142857142 solMass 1.6795984046984267 AU 0.31622776601683794\n",
      "*  11 2 2 0.10522770714948093 6.392857142857142 solMass 1.6795984046984267 AU 1.0\n",
      "*  11 3 0 0.11888699746504858 6.392857142857142 solMass 1.8580908351062402 AU 0.1\n",
      "*  11 3 1 0.11817917879635192 6.392857142857142 solMass 1.8580908351062402 AU 0.31622776601683794\n",
      "*  11 3 2 0.11727709884254633 6.392857142857142 solMass 1.8580908351062402 AU 1.0\n",
      "*  11 4 0 0.13147733924281543 6.392857142857142 solMass 2.0365832655140537 AU 0.1\n",
      "*  11 4 1 0.13059728142884633 6.392857142857142 solMass 2.0365832655140537 AU 0.31622776601683794\n",
      "*  11 4 2 0.1295079870305842 6.392857142857142 solMass 2.0365832655140537 AU 1.0\n",
      "*  11 5 0 0.14428266497651698 6.392857142857142 solMass 2.2150756959218665 AU 0.1\n",
      "*  11 5 1 0.1432164496457273 6.392857142857142 solMass 2.2150756959218665 AU 0.31622776601683794\n",
      "*  11 5 2 0.14191873694095372 6.392857142857142 solMass 2.2150756959218665 AU 1.0\n",
      "*  11 6 0 0.15732908760229133 6.392857142857142 solMass 2.39356812632968 AU 0.1\n",
      "*  11 6 1 0.1560415483176428 6.392857142857142 solMass 2.39356812632968 AU 0.31622776601683794\n",
      "*  11 6 2 0.15452216099834923 6.392857142857142 solMass 2.39356812632968 AU 1.0\n",
      "*  11 7 0 0.17060285516220897 6.392857142857142 solMass 2.5720605567374935 AU 0.1\n",
      "*  11 7 1 0.169077790638458 6.392857142857142 solMass 2.5720605567374935 AU 0.31622776601683794\n",
      "*  11 7 2 0.16732034019048855 6.392857142857142 solMass 2.5720605567374935 AU 1.0\n",
      "*  11 8 0 0.18413488496382435 6.392857142857142 solMass 2.7505529871453067 AU 0.1\n",
      "*  11 8 1 0.1823365014730061 6.392857142857142 solMass 2.7505529871453067 AU 0.31622776601683794\n",
      "*  11 8 2 0.18030865403979549 6.392857142857142 solMass 2.7505529871453067 AU 1.0\n",
      "*  11 9 0 0.1979050097656862 6.392857142857142 solMass 2.92904541755312 AU 0.1\n",
      "*  11 9 1 0.195808168108942 6.392857142857142 solMass 2.92904541755312 AU 0.31622776601683794\n",
      "*  11 9 2 0.19350995889024675 6.392857142857142 solMass 2.92904541755312 AU 1.0\n",
      "*  11 10 0 0.2119524388374272 6.392857142857142 solMass 3.1075378479609332 AU 0.1\n",
      "*  11 10 1 0.2095264514857533 6.392857142857142 solMass 3.1075378479609332 AU 0.31622776601683794\n",
      "*  11 10 2 0.20691748104574265 6.392857142857142 solMass 3.1075378479609332 AU 1.0\n",
      "*  11 11 0 0.22624944796223198 6.392857142857142 solMass 3.286030278368747 AU 0.1\n",
      "*  11 11 1 0.22346162026432426 6.392857142857142 solMass 3.286030278368747 AU 0.31622776601683794\n",
      "*  11 11 2 0.22053163114882493 6.392857142857142 solMass 3.286030278368747 AU 1.0\n",
      "*  11 12 0 0.2408402665895232 6.392857142857142 solMass 3.46452270877656 AU 0.1\n",
      "*  11 12 1 0.2376554161911427 6.392857142857142 solMass 3.46452270877656 AU 0.31622776601683794\n",
      "*  11 12 2 0.23437726407352383 6.392857142857142 solMass 3.46452270877656 AU 1.0\n",
      "*  11 13 0 0.2556949596631781 6.392857142857142 solMass 3.6430151391843735 AU 0.1\n",
      "*  11 13 1 0.2520897910726596 6.392857142857142 solMass 3.6430151391843735 AU 0.31622776601683794\n",
      "*  11 13 2 0.24843894785699824 6.392857142857142 solMass 3.6430151391843735 AU 1.0\n",
      "*  11 14 0 0.27085384031723814 6.392857142857142 solMass 3.8215075695921867 AU 0.1\n",
      "*  11 14 1 0.2667727019775191 6.392857142857142 solMass 3.8215075695921867 AU 0.31622776601683794\n",
      "*  11 14 2 0.26272487875706413 6.392857142857142 solMass 3.8215075695921867 AU 1.0\n",
      "*  11 15 0 0.2862929424367513 6.392857142857142 solMass 4.0 AU 0.1\n",
      "*  11 15 1 0.2817265266783585 6.392857142857142 solMass 4.0 AU 0.31622776601683794\n",
      "*  11 15 2 0.2772522381690577 6.392857142857142 solMass 4.0 AU 1.0\n",
      "*  12 0 0 0.08241449601710671 6.928571428571429 solMass 1.4334470810796833 AU 0.1\n",
      "*  12 0 1 0.08207904361967289 6.928571428571429 solMass 1.4334470810796833 AU 0.31622776601683794\n",
      "*  12 0 2 0.08163675659364733 6.928571428571429 solMass 1.4334470810796833 AU 1.0\n",
      "*  12 1 0 0.09295997519237532 6.928571428571429 solMass 1.6045506090077044 AU 0.1\n",
      "*  12 1 1 0.09253240897199204 6.928571428571429 solMass 1.6045506090077044 AU 0.31622776601683794\n",
      "*  12 1 2 0.09197512583424085 6.928571428571429 solMass 1.6045506090077044 AU 1.0\n",
      "*  12 2 0 0.1036759468948398 6.928571428571429 solMass 1.7756541369357255 AU 0.1\n",
      "*  12 2 1 0.10314077098181929 6.928571428571429 solMass 1.7756541369357255 AU 0.31622776601683794\n",
      "*  12 2 2 0.10244768828270655 6.928571428571429 solMass 1.7756541369357255 AU 1.0\n",
      "*  12 3 0 0.11455290060116421 6.928571428571429 solMass 1.9467576648637466 AU 0.1\n",
      "*  12 3 1 0.11389009522022189 6.928571428571429 solMass 1.9467576648637466 AU 0.31622776601683794\n",
      "*  12 3 2 0.11305702118551653 6.928571428571429 solMass 1.9467576648637466 AU 1.0\n",
      "*  12 4 0 0.12559502286370816 6.928571428571429 solMass 2.117861192791768 AU 0.1\n",
      "*  12 4 1 0.124797553027512 6.928571428571429 solMass 2.117861192791768 AU 0.31622776601683794\n",
      "*  12 4 2 0.12380219461131133 6.928571428571429 solMass 2.117861192791768 AU 1.0\n",
      "*  12 5 0 0.1368186006551762 6.928571428571429 solMass 2.2889647207197887 AU 0.1\n",
      "*  12 5 1 0.13585931641075333 6.928571428571429 solMass 2.2889647207197887 AU 0.31622776601683794\n",
      "*  12 5 2 0.13469378241149227 6.928571428571429 solMass 2.2889647207197887 AU 1.0\n",
      "*  12 6 0 0.14821114057999077 6.928571428571429 solMass 2.46006824864781 AU 0.1\n",
      "*  12 6 1 0.1470773160359723 6.928571428571429 solMass 2.46006824864781 AU 0.31622776601683794\n",
      "*  12 6 2 0.1457253001394826 6.928571428571429 solMass 2.46006824864781 AU 1.0\n",
      "*  12 7 0 0.15979469225420823 6.928571428571429 solMass 2.6311717765758313 AU 0.1\n",
      "*  12 7 1 0.15845916312334368 6.928571428571429 solMass 2.6311717765758313 AU 0.31622776601683794\n",
      "*  12 7 2 0.15690769860997464 6.928571428571429 solMass 2.6311717765758313 AU 1.0\n",
      "*  12 8 0 0.17155415113333927 6.928571428571429 solMass 2.802275304503852 AU 0.1\n",
      "*  12 8 1 0.17000589142534067 6.928571428571429 solMass 2.802275304503852 AU 0.31622776601683794\n",
      "*  12 8 2 0.1682418741553488 6.928571428571429 solMass 2.802275304503852 AU 1.0\n",
      "*  12 9 0 0.1835155796459901 6.928571428571429 solMass 2.973378832431873 AU 0.1\n",
      "*  12 9 1 0.1817214530670301 6.928571428571429 solMass 2.973378832431873 AU 0.31622776601683794\n",
      "*  12 9 2 0.17972582804080467 6.928571428571429 solMass 2.973378832431873 AU 1.0\n",
      "*  12 10 0 0.1956668464302155 6.928571428571429 solMass 3.1444823603598944 AU 0.1\n",
      "*  12 10 1 0.19361398734622384 6.928571428571429 solMass 3.1444823603598944 AU 0.31622776601683794\n",
      "*  12 10 2 0.19137742126335497 6.928571428571429 solMass 3.1444823603598944 AU 1.0\n",
      "*  12 11 0 0.20801972380981293 6.928571428571429 solMass 3.3155858882879157 AU 0.1\n",
      "*  12 11 1 0.20568045347748456 6.928571428571429 solMass 3.3155858882879157 AU 0.31622776601683794\n",
      "*  12 11 2 0.203177882168753 6.928571428571429 solMass 3.3155858882879157 AU 1.0\n",
      "*  12 12 0 0.22058801936276135 6.928571428571429 solMass 3.4866894162159365 AU 0.1\n",
      "*  12 12 1 0.21793423418463476 6.928571428571429 solMass 3.4866894162159365 AU 0.31622776601683794\n",
      "*  12 12 2 0.21515874009556168 6.928571428571429 solMass 3.4866894162159365 AU 1.0\n",
      "*  12 13 0 0.23335119332908946 6.928571428571429 solMass 3.6577929441439574 AU 0.1\n",
      "*  12 13 1 0.23037068640777705 6.928571428571429 solMass 3.6577929441439574 AU 0.31622776601683794\n",
      "*  12 13 2 0.22729393025609523 6.928571428571429 solMass 3.6577929441439574 AU 1.0\n",
      "*  12 14 0 0.24635161633565006 6.928571428571429 solMass 3.828896472071979 AU 0.1\n",
      "*  12 14 1 0.2430000715622801 6.928571428571429 solMass 3.828896472071979 AU 0.31622776601683794\n",
      "*  12 14 2 0.23961313676521342 6.928571428571429 solMass 3.828896472071979 AU 1.0\n",
      "*  12 15 0 0.25955609631453147 6.928571428571429 solMass 4.0 AU 0.1\n",
      "*  12 15 1 0.2558241158070483 6.928571428571429 solMass 4.0 AU 0.31622776601683794\n",
      "*  12 15 2 0.25209983275591574 6.928571428571429 solMass 4.0 AU 1.0\n",
      "*  13 0 0 0.08240024096716525 7.464285714285714 solMass 1.5442806182765658 AU 0.1\n",
      "*  13 0 1 0.08206572010364377 7.464285714285714 solMass 1.5442806182765658 AU 0.31622776601683794\n",
      "*  13 0 2 0.08162339888309424 7.464285714285714 solMass 1.5442806182765658 AU 1.0\n",
      "*  13 1 0 0.09175519785150907 7.464285714285714 solMass 1.7079952437247947 AU 0.1\n",
      "*  13 1 1 0.09133697842547352 7.464285714285714 solMass 1.7079952437247947 AU 0.31622776601683794\n",
      "*  13 1 2 0.09079718744917575 7.464285714285714 solMass 1.7079952437247947 AU 1.0\n",
      "*  13 2 0 0.10124224616139126 7.464285714285714 solMass 1.8717098691730238 AU 0.1\n",
      "*  13 2 1 0.10073177958589152 7.464285714285714 solMass 1.8717098691730238 AU 0.31622776601683794\n",
      "*  13 2 2 0.10007425406020537 7.464285714285714 solMass 1.8717098691730238 AU 1.0\n",
      "*  13 3 0 0.11086002214197382 7.464285714285714 solMass 2.0354244946212527 AU 0.1\n",
      "*  13 3 1 0.11024147529135633 7.464285714285714 solMass 2.0354244946212527 AU 0.31622776601683794\n",
      "*  13 3 2 0.10945980368434136 7.464285714285714 solMass 2.0354244946212527 AU 1.0\n",
      "*  13 4 0 0.12060218975165216 7.464285714285714 solMass 2.1991391200694816 AU 0.1\n",
      "*  13 4 1 0.11986687965232772 7.464285714285714 solMass 2.1991391200694816 AU 0.31622776601683794\n",
      "*  13 4 2 0.11895291091427863 7.464285714285714 solMass 2.1991391200694816 AU 1.0\n",
      "*  13 5 0 0.13048510150655582 7.464285714285714 solMass 2.3628537455177105 AU 0.1\n",
      "*  13 5 1 0.1296152017022042 7.464285714285714 solMass 2.3628537455177105 AU 0.31622776601683794\n",
      "*  13 5 2 0.12855471560160034 7.464285714285714 solMass 2.3628537455177105 AU 1.0\n",
      "*  13 6 0 0.14050533088304748 7.464285714285714 solMass 2.5265683709659394 AU 0.1\n",
      "*  13 6 1 0.13948780403560132 7.464285714285714 solMass 2.5265683709659394 AU 0.31622776601683794\n",
      "*  13 6 2 0.13827113515270978 7.464285714285714 solMass 2.5265683709659394 AU 1.0\n",
      "*  13 7 0 0.15066102496305547 7.464285714285714 solMass 2.690282996414169 AU 0.1\n",
      "*  13 7 1 0.14948230645946484 7.464285714285714 solMass 2.690282996414169 AU 0.31622776601683794\n",
      "*  13 7 2 0.14809917230682482 7.464285714285714 solMass 2.690282996414169 AU 1.0\n",
      "*  13 8 0 0.16096804370240222 7.464285714285714 solMass 2.8539976218623977 AU 0.1\n",
      "*  13 8 1 0.1596067055785008 7.464285714285714 solMass 2.8539976218623977 AU 0.31622776601683794\n",
      "*  13 8 2 0.15804727757383827 7.464285714285714 solMass 2.8539976218623977 AU 1.0\n",
      "*  13 9 0 0.17141442037441382 7.464285714285714 solMass 3.0177122473106266 AU 0.1\n",
      "*  13 9 1 0.16986370122169275 7.464285714285714 solMass 3.0177122473106266 AU 0.31622776601683794\n",
      "*  13 9 2 0.16811095346139496 7.464285714285714 solMass 3.0177122473106266 AU 1.0\n",
      "*  13 10 0 0.18201447230171838 7.464285714285714 solMass 3.1814268727588555 AU 0.1\n",
      "*  13 10 1 0.18024527610413935 7.464285714285714 solMass 3.1814268727588555 AU 0.31622776601683794\n",
      "*  13 10 2 0.17830054158422515 7.464285714285714 solMass 3.1814268727588555 AU 1.0\n",
      "*  13 11 0 0.19277343561841778 7.464285714285714 solMass 3.3451414982070844 AU 0.1\n",
      "*  13 11 1 0.1907786017848907 7.464285714285714 solMass 3.3451414982070844 AU 0.31622776601683794\n",
      "*  13 11 2 0.1886079807523482 7.464285714285714 solMass 3.3451414982070844 AU 1.0\n",
      "*  13 12 0 0.20367680090075221 7.464285714285714 solMass 3.5088561236553133 AU 0.1\n",
      "*  13 12 1 0.2014319712389124 7.464285714285714 solMass 3.5088561236553133 AU 0.31622776601683794\n",
      "*  13 12 2 0.19904962271531568 7.464285714285714 solMass 3.5088561236553133 AU 1.0\n",
      "*  13 13 0 0.2147531104455872 7.464285714285714 solMass 3.672570749103542 AU 0.1\n",
      "*  13 13 1 0.2122455017744401 7.464285714285714 solMass 3.672570749103542 AU 0.31622776601683794\n",
      "*  13 13 2 0.2096103860827173 7.464285714285714 solMass 3.672570749103542 AU 1.0\n",
      "*  13 14 0 0.22599357442744164 7.464285714285714 solMass 3.836285374551771 AU 0.1\n",
      "*  13 14 1 0.22319014662777098 7.464285714285714 solMass 3.836285374551771 AU 0.31622776601683794\n",
      "*  13 14 2 0.2203138171064733 7.464285714285714 solMass 3.836285374551771 AU 1.0\n",
      "*  13 15 0 0.23738771750998297 7.464285714285714 solMass 4.0 AU 0.1\n",
      "*  13 15 1 0.2342905806889368 7.464285714285714 solMass 4.0 AU 0.31622776601683794\n",
      "*  13 15 2 0.23113811581621746 7.464285714285714 solMass 4.0 AU 1.0\n",
      "*  14 0 0 0.08238681907599907 8.0 solMass 1.6551141554734485 AU 0.1\n",
      "*  14 0 1 0.0820529289542102 8.0 solMass 1.6551141554734485 AU 0.31622776601683794\n",
      "*  14 0 2 0.08161089210733234 8.0 solMass 1.6551141554734485 AU 1.0\n",
      "*  14 1 0 0.0907139409113571 8.0 solMass 1.8114398784418853 AU 0.1\n",
      "*  14 1 1 0.09030316387926393 8.0 solMass 1.8114398784418853 AU 0.31622776601683794\n",
      "*  14 1 2 0.08977860353708063 8.0 solMass 1.8114398784418853 AU 1.0\n",
      "*  14 2 0 0.09914068213082931 8.0 solMass 1.967765601410322 AU 0.1\n",
      "*  14 2 1 0.09865196484354588 8.0 solMass 1.967765601410322 AU 0.31622776601683794\n",
      "*  14 2 2 0.09802562798105169 8.0 solMass 1.967765601410322 AU 1.0\n",
      "*  14 3 0 0.10767623514140175 8.0 solMass 2.124091324378759 AU 0.1\n",
      "*  14 3 1 0.10709477016526503 8.0 solMass 2.124091324378759 AU 0.31622776601683794\n",
      "*  14 3 2 0.10635735185754076 8.0 solMass 2.124091324378759 AU 1.0\n",
      "*  14 4 0 0.11631151522380925 8.0 solMass 2.2804170473471954 AU 0.1\n",
      "*  14 4 1 0.1156234181008617 8.0 solMass 2.2804170473471954 AU 0.31622776601683794\n",
      "*  14 4 2 0.1147751417755165 8.0 solMass 2.2804170473471954 AU 1.0\n",
      "*  14 5 0 0.12504561583331314 8.0 solMass 2.4367427703156324 AU 0.1\n",
      "*  14 5 1 0.12425213057534082 8.0 solMass 2.4367427703156324 AU 0.31622776601683794\n",
      "*  14 5 2 0.12327752278212331 8.0 solMass 2.4367427703156324 AU 1.0\n",
      "*  14 6 0 0.13389765692408676 8.0 solMass 2.5930684932840693 AU 0.1\n",
      "*  14 6 1 0.13297499275984392 8.0 solMass 2.5930684932840693 AU 0.31622776601683794\n",
      "*  14 6 2 0.13187027850592686 8.0 solMass 2.5930684932840693 AU 1.0\n",
      "*  14 7 0 0.14285506299701758 8.0 solMass 2.7493942162525062 AU 0.1\n",
      "*  14 7 1 0.14179798493813175 8.0 solMass 2.7493942162525062 AU 0.31622776601683794\n",
      "*  14 7 2 0.1405513177830116 8.0 solMass 2.7493942162525062 AU 1.0\n",
      "*  14 8 0 0.151920555022141 8.0 solMass 2.9057199392209427 AU 0.1\n",
      "*  14 8 1 0.15071690597223608 8.0 solMass 2.9057199392209427 AU 0.31622776601683794\n",
      "*  14 8 2 0.14932100093974407 8.0 solMass 2.9057199392209427 AU 1.0\n",
      "*  14 9 0 0.16110566779188593 8.0 solMass 3.0620456621893792 AU 0.1\n",
      "*  14 9 1 0.15973742223526655 8.0 solMass 3.0620456621893792 AU 0.31622776601683794\n",
      "*  14 9 2 0.15818882939457904 8.0 solMass 3.0620456621893792 AU 1.0\n",
      "*  14 10 0 0.1704054444619154 8.0 solMass 3.218371385157816 AU 0.1\n",
      "*  14 10 1 0.16886812674938675 8.0 solMass 3.218371385157816 AU 0.31622776601683794\n",
      "*  14 10 2 0.16714265122151772 8.0 solMass 3.218371385157816 AU 1.0\n",
      "*  14 11 0 0.17981756648845695 8.0 solMass 3.374697108126253 AU 0.1\n",
      "*  14 11 1 0.17809135235671936 8.0 solMass 3.374697108126253 AU 0.31622776601683794\n",
      "*  14 11 2 0.1762023967014654 8.0 solMass 3.374697108126253 AU 1.0\n",
      "*  14 12 0 0.18936095111737325 8.0 solMass 3.53102283109469 AU 0.1\n",
      "*  14 12 1 0.18743241583476652 8.0 solMass 3.53102283109469 AU 0.31622776601683794\n",
      "*  14 12 2 0.1853486294168787 8.0 solMass 3.53102283109469 AU 1.0\n",
      "*  14 13 0 0.1990240518221938 8.0 solMass 3.6873485540631266 AU 0.1\n",
      "*  14 13 1 0.19688188365401194 8.0 solMass 3.6873485540631266 AU 0.31622776601683794\n",
      "*  14 13 2 0.19460303062929168 8.0 solMass 3.6873485540631266 AU 1.0\n",
      "*  14 14 0 0.20880364964577888 8.0 solMass 3.8436742770315635 AU 0.1\n",
      "*  14 14 1 0.2064310912711206 8.0 solMass 3.8436742770315635 AU 0.31622776601683794\n",
      "*  14 14 2 0.20395483159744687 8.0 solMass 3.8436742770315635 AU 1.0\n",
      "*  14 15 0 0.2187246442782167 8.0 solMass 4.0 AU 0.1\n",
      "*  14 15 1 0.21611266627805745 8.0 solMass 4.0 AU 0.31622776601683794\n",
      "*  14 15 2 0.21340589824600123 8.0 solMass 4.0 AU 1.0\n"
     ]
    }
   ],
   "source": [
    "# Calculate ioniastion front for grid\n",
    "r_I_list = np.zeros((len(mass_list), len(radiai_list[0, :]), len(m_dot_list)))\n",
    "print(r_I_list.shape)\n",
    "for i, M_s in enumerate(mass_list):\n",
    "    for j, R_s in enumerate(radiai_list[i, :]):\n",
    "        for k, m_dot in enumerate(m_dot_list):\n",
    "            try:\n",
    "                if i == 0: # Handle first row going beyond r = 10\n",
    "                    res = ionisation_front(m_dot, M_s, M_BH, R_s, a_H, a_P, d, R_bins = 300, r_size = 50)\n",
    "                else:\n",
    "                    res = ionisation_front(m_dot, M_s, M_BH, R_s, a_H, a_P, d, R_bins = 300)\n",
    "                r_I_list[i, j, k] = res\n",
    "                print(\"* \", i, j, k, res, mass_list[i], radiai_list[i, j], m_dot_list[k])\n",
    "            except ValueError as v:\n",
    "                print(\"- ValueError: \", v)\n",
    "                print(\"- \", i, j, k, \"Fail\", mass_list[i], radiai_list[i, j], m_dot_list[k])"
   ]
  },
  {
   "cell_type": "code",
   "execution_count": 10,
   "metadata": {},
   "outputs": [
    {
     "data": {
      "text/plain": [
       "<matplotlib.image.AxesImage at 0x7f78dcf7fd30>"
      ]
     },
     "execution_count": 10,
     "metadata": {},
     "output_type": "execute_result"
    },
    {
     "data": {
      "image/png": "[encoded data removed]",
      "text/plain": [
       "<Figure size 640x480 with 1 Axes>"
      ]
     },
     "metadata": {},
     "output_type": "display_data"
    }
   ],
   "source": [
    "# Plot grid r_I values\n",
    "plt.imshow(np.log10(r_I_list[:,:,-1]))"
   ]
  },
  {
   "cell_type": "code",
   "execution_count": 76,
   "metadata": {},
   "outputs": [
    {
     "name": "stdout",
     "output_type": "stream",
     "text": [
      "0.018617333741584505\n"
     ]
    }
   ],
   "source": [
    "print(r_I_list[3, 0, 0])"
   ]
  },
  {
   "cell_type": "code",
   "execution_count": 11,
   "metadata": {},
   "outputs": [
    {
     "name": "stderr",
     "output_type": "stream",
     "text": [
      "/Users/jacopouggeri/Library/CloudStorage/OneDrive-ImperialCollegeLondon/MSci Project-MacBook Pro di Jacopo/Code/density.py:44: RuntimeWarning: invalid value encountered in double_scalars\n",
      "  arg = -(ratio)**4 * np.exp(3 - 4*ratio)\n",
      "/Users/jacopouggeri/Library/CloudStorage/OneDrive-ImperialCollegeLondon/MSci Project-MacBook Pro di Jacopo/Code/density.py:87: RuntimeWarning: invalid value encountered in double_scalars\n",
      "  return ((r_I/r)**2) * rho_p * m_ratio\n"
     ]
    }
   ],
   "source": [
    "# Find mass loss rate over grid\n",
    "m_loss_list = np.zeros((len(mass_list), len(radiai_list[0, :]), len(m_dot_list))) * u.solMass/u.a\n",
    "for i, M_s in enumerate(mass_list):\n",
    "    for j, R_s in enumerate(radiai_list[i, :]):\n",
    "        for k, m_dot in enumerate(m_dot_list):\n",
    "            r_I = r_I_list[i, j, k]\n",
    "            M_dot = mass_loss_rate(r_I, R_s, M_s, a_H, a_P).decompose()\n",
    "            m_loss_list[i, j, k] = M_dot.to(u.solMass/u.a)"
   ]
  },
  {
   "cell_type": "code",
   "execution_count": 69,
   "metadata": {},
   "outputs": [
    {
     "name": "stdout",
     "output_type": "stream",
     "text": [
      "2.8823801403617752e+156 solMass / a\n"
     ]
    }
   ],
   "source": [
    "print(m_loss_list[3, 0, 0])"
   ]
  },
  {
   "cell_type": "code",
   "execution_count": 12,
   "metadata": {},
   "outputs": [
    {
     "data": {
      "text/plain": [
       "<matplotlib.image.AxesImage at 0x7f78dd757880>"
      ]
     },
     "execution_count": 12,
     "metadata": {},
     "output_type": "execute_result"
    },
    {
     "data": {
      "image/png": "[encoded data removed]",
      "text/plain": [
       "<Figure size 640x480 with 1 Axes>"
      ]
     },
     "metadata": {},
     "output_type": "display_data"
    }
   ],
   "source": [
    "plt.imshow(np.log10(m_loss_list[:,:,0].value))"
   ]
  },
  {
   "cell_type": "code",
   "execution_count": 15,
   "metadata": {},
   "outputs": [
    {
     "data": {
      "text/plain": [
       "Text(0, 0.5, 'Radius (AU)')"
      ]
     },
     "execution_count": 15,
     "metadata": {},
     "output_type": "execute_result"
    },
    {
     "data": {
      "image/png": "[encoded data removed]",
      "text/plain": [
       "<Figure size 640x480 with 2 Axes>"
      ]
     },
     "metadata": {},
     "output_type": "display_data"
    }
   ],
   "source": [
    "from matplotlib import cm, colors, ticker\n",
    "X = np.tensordot(mass_list, np.ones(N + 1), axes=0).value\n",
    "Y = radiai_list.to(u.astronomical_unit).value\n",
    "Z = m_loss_list[:, :, 0].to(u.solMass/u.a).value\n",
    "\n",
    "plt.contourf(X, Y, np.log10(Z), 20)\n",
    "#plt.scatter(X, Y)\n",
    "plt.colorbar()\n",
    "\n",
    "plt.xlabel(r\"Mass $(M_{\\odot}$)\")\n",
    "plt.ylabel(\"Radius (AU)\")\n",
    "#print(X, radiai_list)"
   ]
  },
  {
   "cell_type": "code",
   "execution_count": 31,
   "metadata": {},
   "outputs": [
    {
     "name": "stdout",
     "output_type": "stream",
     "text": [
      "1.9334352656643094e-15 solMass / a\n"
     ]
    }
   ],
   "source": [
    "print(np.nanmin(m_loss_list))"
   ]
  },
  {
   "cell_type": "code",
   "execution_count": 32,
   "metadata": {},
   "outputs": [],
   "source": [
    "# Find mass loss rate over grid\n",
    "v_esc_list = np.zeros((len(mass_list), len(radiai_list[:, 0]), len(m_dot_list))) * u.m/u.s\n",
    "for i, M_s in enumerate(mass_list):\n",
    "    for j, R_s in enumerate(radiai_list[:, i]):\n",
    "        v_esc_list[i, j] = np.sqrt(2*G*M_s/R_s).decompose()"
   ]
  },
  {
   "cell_type": "code",
   "execution_count": 31,
   "metadata": {},
   "outputs": [
    {
     "name": "stdout",
     "output_type": "stream",
     "text": [
      "[[[92606.        ]\n",
      "  [46303.        ]\n",
      "  [35001.77798749]\n",
      "  [29284.58849976]\n",
      "  [25684.28318582]\n",
      "  [23151.5       ]]\n",
      "\n",
      " [[68653.54353173]\n",
      "  [59230.30956891]\n",
      "  [52857.3304412 ]\n",
      "  [48179.38172904]\n",
      "  [44557.65521526]\n",
      "  [41646.44012702]]\n",
      "\n",
      " [[66546.04017314]\n",
      "  [62121.08746738]\n",
      "  [58475.67525017]\n",
      "  [55404.88132985]\n",
      "  [52772.05001301]\n",
      "  [50482.08548198]]\n",
      "\n",
      " [[65755.76273762]\n",
      "  [63401.98272633]\n",
      "  [61284.12585171]\n",
      "  [59365.24307347]\n",
      "  [57616.01031666]\n",
      "  [56012.81777066]]\n",
      "\n",
      " [[65341.72264729]\n",
      "  [64125.3688463 ]\n",
      "  [62974.50859329]\n",
      "  [61883.46786149]\n",
      "  [60847.23780144]\n",
      "  [59861.37772607]]\n",
      "\n",
      " [[65086.88519655]\n",
      "  [64590.25929758]\n",
      "  [64104.83069404]\n",
      "  [63630.18484228]\n",
      "  [63165.92837133]\n",
      "  [62711.68771245]]] m / s\n"
     ]
    },
    {
     "data": {
      "image/png": "[encoded data removed]",
      "text/plain": [
       "<Figure size 640x480 with 1 Axes>"
      ]
     },
     "metadata": {},
     "output_type": "display_data"
    }
   ],
   "source": [
    "plt.imshow(v_esc_list)\n",
    "print(v_esc_list)"
   ]
  },
  {
   "cell_type": "code",
   "execution_count": 32,
   "metadata": {},
   "outputs": [
    {
     "name": "stdout",
     "output_type": "stream",
     "text": [
      "(array([0]), array([0]), array([0])) [0.5] solMass [[0.10344463 0.75287053 1.40229642 2.05172232 2.70114821 3.35057411\n",
      "  4.        ]] AU\n",
      "[[92606.         34326.77176586 25152.03900489 20793.79795325\n",
      "  18122.53318707 16271.72129914 14892.34591484]] m / s\n"
     ]
    }
   ],
   "source": [
    "pos = np.where(m_loss_list == np.nanmin(m_loss_list[:10,:]))\n",
    "mass_min = mass_list[pos[0]]\n",
    "radius_min = radiai_list[pos[1]]\n",
    "print(pos, mass_min, radius_min)\n",
    "print(np.sqrt(2*G*mass_min/radius_min).decompose())"
   ]
  },
  {
   "cell_type": "code",
   "execution_count": 16,
   "metadata": {},
   "outputs": [],
   "source": [
    "import os\n",
    "def new_fname(name, path=\"data\", form=\"txt\"):\n",
    "    \"\"\"Generate file name not present in the directory from given string.\n",
    "\n",
    "    Parameters\n",
    "    ----------\n",
    "    name : str\n",
    "        proposed file name\n",
    "    path : str, optional\n",
    "        directory in which the file will be saved, use empty string for current directory, by default \"data\"\n",
    "    form : str, optional\n",
    "        format of file, eg. \"txt\" or \"npy\"\n",
    "    \"\"\"\n",
    "    # Folder path where the files are located\n",
    "    folder_path = \"data\"\n",
    "\n",
    "    # Desired file name\n",
    "    file_name = name\n",
    "    current_file_name = file_name + \".\" + form\n",
    "    current_file_path = os.path.join(folder_path, current_file_name)\n",
    "\n",
    "    # Initialize the file number\n",
    "    file_num = 1\n",
    "\n",
    "    # Check if file name already exists in the folder\n",
    "    while True:\n",
    "        current_file_name = file_name + str(file_num) + \".\" + form\n",
    "        current_file_path = os.path.join(folder_path, current_file_name)\n",
    "        if os.path.exists(current_file_path):\n",
    "            file_num += 1\n",
    "        else:\n",
    "            break\n",
    "\n",
    "    return current_file_path"
   ]
  },
  {
   "cell_type": "code",
   "execution_count": 17,
   "metadata": {},
   "outputs": [],
   "source": [
    "# Save data in files\n",
    "np.savetxt(new_fname(\"mass_list\"), mass_list.to(u.solMass).value) # In solar masses\n",
    "np.savetxt(new_fname(\"radiai_list\"), radiai_list.to(u.astronomical_unit).value) # In astronomical units\n",
    "np.savetxt(new_fname(\"m_dot_list\"), m_dot_list)\n",
    "# 3D arrays in npy format\n",
    "np.save(new_fname(\"r_I_list\", form=\"npy\"), r_I_list)\n",
    "np.save(new_fname(\"m_loss_list\", form=\"npy\"), m_loss_list.to(u.solMass/u.a).value) # In solar masses per year\n",
    "\n"
   ]
  },
  {
   "cell_type": "code",
   "execution_count": 18,
   "metadata": {},
   "outputs": [
    {
     "name": "stdout",
     "output_type": "stream",
     "text": [
      "{'T_H': <Quantity 3500. K>, 'T_P': <Quantity 10000. K>, 'mu_H': <Quantity 1. g / mol>, 'mu_P': <Quantity 0.5 g / mol>, 'M_BH': <Quantity 7.95363948e+36 kg>, 'd': <Quantity 0.05 pc>}\n"
     ]
    }
   ],
   "source": [
    "params = {\n",
    "    'T_H': T_H,\n",
    "    'T_P': T_P,\n",
    "    'mu_H': mu_H,\n",
    "    'mu_P': mu_P,\n",
    "    'M_BH': M_BH,\n",
    "    'd': d\n",
    "}\n",
    "print(params)\n",
    "np.save(new_fname(\"params\", form=\"npy\"), params)"
   ]
  },
  {
   "attachments": {},
   "cell_type": "markdown",
   "metadata": {},
   "source": [
    "### Resolution check\n",
    "Radial bins for integration go up to $10R_c$, check that bin number contain at least 3 bins per scale height"
   ]
  },
  {
   "cell_type": "code",
   "execution_count": 78,
   "metadata": {},
   "outputs": [
    {
     "ename": "ValueError",
     "evalue": "setting an array element with a sequence.",
     "output_type": "error",
     "traceback": [
      "\u001b[0;31m---------------------------------------------------------------------------\u001b[0m",
      "\u001b[0;31mTypeError\u001b[0m                                 Traceback (most recent call last)",
      "\u001b[0;31mTypeError\u001b[0m: only size-1 arrays can be converted to Python scalars",
      "\nThe above exception was the direct cause of the following exception:\n",
      "\u001b[0;31mValueError\u001b[0m                                Traceback (most recent call last)",
      "\u001b[0;32m/var/folders/b_/4vdzp0yn5_n0jlzmh1wmgmkc0000gn/T/ipykernel_20907/289635785.py\u001b[0m in \u001b[0;36m<module>\u001b[0;34m\u001b[0m\n\u001b[1;32m      6\u001b[0m     \u001b[0;32mfor\u001b[0m \u001b[0mj\u001b[0m\u001b[0;34m,\u001b[0m \u001b[0mR_s\u001b[0m \u001b[0;32min\u001b[0m \u001b[0menumerate\u001b[0m\u001b[0;34m(\u001b[0m\u001b[0mradiai_list\u001b[0m\u001b[0;34m)\u001b[0m\u001b[0;34m:\u001b[0m\u001b[0;34m\u001b[0m\u001b[0;34m\u001b[0m\u001b[0m\n\u001b[1;32m      7\u001b[0m         \u001b[0mH\u001b[0m \u001b[0;34m=\u001b[0m \u001b[0ma_P\u001b[0m\u001b[0;34m**\u001b[0m\u001b[0;36m2\u001b[0m\u001b[0;34m/\u001b[0m\u001b[0;34m(\u001b[0m\u001b[0mG\u001b[0m\u001b[0;34m*\u001b[0m\u001b[0mM_s\u001b[0m\u001b[0;34m/\u001b[0m\u001b[0mR_s\u001b[0m\u001b[0;34m**\u001b[0m\u001b[0;36m2\u001b[0m\u001b[0;34m)\u001b[0m \u001b[0;31m# scale height\u001b[0m\u001b[0;34m\u001b[0m\u001b[0;34m\u001b[0m\u001b[0m\n\u001b[0;32m----> 8\u001b[0;31m         \u001b[0marr\u001b[0m\u001b[0;34m[\u001b[0m\u001b[0mi\u001b[0m\u001b[0;34m,\u001b[0m \u001b[0mj\u001b[0m\u001b[0;34m]\u001b[0m \u001b[0;34m=\u001b[0m \u001b[0mR_c\u001b[0m\u001b[0;34m/\u001b[0m\u001b[0mR_bins\u001b[0m \u001b[0;34m<\u001b[0m \u001b[0mH\u001b[0m\u001b[0;34m\u001b[0m\u001b[0;34m\u001b[0m\u001b[0m\n\u001b[0m\u001b[1;32m      9\u001b[0m \u001b[0;34m\u001b[0m\u001b[0m\n\u001b[1;32m     10\u001b[0m \u001b[0mplt\u001b[0m\u001b[0;34m.\u001b[0m\u001b[0mimshow\u001b[0m\u001b[0;34m(\u001b[0m\u001b[0marr\u001b[0m\u001b[0;34m)\u001b[0m\u001b[0;34m\u001b[0m\u001b[0;34m\u001b[0m\u001b[0m\n",
      "\u001b[0;31mValueError\u001b[0m: setting an array element with a sequence."
     ]
    }
   ],
   "source": [
    "R_bins = 300\n",
    "arr = np.zeros((len(mass_list), len(radiai_list)))\n",
    "\n",
    "for i, M_s in enumerate(mass_list):\n",
    "    R_c = parker_critical(a_P, M_s)\n",
    "    for j, R_s in enumerate(radiai_list):\n",
    "        H = a_P**2/(G*M_s/R_s**2) # scale height\n",
    "        arr[i, j] = R_c/R_bins < H\n",
    "\n",
    "plt.imshow(arr)"
   ]
  },
  {
   "cell_type": "code",
   "execution_count": 134,
   "metadata": {},
   "outputs": [
    {
     "ename": "TypeError",
     "evalue": "list.append() takes exactly one argument (0 given)",
     "output_type": "error",
     "traceback": [
      "\u001b[0;31m---------------------------------------------------------------------------\u001b[0m",
      "\u001b[0;31mTypeError\u001b[0m                                 Traceback (most recent call last)",
      "\u001b[0;32m/var/folders/b_/4vdzp0yn5_n0jlzmh1wmgmkc0000gn/T/ipykernel_7893/1879350203.py\u001b[0m in \u001b[0;36m<module>\u001b[0;34m\u001b[0m\n\u001b[1;32m      5\u001b[0m     \u001b[0;32mfor\u001b[0m \u001b[0mj\u001b[0m\u001b[0;34m,\u001b[0m \u001b[0mR_s\u001b[0m \u001b[0;32min\u001b[0m \u001b[0menumerate\u001b[0m\u001b[0;34m(\u001b[0m\u001b[0mradiai_list\u001b[0m\u001b[0;34m)\u001b[0m\u001b[0;34m:\u001b[0m\u001b[0;34m\u001b[0m\u001b[0;34m\u001b[0m\u001b[0m\n\u001b[1;32m      6\u001b[0m         \u001b[0mH\u001b[0m \u001b[0;34m=\u001b[0m \u001b[0ma_P\u001b[0m\u001b[0;34m**\u001b[0m\u001b[0;36m2\u001b[0m\u001b[0;34m/\u001b[0m\u001b[0;34m(\u001b[0m\u001b[0mG\u001b[0m\u001b[0;34m*\u001b[0m\u001b[0mM_s\u001b[0m\u001b[0;34m/\u001b[0m\u001b[0mR_s\u001b[0m\u001b[0;34m**\u001b[0m\u001b[0;36m2\u001b[0m\u001b[0;34m)\u001b[0m \u001b[0;31m# scale height\u001b[0m\u001b[0;34m\u001b[0m\u001b[0;34m\u001b[0m\u001b[0m\n\u001b[0;32m----> 7\u001b[0;31m         \u001b[0mbin_sizes\u001b[0m\u001b[0;34m.\u001b[0m\u001b[0mappend\u001b[0m\u001b[0;34m(\u001b[0m\u001b[0;34m)\u001b[0m\u001b[0;34m\u001b[0m\u001b[0;34m\u001b[0m\u001b[0m\n\u001b[0m\u001b[1;32m      8\u001b[0m         \u001b[0mprint\u001b[0m\u001b[0;34m(\u001b[0m\u001b[0mM_s\u001b[0m\u001b[0;34m,\u001b[0m \u001b[0mR_s\u001b[0m\u001b[0;34m,\u001b[0m \u001b[0;36m10\u001b[0m\u001b[0;34m*\u001b[0m\u001b[0mR_c\u001b[0m\u001b[0;34m/\u001b[0m\u001b[0mR_bins\u001b[0m \u001b[0;34m>\u001b[0m \u001b[0mH\u001b[0m\u001b[0;34m)\u001b[0m\u001b[0;34m\u001b[0m\u001b[0;34m\u001b[0m\u001b[0m\n",
      "\u001b[0;31mTypeError\u001b[0m: list.append() takes exactly one argument (0 given)"
     ]
    }
   ],
   "source": [
    "# Find necessary bin sizes\n",
    "bin_sizes = []\n",
    "for i, M_s in enumerate(mass_list):\n",
    "    R_c = parker_critical(a_P, M_s)\n",
    "    for j, R_s in enumerate(radiai_list):\n",
    "        H = a_P**2/(G*M_s/R_s**2) # scale height\n",
    "        bin_sizes.append()\n",
    "        print(M_s, R_s, 10*R_c/R_bins > H)"
   ]
  },
  {
   "cell_type": "code",
   "execution_count": null,
   "metadata": {},
   "outputs": [],
   "source": []
  }
 ],
 "metadata": {
  "kernelspec": {
   "display_name": "base",
   "language": "python",
   "name": "python3"
  },
  "language_info": {
   "codemirror_mode": {
    "name": "ipython",
    "version": 3
   },
   "file_extension": ".py",
   "mimetype": "text/x-python",
   "name": "python",
   "nbconvert_exporter": "python",
   "pygments_lexer": "ipython3",
   "version": "3.9.13"
  },
  "orig_nbformat": 4,
  "vscode": {
   "interpreter": {
    "hash": "c4f9c5809ecabaaaa7b0c8538f32fe536d290921c824ef35e83345dde2802ef7"
   }
  }
 },
 "nbformat": 4,
 "nbformat_minor": 2
}
