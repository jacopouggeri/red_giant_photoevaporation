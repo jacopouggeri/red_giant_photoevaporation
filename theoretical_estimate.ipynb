{
 "cells": [
  {
   "cell_type": "code",
   "execution_count": 50,
   "metadata": {},
   "outputs": [],
   "source": [
    "import numpy as np\n",
    "import matplotlib.pyplot as plt\n",
    "import astropy.units as u\n",
    "\n",
    "from density import mach_parker, parker_critical\n",
    "from EUV_flux import euv_flux_photons\n",
    "from ifront_guess import surface_density"
   ]
  },
  {
   "cell_type": "code",
   "execution_count": 51,
   "metadata": {},
   "outputs": [],
   "source": [
    "from astropy.constants import M_sun, R as R_gas, G, m_p, h\n",
    "k = 1e-2 * u.cm**2/u.g # opacity\n",
    "alpha_B = 2.6e-13 * (u.cm**3)/u.s # cm3s-1 at (T = 10^4 K) From Owen and Alvarez 2016"
   ]
  },
  {
   "attachments": {},
   "cell_type": "markdown",
   "metadata": {},
   "source": [
    "## Theoretical prediction\n",
    "\n",
    "See Owen and Alvarez 2016"
   ]
  },
  {
   "cell_type": "code",
   "execution_count": 52,
   "metadata": {},
   "outputs": [],
   "source": [
    "# Parameter list\n",
    "T_H = 3500 * u.K # temperature in hydrostatic region\n",
    "T_P= 1e4 * u.K # temperature in parker wind region\n",
    "\n",
    "mu_H = 1 * u.g / u.mol # mean molecular weight in units of hydrogen mass\n",
    "mu_P = mu_H/2\n",
    "\n",
    "m_dot = 0.1\n",
    "M_s = 2.107142857142857*M_sun\n",
    "R_s = 0.4359452463077387 * u.astronomical_unit\n",
    "\n",
    "M_BH = 4e6 * M_sun\n",
    "d = 0.05 * u.parsec\n",
    "a_H = np.sqrt(R_gas*T_H/mu_H)\n",
    "a_P = np.sqrt(R_gas*T_P/mu_P)\n",
    "\n",
    "rho_s = surface_density(a_H, M_s, R_s) # density at photosphere"
   ]
  },
  {
   "cell_type": "code",
   "execution_count": 53,
   "metadata": {},
   "outputs": [
    {
     "name": "stderr",
     "output_type": "stream",
     "text": [
      "/Users/jacopouggeri/opt/anaconda3/lib/python3.9/site-packages/astropy/units/quantity.py:611: RuntimeWarning: overflow encountered in exp\n",
      "  result = super().__array_ufunc__(function, method, *arrays, **kwargs)\n",
      "/Users/jacopouggeri/opt/anaconda3/lib/python3.9/site-packages/astropy/units/quantity.py:611: RuntimeWarning: overflow encountered in multiply\n",
      "  result = super().__array_ufunc__(function, method, *arrays, **kwargs)\n"
     ]
    },
    {
     "data": {
      "text/latex": [
       "$1.2630673 \\times 10^{22} \\; \\mathrm{\\frac{1}{s\\,m^{2}}}$"
      ],
      "text/plain": [
       "<Quantity 1.26306732e+22 1 / (m2 s)>"
      ]
     },
     "execution_count": 53,
     "metadata": {},
     "output_type": "execute_result"
    }
   ],
   "source": [
    "#Find total photon flux\n",
    "J_0 = euv_flux_photons(m_dot, M_BH)/(4*np.pi*d**2)\n",
    "J_0.decompose()"
   ]
  },
  {
   "cell_type": "code",
   "execution_count": 54,
   "metadata": {},
   "outputs": [
    {
     "data": {
      "text/latex": [
       "$0.0014792989 \\; \\mathrm{AU}$"
      ],
      "text/plain": [
       "<Quantity 0.0014793 AU>"
      ]
     },
     "execution_count": 54,
     "metadata": {},
     "output_type": "execute_result"
    }
   ],
   "source": [
    "H = min(R_s/3, a_H**2*R_s**2/(2*G*M_s))\n",
    "H.to(u.astronomical_unit)"
   ]
  },
  {
   "cell_type": "code",
   "execution_count": 55,
   "metadata": {},
   "outputs": [
    {
     "data": {
      "text/latex": [
       "$1.4816168 \\times 10^{10} \\; \\mathrm{\\frac{1}{cm^{3}}}$"
      ],
      "text/plain": [
       "<Quantity 1.48161685e+10 1 / cm3>"
      ]
     },
     "execution_count": 55,
     "metadata": {},
     "output_type": "execute_result"
    }
   ],
   "source": [
    "n = np.sqrt(J_0/(alpha_B*H))\n",
    "n.to(1/u.cm**3)"
   ]
  },
  {
   "cell_type": "code",
   "execution_count": 56,
   "metadata": {},
   "outputs": [
    {
     "name": "stdout",
     "output_type": "stream",
     "text": [
      "2.478184822220809e-14 g / cm3\n"
     ]
    }
   ],
   "source": [
    "print((n*m_p).to(u.g/u.cm**3))"
   ]
  },
  {
   "cell_type": "code",
   "execution_count": 57,
   "metadata": {},
   "outputs": [],
   "source": [
    "R_c = parker_critical(a_P, M_s).to(u.astronomical_unit)"
   ]
  },
  {
   "cell_type": "code",
   "execution_count": 58,
   "metadata": {},
   "outputs": [
    {
     "name": "stdout",
     "output_type": "stream",
     "text": [
      "Radius of star 0.4359452463077387 AU\n",
      "Radius of star squared 0.19004825777831494 AU2\n",
      "Mach number 4.714437399512633e-09\n",
      "Density: 1.2390924111104045e-14 g / cm3\n",
      "MLR: 6.389815203583648e-16 solMass / a\n"
     ]
    }
   ],
   "source": [
    "r = (R_s/R_c).value\n",
    "print(\"Radius of star\", R_s)\n",
    "print(\"Radius of star squared\", R_s**2)\n",
    "print(\"Mach number\", mach_parker(r))\n",
    "M_dot =  2*np.pi*R_s**2*m_p*n*a_P*mach_parker(r)\n",
    "print(\"Density:\", (n*m_p/2).to(\"g/cm3\"))\n",
    "print(\"MLR:\", M_dot.to(u.M_sun/u.a))"
   ]
  },
  {
   "cell_type": "code",
   "execution_count": 59,
   "metadata": {},
   "outputs": [],
   "source": [
    "from density import density_profile, parker_critical, mach_parker\n",
    "from ifront_guess import ionisation_front, ionisation_fraction_error, ionisation_fraction_plot"
   ]
  },
  {
   "cell_type": "code",
   "execution_count": 60,
   "metadata": {},
   "outputs": [],
   "source": [
    "def mass_loss_rate(r_I, R_s, M_s, a_H, a_P):\n",
    "    R_I = r_I*parker_critical(a_P, M_s)\n",
    "    rho_s = surface_density(a_H, M_s, R_s)\n",
    "    rho = density_profile(r_I, r_I, R_s, M_s, rho_s, a_H, a_P)\n",
    "    M_dot = 4*np.pi*(R_I**2)*a_P*mach_parker(r_I)*rho\n",
    "    return M_dot"
   ]
  },
  {
   "cell_type": "code",
   "execution_count": 61,
   "metadata": {},
   "outputs": [
    {
     "name": "stdout",
     "output_type": "stream",
     "text": [
      "Ionisation front squared: 0.21569452230362762 AU2\n",
      "Mach number: 2.0196934310310468e-08\n",
      "Density: 4.7019636905801047e-14 g / cm3\n",
      "MLR: 1.1789480686300408e-14 solMass / a\n"
     ]
    }
   ],
   "source": [
    "# Find mass loss rate for single case\n",
    "r_I = ionisation_front(m_dot, M_s, M_BH, R_s, a_H, a_P, d)\n",
    "print(\"Ionisation front squared:\", (r_I*parker_critical(a_P, M_s).to(u.astronomical_unit))**2 )\n",
    "print(\"Mach number:\", mach_parker(r_I))\n",
    "print(\"Density:\", density_profile(r_I, r_I, R_s, M_s, rho_s, a_H, a_P).to(\"g/cm3\"))\n",
    "print(\"MLR:\", mass_loss_rate(r_I, R_s, M_s, a_H, a_P).to(u.solMass/u.a))"
   ]
  },
  {
   "cell_type": "code",
   "execution_count": null,
   "metadata": {},
   "outputs": [],
   "source": []
  }
 ],
 "metadata": {
  "kernelspec": {
   "display_name": "base",
   "language": "python",
   "name": "python3"
  },
  "language_info": {
   "codemirror_mode": {
    "name": "ipython",
    "version": 3
   },
   "file_extension": ".py",
   "mimetype": "text/x-python",
   "name": "python",
   "nbconvert_exporter": "python",
   "pygments_lexer": "ipython3",
   "version": "3.9.13"
  },
  "orig_nbformat": 4,
  "vscode": {
   "interpreter": {
    "hash": "c4f9c5809ecabaaaa7b0c8538f32fe536d290921c824ef35e83345dde2802ef7"
   }
  }
 },
 "nbformat": 4,
 "nbformat_minor": 2
}
