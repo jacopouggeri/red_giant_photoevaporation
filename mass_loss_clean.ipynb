{
 "cells": [
  {
   "cell_type": "code",
   "execution_count": 1,
   "metadata": {},
   "outputs": [],
   "source": [
    "import numpy as np\n",
    "import matplotlib.pyplot as plt\n",
    "import astropy.units as u\n",
    "\n",
    "from density import density_profile, parker_critical, mach_parker\n",
    "from ifront_guess import ionisation_front, ionisation_fraction_error, ionisation_fraction_plot, generate_guess_light, generate_guess_dense\n",
    "from ifront_guess import scale_height, surface_density, light_or_dense"
   ]
  },
  {
   "cell_type": "code",
   "execution_count": 2,
   "metadata": {},
   "outputs": [],
   "source": [
    "from astropy.constants import M_sun, R as R_gas, G\n",
    "k = 1e-2 * u.cm**2/u.g # opacity\n",
    "alpha_B = 2.6e-13 * (u.cm**3)/u.s # cm3s-1 at (T = 10^4 K) From Owen and Alvarez 2016"
   ]
  },
  {
   "attachments": {},
   "cell_type": "markdown",
   "metadata": {},
   "source": [
    "## Calculate mass loss rate\n",
    "The mass loss rate can be found knowing the position of the ionisation front:\n",
    "$$\\dot M = 4\\pi R_{IF}^2 c_s M(R_{IF}) \\rho(R_{IF})$$\n",
    "\n",
    "Where $\\dot M$ is the mass loss, $R_{IF}$ the position of the ionisation front, $c_s$ the speed of sound, $M(R_{IF})$ the mach number at the ionisation front and $\\rho(R_{IF})$ the density at the ionisation front."
   ]
  },
  {
   "cell_type": "code",
   "execution_count": 3,
   "metadata": {},
   "outputs": [],
   "source": [
    "def mass_loss_rate(r_I, R_s, M_s, a_H, a_P):\n",
    "    R_I = r_I*parker_critical(a_P, M_s)\n",
    "    rho_s = surface_density(a_H, M_s, R_s)\n",
    "    rho = density_profile(r_I, r_I, R_s, M_s, rho_s, a_H, a_P)\n",
    "    M_dot = 4*np.pi*(R_I**2)*a_P*mach_parker(r_I)*rho\n",
    "    #print(a_P.decompose())\n",
    "    #print(mach_parker(r_I))\n",
    "    return M_dot"
   ]
  },
  {
   "attachments": {},
   "cell_type": "markdown",
   "metadata": {},
   "source": [
    "# Parameter List"
   ]
  },
  {
   "cell_type": "code",
   "execution_count": 4,
   "metadata": {},
   "outputs": [],
   "source": [
    "# Parameter list\n",
    "T_H = 3500 * u.K # temperature in hydrostatic region\n",
    "T_P= 1e4 * u.K # temperature in parker wind region\n",
    "\n",
    "mu_H = 1 * u.g / u.mol # mean molecular weight in units of hydrogen mass\n",
    "mu_P = mu_H/2\n",
    "\n",
    "M_BH = 4e6 * M_sun\n",
    "a_H = np.sqrt(R_gas*T_H/mu_H)\n",
    "a_P = np.sqrt(R_gas*T_P/mu_P)"
   ]
  },
  {
   "cell_type": "code",
   "execution_count": 35,
   "metadata": {},
   "outputs": [
    {
     "name": "stdout",
     "output_type": "stream",
     "text": [
      "[0.31622777]\n"
     ]
    }
   ],
   "source": [
    "N = 5 # number mass points\n",
    "m_dot_list = np.logspace(-1, 0, 3)[1:2]\n",
    "mass_list = np.linspace(0.5, 8, N) * u.solMass\n",
    "d = 0.05 * u.parsec # distance to supermassive black hole\n",
    "print(m_dot_list)"
   ]
  },
  {
   "attachments": {},
   "cell_type": "markdown",
   "metadata": {},
   "source": [
    "Parametrise radius by escape velocity:\n",
    "- Find minimum escape velocity (when model breaks down)\n",
    "\n",
    "$v_e = \\sqrt{\\frac{2GM}{r}}$, so $r_{min} = \\frac{2GM}{v_e^2}$\n"
   ]
  },
  {
   "cell_type": "code",
   "execution_count": 36,
   "metadata": {},
   "outputs": [
    {
     "name": "stdout",
     "output_type": "stream",
     "text": [
      "R_min:  0.10344463471709053 R_step:  0.7793110730565819\n",
      "R_min:  0.49136201490618 R_step:  0.701727597018764\n",
      "R_min:  0.8792793950952696 R_step:  0.6241441209809461\n",
      "R_min:  1.267196775284359 R_step:  0.5465606449431283\n",
      "R_min:  1.6551141554734485 R_step:  0.46897716890531027\n"
     ]
    }
   ],
   "source": [
    "v_e_max = 92606 * u.m / u.s\n",
    "radii_list = np.zeros((N, N+1)) * u.astronomical_unit\n",
    "for i, M_s in enumerate(mass_list):\n",
    "    r_min = (2*G*M_s/(v_e_max**2)).to(u.astronomical_unit)\n",
    "    radii_list[i, :] = np.linspace(r_min.value, 4, N+1) * u.astronomical_unit\n",
    "    print(\"R_min: \", r_min.value, \"R_step: \", (4-r_min.value)/N)"
   ]
  },
  {
   "attachments": {},
   "cell_type": "markdown",
   "metadata": {},
   "source": [
    "# Evaluate over grid"
   ]
  },
  {
   "cell_type": "code",
   "execution_count": 39,
   "metadata": {},
   "outputs": [
    {
     "name": "stdout",
     "output_type": "stream",
     "text": [
      "(5, 6, 1)\n",
      "*  0 0 0 0.08249480084753318 0.5 solMass 0.10344463471709053 AU 0.31622776601683794\n",
      "*  0 1 0 1.2086907951995416 0.5 solMass 0.8827557077736724 AU 0.31622776601683794\n",
      "*  0 2 0 4.286920390066579 0.5 solMass 1.6620667808302543 AU 0.31622776601683794\n",
      "- ValueError:  f(a) and f(b) must have different signs\n",
      "-  0 3 0 Fail 0.5 solMass 2.441377853886836 AU 0.31622776601683794\n",
      "*  1 0 0 0.08226736767287503 2.375 solMass 0.49136201490618 AU 0.31622776601683794\n",
      "*  1 1 0 0.21902796545782724 2.375 solMass 1.193089611924944 AU 0.31622776601683794\n",
      "*  1 2 0 0.3841901728516013 2.375 solMass 1.8948172089437079 AU 0.31622776601683794\n",
      "*  1 3 0 0.5804624520597802 2.375 solMass 2.5965448059624716 AU 0.31622776601683794\n",
      "*  1 4 0 0.8068370060079464 2.375 solMass 3.298272402981236 AU 0.31622776601683794\n",
      "*  1 5 0 1.0663066956124512 2.375 solMass 4.0 AU 0.31622776601683794\n",
      "*  2 0 0 0.08216598350877997 4.25 solMass 0.8792793950952696 AU 0.31622776601683794\n",
      "*  2 1 0 0.14678510968841535 4.25 solMass 1.5034235160762157 AU 0.31622776601683794\n",
      "*  2 2 0 0.21733229953644212 4.25 solMass 2.1275676370571617 AU 0.31622776601683794\n",
      "*  2 3 0 0.294659537563389 4.25 solMass 2.751711758038108 AU 0.31622776601683794\n",
      "*  2 4 0 0.3794174517926348 4.25 solMass 3.375855879019054 AU 0.31622776601683794\n",
      "*  2 5 0 0.4715569318092619 4.25 solMass 4.0 AU 0.31622776601683794\n",
      "*  3 0 0 0.0821006840340605 6.125 solMass 1.267196775284359 AU 0.31622776601683794\n",
      "*  3 1 0 0.12061594200453561 6.125 solMass 1.8137574202274873 AU 0.31622776601683794\n",
      "*  3 2 0 0.1611631853065386 6.125 solMass 2.3603180651706155 AU 0.31622776601683794\n",
      "*  3 3 0 0.20390238347447834 6.125 solMass 2.9068787101137437 AU 0.31622776601683794\n",
      "*  3 4 0 0.24903283160858639 6.125 solMass 3.4534393550568723 AU 0.31622776601683794\n",
      "*  3 5 0 0.29673956729527146 6.125 solMass 4.0 AU 0.31622776601683794\n",
      "*  4 0 0 0.08205292897845151 8.0 solMass 1.6551141554734485 AU 0.31622776601683794\n",
      "*  4 1 0 0.10709477016460733 8.0 solMass 2.124091324378759 AU 0.31622776601683794\n",
      "*  4 2 0 0.13297499268303228 8.0 solMass 2.5930684932840693 AU 0.31622776601683794\n",
      "*  4 3 0 0.15973742223777176 8.0 solMass 3.0620456621893792 AU 0.31622776601683794\n",
      "*  4 4 0 0.18743241582036907 8.0 solMass 3.5310228310946896 AU 0.31622776601683794\n",
      "*  4 5 0 0.21611266608129467 8.0 solMass 4.0 AU 0.31622776601683794\n"
     ]
    }
   ],
   "source": [
    "# Calculate ioniastion front for grid\n",
    "r_I_list = np.zeros((len(mass_list), len(radii_list[0, :]), len(m_dot_list)))\n",
    "print(r_I_list.shape)\n",
    "for k, m_dot in enumerate(m_dot_list):\n",
    "    for i, M_s in enumerate(mass_list):\n",
    "        for j, R_s in enumerate(radii_list[i, :]):\n",
    "            try:\n",
    "                res = ionisation_front(m_dot, M_s, M_BH, R_s, a_H, a_P, d, R_bins = 300)\n",
    "                r_I_list[i, j, k] = res\n",
    "                print(\"* \", i, j, k, res, mass_list[i], radii_list[i, j], m_dot_list[k])\n",
    "            except ValueError as v:\n",
    "                print(\"- ValueError: \", v)\n",
    "                print(\"- \", i, j, k, \"Fail\", mass_list[i], radii_list[i, j], m_dot_list[k])\n",
    "                break"
   ]
  },
  {
   "cell_type": "code",
   "execution_count": 40,
   "metadata": {},
   "outputs": [
    {
     "data": {
      "text/plain": [
       "<matplotlib.image.AxesImage at 0x7fe140bbc910>"
      ]
     },
     "execution_count": 40,
     "metadata": {},
     "output_type": "execute_result"
    },
    {
     "data": {
      "image/png": "[encoded data removed]",
      "text/plain": [
       "<Figure size 640x480 with 1 Axes>"
      ]
     },
     "metadata": {},
     "output_type": "display_data"
    }
   ],
   "source": [
    "# Plot grid r_I values\n",
    "plt.imshow(np.log10(r_I_list[:,:,-1]))"
   ]
  },
  {
   "cell_type": "code",
   "execution_count": 42,
   "metadata": {},
   "outputs": [
    {
     "name": "stderr",
     "output_type": "stream",
     "text": [
      "/Users/jacopouggeri/workspace/photoev/density.py:44: RuntimeWarning: invalid value encountered in double_scalars\n",
      "  arg = -(ratio)**4 * np.exp(3 - 4*ratio)\n",
      "/Users/jacopouggeri/workspace/photoev/density.py:87: RuntimeWarning: invalid value encountered in double_scalars\n",
      "  return ((r_I/r)**2) * rho_p * m_ratio\n"
     ]
    }
   ],
   "source": [
    "# Find mass loss rate over grid\n",
    "m_loss_list = np.zeros((len(mass_list), len(radii_list[0, :]), len(m_dot_list))) * u.solMass/u.a\n",
    "for k, m_dot in enumerate(m_dot_list):\n",
    "    for i, M_s in enumerate(mass_list):\n",
    "        for j, R_s in enumerate(radii_list[i, :]):\n",
    "                r_I = r_I_list[i, j, k]\n",
    "                M_dot = mass_loss_rate(r_I, R_s, M_s, a_H, a_P).decompose()\n",
    "                m_loss_list[i, j, k] = M_dot.to(u.solMass/u.a)"
   ]
  },
  {
   "cell_type": "code",
   "execution_count": 44,
   "metadata": {},
   "outputs": [
    {
     "data": {
      "text/plain": [
       "<matplotlib.image.AxesImage at 0x7fe140bbcd30>"
      ]
     },
     "execution_count": 44,
     "metadata": {},
     "output_type": "execute_result"
    },
    {
     "data": {
      "image/png": "[encoded data removed]",
      "text/plain": [
       "<Figure size 640x480 with 1 Axes>"
      ]
     },
     "metadata": {},
     "output_type": "display_data"
    }
   ],
   "source": [
    "plt.imshow(np.log10(m_loss_list[:,:,0].value))"
   ]
  },
  {
   "cell_type": "code",
   "execution_count": 49,
   "metadata": {},
   "outputs": [
    {
     "data": {
      "text/plain": [
       "<matplotlib.collections.PathCollection at 0x7fe140b45450>"
      ]
     },
     "execution_count": 49,
     "metadata": {},
     "output_type": "execute_result"
    },
    {
     "data": {
      "image/png": "[encoded data removed]",
      "text/plain": [
       "<Figure size 640x480 with 2 Axes>"
      ]
     },
     "metadata": {},
     "output_type": "display_data"
    }
   ],
   "source": [
    "from matplotlib import cm, colors, ticker\n",
    "X = np.tensordot(mass_list, np.ones(N + 1), axes=0).value\n",
    "Y = radii_list.to(u.astronomical_unit).value\n",
    "Z = m_loss_list[:, :, 0].to(u.solMass/u.a).value\n",
    "\n",
    "plt.xlabel(r\"Mass $(M_{\\odot}$)\")\n",
    "plt.ylabel(\"Radius (AU)\")\n",
    "plt.contourf(X, Y, np.log10(Z), 20)\n",
    "plt.colorbar()\n",
    "plt.scatter(X, Y)"
   ]
  },
  {
   "cell_type": "code",
   "execution_count": 52,
   "metadata": {},
   "outputs": [],
   "source": [
    "# Find mass loss rate over grid\n",
    "v_esc_list = np.zeros((len(mass_list), len(radii_list[:, 0]), len(m_dot_list))) * u.m/u.s\n",
    "for i, M_s in enumerate(mass_list):\n",
    "    for j, R_s in enumerate(radii_list[:, i]):\n",
    "        v_esc_list[i, j] = np.sqrt(2*G*M_s/R_s).decompose()"
   ]
  },
  {
   "cell_type": "code",
   "execution_count": 53,
   "metadata": {},
   "outputs": [
    {
     "name": "stdout",
     "output_type": "stream",
     "text": [
      "[[[92606.        ]\n",
      "  [42490.54690163]\n",
      "  [31763.59595141]\n",
      "  [26458.85714286]\n",
      "  [23151.5       ]]\n",
      "\n",
      " [[69090.70888104]\n",
      "  [59429.6788794 ]\n",
      "  [52941.86621943]\n",
      "  [48200.36363891]\n",
      "  [44540.3190097 ]]\n",
      "\n",
      " [[67356.31807045]\n",
      "  [63083.95505552]\n",
      "  [59533.4274036 ]\n",
      "  [56521.97240144]\n",
      "  [53925.67371936]]\n",
      "\n",
      " [[66718.0977003 ]\n",
      "  [64693.88686986]\n",
      "  [62843.40174009]\n",
      "  [61143.13460014]\n",
      "  [59573.80286509]]\n",
      "\n",
      " [[66386.33791924]\n",
      "  [65600.9066725 ]\n",
      "  [64842.70944829]\n",
      "  [64110.20792011]\n",
      "  [63401.98272633]]] m / s\n"
     ]
    },
    {
     "data": {
      "image/png": "[encoded data removed]",
      "text/plain": [
       "<Figure size 640x480 with 1 Axes>"
      ]
     },
     "metadata": {},
     "output_type": "display_data"
    }
   ],
   "source": [
    "plt.imshow(v_esc_list)\n",
    "print(v_esc_list)"
   ]
  },
  {
   "cell_type": "code",
   "execution_count": 55,
   "metadata": {},
   "outputs": [
    {
     "name": "stdout",
     "output_type": "stream",
     "text": [
      "(array([0]), array([0]), array([0])) [0.5] solMass [[0.10344463 0.88275571 1.66206678 2.44137785 3.22068893 4.        ]] AU\n",
      "[[92606.         31700.99136316 23103.02649898 19062.31362866\n",
      "  16596.58447981 14892.34591484]] m / s\n"
     ]
    }
   ],
   "source": [
    "pos = np.where(m_loss_list == np.nanmin(m_loss_list[:10,:]))\n",
    "mass_min = mass_list[pos[0]]\n",
    "radius_min = radii_list[pos[1]]\n",
    "print(pos, mass_min, radius_min)\n",
    "print(np.sqrt(2*G*mass_min/radius_min).decompose())"
   ]
  },
  {
   "cell_type": "code",
   "execution_count": 16,
   "metadata": {},
   "outputs": [],
   "source": [
    "import os\n",
    "def new_fname(name, path=\"data\", form=\"txt\"):\n",
    "    \"\"\"Generate file name not present in the directory from given string.\n",
    "\n",
    "    Parameters\n",
    "    ----------\n",
    "    name : str\n",
    "        proposed file name\n",
    "    path : str, optional\n",
    "        directory in which the file will be saved, use empty string for current directory, by default \"data\"\n",
    "    form : str, optional\n",
    "        format of file, eg. \"txt\" or \"npy\"\n",
    "    \"\"\"\n",
    "    # Folder path where the files are located\n",
    "    folder_path = \"data\"\n",
    "\n",
    "    # Desired file name\n",
    "    file_name = name\n",
    "    current_file_name = file_name + \".\" + form\n",
    "    current_file_path = os.path.join(folder_path, current_file_name)\n",
    "\n",
    "    # Initialize the file number\n",
    "    file_num = 1\n",
    "\n",
    "    # Check if file name already exists in the folder\n",
    "    while True:\n",
    "        current_file_name = file_name + str(file_num) + \".\" + form\n",
    "        current_file_path = os.path.join(folder_path, current_file_name)\n",
    "        if os.path.exists(current_file_path):\n",
    "            file_num += 1\n",
    "        else:\n",
    "            break\n",
    "\n",
    "    return current_file_path"
   ]
  },
  {
   "cell_type": "code",
   "execution_count": 17,
   "metadata": {},
   "outputs": [],
   "source": [
    "# Save data in files\n",
    "np.savetxt(new_fname(\"mass_list\"), mass_list.to(u.solMass).value) # In solar masses\n",
    "np.savetxt(new_fname(\"radii_list\"), radii_list.to(u.astronomical_unit).value) # In astronomical units\n",
    "np.savetxt(new_fname(\"m_dot_list\"), m_dot_list)\n",
    "# 3D arrays in npy format\n",
    "np.save(new_fname(\"r_I_list\", form=\"npy\"), r_I_list)\n",
    "np.save(new_fname(\"m_loss_list\", form=\"npy\"), m_loss_list.to(u.solMass/u.a).value) # In solar masses per year\n",
    "\n"
   ]
  },
  {
   "cell_type": "code",
   "execution_count": 18,
   "metadata": {},
   "outputs": [
    {
     "name": "stdout",
     "output_type": "stream",
     "text": [
      "{'T_H': <Quantity 3500. K>, 'T_P': <Quantity 10000. K>, 'mu_H': <Quantity 1. g / mol>, 'mu_P': <Quantity 0.5 g / mol>, 'M_BH': <Quantity 7.95363948e+36 kg>, 'd': <Quantity 0.05 pc>}\n"
     ]
    }
   ],
   "source": [
    "params = {\n",
    "    'T_H': T_H,\n",
    "    'T_P': T_P,\n",
    "    'mu_H': mu_H,\n",
    "    'mu_P': mu_P,\n",
    "    'M_BH': M_BH,\n",
    "    'd': d\n",
    "}\n",
    "print(params)\n",
    "np.save(new_fname(\"params\", form=\"npy\"), params)"
   ]
  },
  {
   "attachments": {},
   "cell_type": "markdown",
   "metadata": {},
   "source": [
    "### Resolution check\n",
    "Radial bins for integration go up to $10R_c$, check that bin number contain at least 3 bins per scale height"
   ]
  },
  {
   "cell_type": "code",
   "execution_count": 64,
   "metadata": {},
   "outputs": [
    {
     "data": {
      "text/plain": [
       "<matplotlib.image.AxesImage at 0x7fe100d3c6a0>"
      ]
     },
     "execution_count": 64,
     "metadata": {},
     "output_type": "execute_result"
    },
    {
     "data": {
      "image/png": "[encoded data removed]",
      "text/plain": [
       "<Figure size 640x480 with 1 Axes>"
      ]
     },
     "metadata": {},
     "output_type": "display_data"
    }
   ],
   "source": [
    "R_bins = 300\n",
    "arr = np.zeros((len(mass_list), len(radii_list[0, :])))\n",
    "\n",
    "for i, M_s in enumerate(mass_list):\n",
    "    R_c = parker_critical(a_P, M_s)\n",
    "    for j, R_s in enumerate(radii_list[i, :]):\n",
    "        H = a_P**2/(G*M_s/R_s**2) # scale height\n",
    "        arr[i, j] = 10*R_c/R_bins < 3*H\n",
    "\n",
    "plt.imshow(arr)"
   ]
  },
  {
   "cell_type": "code",
   "execution_count": 88,
   "metadata": {},
   "outputs": [
    {
     "name": "stdout",
     "output_type": "stream",
     "text": [
      "1308 True\n",
      "215 True\n",
      "204 True\n",
      "201 True\n",
      "201 True\n",
      "200 True\n",
      "1308 True\n",
      "387 True\n",
      "274 True\n",
      "239 True\n",
      "224 True\n",
      "216 True\n",
      "1308 True\n",
      "579 True\n",
      "389 True\n",
      "313 True\n",
      "275 True\n",
      "253 True\n",
      "1308 True\n",
      "740 True\n",
      "519 True\n",
      "410 True\n",
      "349 True\n",
      "311 True\n",
      "1308 True\n",
      "872 True\n",
      "651 True\n",
      "523 True\n",
      "443 True\n",
      "389 True\n"
     ]
    }
   ],
   "source": [
    "# Find necessary bin sizes\n",
    "bin_sizes = np.zeros((len(mass_list), len(radii_list[0, :])))\n",
    "for i, M_s in enumerate(mass_list):\n",
    "    R_c = parker_critical(a_P, M_s)\n",
    "    for j, R_s in enumerate(radii_list[i, :]):\n",
    "        H = a_P**2/(G*M_s/R_s**2) # scale height\n",
    "        right_R_bins = int((10*R_c)/(3*H) + 200)\n",
    "        bin_sizes[i, j] = right_R_bins\n",
    "        print(right_R_bins, 10*R_c/right_R_bins < 3*H)"
   ]
  },
  {
   "cell_type": "code",
   "execution_count": 95,
   "metadata": {},
   "outputs": [
    {
     "name": "stdout",
     "output_type": "stream",
     "text": [
      "[[1308.  215.  204.  201.  201.  200.]\n",
      " [1308.  387.  274.  239.  224.  216.]\n",
      " [1308.  579.  389.  313.  275.  253.]\n",
      " [1308.  740.  519.  410.  349.  311.]\n",
      " [1308.  872.  651.  523.  443.  389.]]\n"
     ]
    }
   ],
   "source": [
    "print(bin_sizes)"
   ]
  }
 ],
 "metadata": {
  "kernelspec": {
   "display_name": "base",
   "language": "python",
   "name": "python3"
  },
  "language_info": {
   "codemirror_mode": {
    "name": "ipython",
    "version": 3
   },
   "file_extension": ".py",
   "mimetype": "text/x-python",
   "name": "python",
   "nbconvert_exporter": "python",
   "pygments_lexer": "ipython3",
   "version": "3.10.9"
  },
  "orig_nbformat": 4,
  "vscode": {
   "interpreter": {
    "hash": "c4f9c5809ecabaaaa7b0c8538f32fe536d290921c824ef35e83345dde2802ef7"
   }
  }
 },
 "nbformat": 4,
 "nbformat_minor": 2
}
