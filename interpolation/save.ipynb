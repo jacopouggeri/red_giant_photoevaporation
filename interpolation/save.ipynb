{
 "cells": [
  {
   "cell_type": "code",
   "execution_count": 2,
   "metadata": {},
   "outputs": [
    {
     "name": "stdout",
     "output_type": "stream",
     "text": [
      "Data for m_dot = 0.1 saved to data/mass_loss_data_m_dot_0.10.h5.\n",
      "Data for m_dot = 0.31622776601683794 saved to data/mass_loss_data_m_dot_0.32.h5.\n",
      "Data for m_dot = 1.0 saved to data/mass_loss_data_m_dot_1.00.h5.\n"
     ]
    }
   ],
   "source": [
    "import numpy as np\n",
    "import h5py\n",
    "\n",
    "# Load data\n",
    "r_list = np.tensordot(np.loadtxt(\"../data/radii_list1.txt\"), np.ones(3), axes = 0)\n",
    "mass_list = np.tensordot(np.tensordot(np.loadtxt(\"../data/mass_list1.txt\"), np.ones(len(r_list[0, :])), axes=0), np.ones(3), axes = 0)\n",
    "m_loss_list = np.load(\"../data/m_loss_list1.npy\")\n",
    "m_dot_list = np.loadtxt(\"../data/m_dot_list1.txt\")\n",
    "\n",
    "# Ensure the dimensions match\n",
    "assert mass_list.shape == r_list.shape == m_loss_list.shape, \"Dimension mismatch in the data arrays\"\n",
    "\n",
    "# Iterate over each m_dot slice\n",
    "for i, m_dot in enumerate(m_dot_list):\n",
    "    # Extract the data for the current m_dot slice\n",
    "    mass_slice = mass_list[:, :, i].flatten()\n",
    "    radius_slice = r_list[:, :, i].flatten()\n",
    "    mass_loss_slice = m_loss_list[:, :, i].flatten()\n",
    "\n",
    "    # Save data to HDF5 for the current m_dot slice\n",
    "    filename = f'data/mass_loss_data_m_dot_{m_dot:.2f}.h5'\n",
    "    with h5py.File(filename, 'w') as f:\n",
    "        f.create_dataset('mass', data=mass_slice)\n",
    "        f.create_dataset('radius', data=radius_slice)\n",
    "        f.create_dataset('mass_loss', data=mass_loss_slice)\n",
    "\n",
    "    print(f\"Data for m_dot = {m_dot} saved to {filename}.\")"
   ]
  },
  {
   "cell_type": "code",
   "execution_count": 3,
   "metadata": {},
   "outputs": [
    {
     "name": "stdout",
     "output_type": "stream",
     "text": [
      "Inspecting HDF5 file: data/mass_loss_data_m_dot_0.32.h5\n",
      "Datasets contained in this file:\n",
      "  Dataset 'mass': shape=(240,), dtype=float64\n",
      "  Dataset 'mass_loss': shape=(240,), dtype=float64\n",
      "  Dataset 'radius': shape=(240,), dtype=float64\n"
     ]
    }
   ],
   "source": [
    "def inspect_hdf5_file(file_path):\n",
    "    with h5py.File(file_path, 'r') as file:\n",
    "        print(\"Inspecting HDF5 file:\", file_path)\n",
    "        print(\"Datasets contained in this file:\")\n",
    "        for dataset_name in file:\n",
    "            dataset = file[dataset_name]\n",
    "            print(f\"  Dataset '{dataset_name}': shape={dataset.shape}, dtype={dataset.dtype}\")\n",
    "\n",
    "hdf5_file_path = 'data/mass_loss_data_m_dot_0.32.h5'  # Replace with your HDF5 file path\n",
    "inspect_hdf5_file(hdf5_file_path)"
   ]
  },
  {
   "cell_type": "code",
   "execution_count": null,
   "metadata": {},
   "outputs": [],
   "source": []
  }
 ],
 "metadata": {
  "kernelspec": {
   "display_name": "base",
   "language": "python",
   "name": "python3"
  },
  "language_info": {
   "codemirror_mode": {
    "name": "ipython",
    "version": 3
   },
   "file_extension": ".py",
   "mimetype": "text/x-python",
   "name": "python",
   "nbconvert_exporter": "python",
   "pygments_lexer": "ipython3",
   "version": "3.10.9"
  }
 },
 "nbformat": 4,
 "nbformat_minor": 2
}
