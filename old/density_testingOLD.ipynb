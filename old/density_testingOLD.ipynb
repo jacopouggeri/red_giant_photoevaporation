{
 "cells": [
  {
   "cell_type": "code",
   "execution_count": null,
   "metadata": {},
   "outputs": [],
   "source": [
    "# Modules\n",
    "import numpy as np\n",
    "import matplotlib.pyplot as plt # for plotting\n",
    "from astropy import units # manages units"
   ]
  },
  {
   "cell_type": "markdown",
   "metadata": {},
   "source": [
    "## Density profile in isothermal hydrostatic equilibrium:\n",
    "$$ \\rho(r) = \\rho_0 e^{\\frac{r_0}{r} - 2\\frac{r_0}{r_c}}$$\n",
    "with $$ R_0 = \\frac{GM_*\\mu}{RT} $$\n",
    "$G$ gravitational constant,\n",
    "$M_*$ Mass of the star,\n",
    "$R$ ideal gas constant,\n",
    "$T$ Temperature (constant)"
   ]
  },
  {
   "cell_type": "markdown",
   "metadata": {},
   "source": [
    "## Mach number of steady parker wind as function of radius\n",
    "\n",
    "$$ M(r) = \\sqrt{-W[-\\frac{r_c^4}{r^4} e^{3 - 4 \\frac{r_c}{r}}]}$$\n",
    "\n",
    "Where $M = v/a$, $v$ is the flow velocity (constant in time for steady flow, function of r) and $c_s$ is the speed of sound"
   ]
  },
  {
   "cell_type": "markdown",
   "metadata": {},
   "source": [
    "## Density profile from steady parker wind\n",
    "\n",
    "Using mass conservation $\\dot M = 4 \\pi r^2 \\rho(r) v(r)$\n",
    "\n",
    "obtain $r^2 \\rho(r) v(r) = r_c^2 \\rho(r_c) v(r_c) $\n",
    "\n",
    "recall $v(r_c) = a$ so:\n",
    "$$\\rho(r) = \\frac{r_c^2}{r^2}\\frac{\\rho(r_c)}{M(r)}$$"
   ]
  },
  {
   "cell_type": "code",
   "execution_count": null,
   "metadata": {},
   "outputs": [],
   "source": []
  },
  {
   "cell_type": "code",
   "execution_count": null,
   "metadata": {},
   "outputs": [],
   "source": [
    "def "
   ]
  }
 ],
 "metadata": {
  "kernelspec": {
   "display_name": "Python 3.9.6 64-bit",
   "language": "python",
   "name": "python3"
  },
  "language_info": {
   "name": "python",
   "version": "3.9.6"
  },
  "orig_nbformat": 4,
  "vscode": {
   "interpreter": {
    "hash": "31f2aee4e71d21fbe5cf8b01ff0e069b9275f58929596ceb00d14d90e3e16cd6"
   }
  }
 },
 "nbformat": 4,
 "nbformat_minor": 2
}
